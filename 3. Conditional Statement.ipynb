{
 "cells": [
  {
   "cell_type": "markdown",
   "id": "ab23765e",
   "metadata": {},
   "source": [
    "# If Statement"
   ]
  },
  {
   "cell_type": "code",
   "execution_count": 2,
   "id": "46537bcd",
   "metadata": {},
   "outputs": [
    {
     "name": "stdout",
     "output_type": "stream",
     "text": [
      "Invalid marks!\n"
     ]
    }
   ],
   "source": [
    "obtained_marks = 120\n",
    "if(obtained_marks > 100):\n",
    "    print(\"Invalid marks!\")"
   ]
  },
  {
   "cell_type": "code",
   "execution_count": 9,
   "id": "0b09bc6c",
   "metadata": {},
   "outputs": [
    {
     "name": "stdout",
     "output_type": "stream",
     "text": [
      "Input marks for students\n",
      "99\n"
     ]
    }
   ],
   "source": [
    "print(\"Input marks for students\")\n",
    "obtained_marks = int(input())\n",
    "if(obtained_marks > 100):\n",
    "    print(\"Invalid marks!\")"
   ]
  },
  {
   "cell_type": "markdown",
   "id": "be0e8430",
   "metadata": {},
   "source": [
    "# Else Statement\n",
    "It is never used alone as it complements previous 'if' statement. When used together, we have if-else statement. "
   ]
  },
  {
   "cell_type": "code",
   "execution_count": 19,
   "id": "882984d7",
   "metadata": {},
   "outputs": [
    {
     "name": "stdout",
     "output_type": "stream",
     "text": [
      "Input marks for students\n",
      "120\n",
      "Invalid marks!\n"
     ]
    }
   ],
   "source": [
    "print(\"Input marks for students\")\n",
    "obtained_marks = int(input())\n",
    "\n",
    "if(obtained_marks > 100):\n",
    "    print(\"Invalid marks!\")\n",
    "    exit(1)\n",
    "else:\n",
    "    print(\"Valid marks input\")\n",
    "    if(obtained_marks > 80):\n",
    "        print(\"Excellent mark\")\n",
    "    else:\n",
    "        print(\"Not excellent\")"
   ]
  },
  {
   "cell_type": "markdown",
   "id": "001fc568",
   "metadata": {},
   "source": [
    "# If-Else Statement\n",
    "If-else statement is represented by using elif() command. It is "
   ]
  },
  {
   "cell_type": "code",
   "execution_count": 16,
   "id": "aecc5724",
   "metadata": {},
   "outputs": [
    {
     "name": "stdout",
     "output_type": "stream",
     "text": [
      "Input marks for students\n",
      "70\n",
      "Valid marks input\n",
      "Not excellent\n"
     ]
    }
   ],
   "source": [
    "#Similar code to above\n",
    "\n",
    "print(\"Input marks for students\")\n",
    "obtained_marks = int(input())\n",
    "\n",
    "if(obtained_marks > 100):\n",
    "    print(\"Invalid marks!\")\n",
    "    exit(1)\n",
    "    \n",
    "elif (obtained_marks <= 100):\n",
    "    print(\"Valid marks input\")\n",
    "    \n",
    "    if(obtained_marks >= 80):\n",
    "        print(\"Excellent mark\")\n",
    "    \n",
    "    else:\n",
    "        print(\"Not excellent\")"
   ]
  },
  {
   "cell_type": "markdown",
   "id": "5082ecf2",
   "metadata": {},
   "source": [
    "# Switch Statement\n",
    "Consider the statement below."
   ]
  },
  {
   "cell_type": "code",
   "execution_count": 1,
   "id": "8ba6e490",
   "metadata": {},
   "outputs": [
    {
     "data": {
      "text/plain": [
       "'Friday'"
      ]
     },
     "execution_count": 1,
     "metadata": {},
     "output_type": "execute_result"
    }
   ],
   "source": [
    "# Begin the switch definition as follows \n",
    "switch = {\n",
    "    1: 'Monday',\n",
    "    2: 'Tuesday',\n",
    "    3: 'Wednesday',\n",
    "    4: 'Thursday',\n",
    "    5: 'Friday',\n",
    "    6: 'Saturday',\n",
    "    7: 'Sunday'\n",
    "    }\n",
    "switch.get(5)\n",
    "\n",
    "# Note how the switch statement is similar to that of indexing "
   ]
  },
  {
   "cell_type": "code",
   "execution_count": 3,
   "id": "10f2f8db",
   "metadata": {},
   "outputs": [
    {
     "name": "stdout",
     "output_type": "stream",
     "text": [
      "Jan\n",
      "Mar\n"
     ]
    }
   ],
   "source": [
    "# We can also implement some kind of conditional switch statement \n",
    "# as follows\n",
    "\n",
    "class Python_Switch:\n",
    "\tdef day(self, month):\n",
    "\n",
    "\t\tdefault = \"Incorrect day\"\n",
    "\n",
    "\t\treturn getattr(self, 'case_' + str(month), lambda: default)()\n",
    "\n",
    "\tdef case_1(self):\n",
    "\t\treturn \"Jan\"\n",
    "\n",
    "\tdef case_2(self):\n",
    "\t\treturn \"Feb\"\n",
    "\n",
    "\tdef case_3(self):\n",
    "\t\treturn \"Mar\"\n",
    "\n",
    "\n",
    "my_switch = Python_Switch()\n",
    "\n",
    "print(my_switch.day(1))\n",
    "\n",
    "print(my_switch.day(3))\n"
   ]
  },
  {
   "cell_type": "code",
   "execution_count": 11,
   "id": "33b756bb",
   "metadata": {},
   "outputs": [
    {
     "name": "stdout",
     "output_type": "stream",
     "text": [
      "zero\n"
     ]
    }
   ],
   "source": [
    "# For Python 3.10 and above, consider using match instead of index\n",
    "# switch\n",
    "\n",
    "# This code runs only in python 3.10 or above versions\n",
    "def number_to_string(argument):\n",
    "\tmatch argument:\n",
    "\t\tcase 0:\n",
    "\t\t\treturn \"zero\"\n",
    "\t\tcase 1:\n",
    "\t\t\treturn \"one\"\n",
    "\t\tcase 2:\n",
    "\t\t\treturn \"two\"\n",
    "\t\tcase default:\n",
    "\t\t\treturn \"something\"\n",
    "\n",
    "\n",
    "if __name__ == \"__main__\":\n",
    "\targument = 0\n",
    "\tprint(number_to_string(argument))\n"
   ]
  },
  {
   "cell_type": "code",
   "execution_count": null,
   "id": "6a6d7188",
   "metadata": {},
   "outputs": [],
   "source": []
  }
 ],
 "metadata": {
  "celltoolbar": "Slideshow",
  "kernelspec": {
   "display_name": "Python 3 (ipykernel)",
   "language": "python",
   "name": "python3"
  },
  "language_info": {
   "codemirror_mode": {
    "name": "ipython",
    "version": 3
   },
   "file_extension": ".py",
   "mimetype": "text/x-python",
   "name": "python",
   "nbconvert_exporter": "python",
   "pygments_lexer": "ipython3",
   "version": "3.10.6"
  }
 },
 "nbformat": 4,
 "nbformat_minor": 5
}
