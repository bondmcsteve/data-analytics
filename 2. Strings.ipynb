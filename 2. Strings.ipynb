{
 "cells": [
  {
   "cell_type": "markdown",
   "id": "70966810",
   "metadata": {},
   "source": [
    "# String Operation"
   ]
  },
  {
   "cell_type": "markdown",
   "id": "83d21010",
   "metadata": {},
   "source": [
    "ord() function is used to convert the value of a character to its respective Unicode integer value.\n",
    "\n",
    "Resources: \n",
    "1. w3school - https://www.w3schools.com/python/ref_func_ord.asp"
   ]
  },
  {
   "cell_type": "code",
   "execution_count": 1,
   "id": "0f135639",
   "metadata": {},
   "outputs": [
    {
     "data": {
      "text/plain": [
       "97"
      ]
     },
     "execution_count": 1,
     "metadata": {},
     "output_type": "execute_result"
    }
   ],
   "source": [
    "ord(\"a\")"
   ]
  },
  {
   "cell_type": "code",
   "execution_count": 1,
   "id": "8e410af1",
   "metadata": {},
   "outputs": [],
   "source": [
    "ord?"
   ]
  },
  {
   "cell_type": "code",
   "execution_count": 3,
   "id": "aa636580",
   "metadata": {},
   "outputs": [
    {
     "data": {
      "text/plain": [
       "'A string enclosed in a single quote.'"
      ]
     },
     "execution_count": 3,
     "metadata": {},
     "output_type": "execute_result"
    }
   ],
   "source": [
    "#Type the following code to observe the output.\n",
    "'A string enclosed in a single quote.'\n"
   ]
  },
  {
   "cell_type": "markdown",
   "id": "069e93f5",
   "metadata": {},
   "source": [
    "# String Splicing\n"
   ]
  },
  {
   "cell_type": "markdown",
   "id": "28790f53",
   "metadata": {},
   "source": [
    "#### Suppose that we have string \"Hello world\" as value of a variable as below. String is saved in an array when assigned to a variable. The value for each char within the string can be accessed as follows."
   ]
  },
  {
   "cell_type": "code",
   "execution_count": 5,
   "id": "691d5ef9",
   "metadata": {},
   "outputs": [
    {
     "name": "stdout",
     "output_type": "stream",
     "text": [
      "H\n"
     ]
    }
   ],
   "source": [
    "x = \"Hello world\"\n",
    "print(x[0])"
   ]
  },
  {
   "cell_type": "markdown",
   "id": "a79d11ad",
   "metadata": {},
   "source": [
    "#### If we want to print a range of char within a string, we can do the following"
   ]
  },
  {
   "cell_type": "code",
   "execution_count": 6,
   "id": "79e8ee6b",
   "metadata": {},
   "outputs": [
    {
     "name": "stdout",
     "output_type": "stream",
     "text": [
      "Hello\n"
     ]
    }
   ],
   "source": [
    "print(x[0:5])"
   ]
  },
  {
   "cell_type": "markdown",
   "id": "bb03cfd6",
   "metadata": {},
   "source": [
    "#### The function len(x) gives us the integer value of a string length. Similarly, we can print a part of the string by setting the lower range and use len(x) for the rest of the string length"
   ]
  },
  {
   "cell_type": "code",
   "execution_count": 7,
   "id": "8088e328",
   "metadata": {},
   "outputs": [
    {
     "name": "stdout",
     "output_type": "stream",
     "text": [
      "world\n"
     ]
    }
   ],
   "source": [
    "print(x[6:len(x)])"
   ]
  },
  {
   "cell_type": "markdown",
   "id": "8507bb26",
   "metadata": {},
   "source": [
    "#### We can also verify the validity of a string using logical operators. Consider == operator to verify two separate strings combined have the same composition of a larger string."
   ]
  },
  {
   "cell_type": "code",
   "execution_count": 8,
   "id": "591b32b6",
   "metadata": {},
   "outputs": [
    {
     "data": {
      "text/plain": [
       "True"
      ]
     },
     "execution_count": 8,
     "metadata": {},
     "output_type": "execute_result"
    }
   ],
   "source": [
    "x = 'Hello world'\n",
    "x[:6] + x[6:] == x"
   ]
  },
  {
   "cell_type": "markdown",
   "id": "e5928e40",
   "metadata": {},
   "source": [
    "#### We can also inverse the string order by introducing negative step as follows"
   ]
  },
  {
   "cell_type": "code",
   "execution_count": 9,
   "id": "3b9942d5",
   "metadata": {},
   "outputs": [
    {
     "data": {
      "text/plain": [
       "'drwolH'"
      ]
     },
     "execution_count": 9,
     "metadata": {},
     "output_type": "execute_result"
    }
   ],
   "source": [
    "#syntax string[start:end:step]\n",
    "x = 'Hello world'\n",
    "x[10::-2]"
   ]
  },
  {
   "cell_type": "code",
   "execution_count": 11,
   "id": "58c31f59",
   "metadata": {},
   "outputs": [
    {
     "data": {
      "text/plain": [
       "'drwol'"
      ]
     },
     "execution_count": 11,
     "metadata": {},
     "output_type": "execute_result"
    }
   ],
   "source": [
    "#syntax string[start:end:step]\n",
    "x = 'Hello world'\n",
    "x[10:0:-2]"
   ]
  },
  {
   "cell_type": "markdown",
   "id": "4925f6f9",
   "metadata": {},
   "source": [
    "Observe that even if H occupies the 0th point, it does not read it. It strictly reads only for x < end for negative step, and x > end for positive step."
   ]
  },
  {
   "cell_type": "code",
   "execution_count": 1,
   "id": "0f6f3815",
   "metadata": {},
   "outputs": [
    {
     "data": {
      "text/plain": [
       "'Hlowr'"
      ]
     },
     "execution_count": 1,
     "metadata": {},
     "output_type": "execute_result"
    }
   ],
   "source": [
    "#syntax string[start:end:step]\n",
    "x = 'Hello world'\n",
    "x[0:10:2]"
   ]
  },
  {
   "cell_type": "markdown",
   "id": "3e622205",
   "metadata": {},
   "source": [
    "#### Similarly, for regular order is also possible as follows."
   ]
  },
  {
   "cell_type": "code",
   "execution_count": 10,
   "id": "42be1693",
   "metadata": {},
   "outputs": [
    {
     "data": {
      "text/plain": [
       "'el ol'"
      ]
     },
     "execution_count": 10,
     "metadata": {},
     "output_type": "execute_result"
    }
   ],
   "source": [
    "#syntax string[start:end:step]\n",
    "x = 'Hello world'\n",
    "x[1:10:2]"
   ]
  },
  {
   "cell_type": "code",
   "execution_count": 13,
   "id": "99f59045",
   "metadata": {},
   "outputs": [
    {
     "data": {
      "text/plain": [
       "'Hlowr'"
      ]
     },
     "execution_count": 13,
     "metadata": {},
     "output_type": "execute_result"
    }
   ],
   "source": [
    "#syntax string[start:end:step]\n",
    "x = 'Hello world'\n",
    "x[0:10:2]"
   ]
  },
  {
   "cell_type": "markdown",
   "id": "7075a0cb",
   "metadata": {},
   "source": [
    "#### Python automatically assumes reverse order if only negative step is specified with no start or end points. Observe as follows."
   ]
  },
  {
   "cell_type": "code",
   "execution_count": 2,
   "id": "5b404d6c",
   "metadata": {},
   "outputs": [
    {
     "data": {
      "text/plain": [
       "'drwolH'"
      ]
     },
     "execution_count": 2,
     "metadata": {},
     "output_type": "execute_result"
    }
   ],
   "source": [
    "#syntax string[start:end:step]\n",
    "x = 'Hello world'\n",
    "x[::-2]"
   ]
  },
  {
   "cell_type": "code",
   "execution_count": 3,
   "id": "91fbd2f7",
   "metadata": {},
   "outputs": [
    {
     "data": {
      "text/plain": [
       "'l'"
      ]
     },
     "execution_count": 3,
     "metadata": {},
     "output_type": "execute_result"
    }
   ],
   "source": [
    "x[-2]"
   ]
  },
  {
   "cell_type": "markdown",
   "id": "c87af235",
   "metadata": {},
   "source": [
    "#### We can duplicate the string using multiplication of the string. Note that this might appear confusing if one mislooked at the apostrophe."
   ]
  },
  {
   "cell_type": "code",
   "execution_count": 15,
   "id": "33c7dca4",
   "metadata": {},
   "outputs": [
    {
     "data": {
      "text/plain": [
       "'123123123'"
      ]
     },
     "execution_count": 15,
     "metadata": {},
     "output_type": "execute_result"
    }
   ],
   "source": [
    "str = '123' * 3\n",
    "str\n"
   ]
  },
  {
   "cell_type": "markdown",
   "id": "57e4b7ca",
   "metadata": {},
   "source": [
    "#### What if we use str() command? It is similar like before."
   ]
  },
  {
   "cell_type": "code",
   "execution_count": 16,
   "id": "6096ab9c",
   "metadata": {},
   "outputs": [
    {
     "data": {
      "text/plain": [
       "'333'"
      ]
     },
     "execution_count": 16,
     "metadata": {},
     "output_type": "execute_result"
    }
   ],
   "source": [
    "#syntax string[start:end:step]\n",
    "str = '123' * 3\n",
    "str[: :-3]"
   ]
  },
  {
   "cell_type": "markdown",
   "id": "9bc30914",
   "metadata": {},
   "source": [
    "# Build-in String Methods (Functions)"
   ]
  },
  {
   "cell_type": "code",
   "execution_count": 18,
   "id": "fb976ec2",
   "metadata": {},
   "outputs": [
    {
     "name": "stdout",
     "output_type": "stream",
     "text": [
      "Hello world\n"
     ]
    }
   ],
   "source": [
    "str1 = \"     Hello world    \"        \n",
    "print(str1.strip())"
   ]
  },
  {
   "cell_type": "code",
   "execution_count": 19,
   "id": "545c9966",
   "metadata": {},
   "outputs": [
    {
     "name": "stdout",
     "output_type": "stream",
     "text": [
      "hello world\n"
     ]
    }
   ],
   "source": [
    "#The method lower() returns the string in the lower case.\n",
    "str2 = \"Hello World\"\n",
    "print(str2.lower())"
   ]
  },
  {
   "cell_type": "code",
   "execution_count": 20,
   "id": "6d76bec0",
   "metadata": {},
   "outputs": [
    {
     "name": "stdout",
     "output_type": "stream",
     "text": [
      "HELLO WORLD\n"
     ]
    }
   ],
   "source": [
    "#The method upper() returns the string in the upper case.\n",
    "str3 = \"Hello World\"\n",
    "print(str3.upper())"
   ]
  },
  {
   "cell_type": "code",
   "execution_count": 21,
   "id": "31e25cf2",
   "metadata": {},
   "outputs": [
    {
     "name": "stdout",
     "output_type": "stream",
     "text": [
      "I like pineapples\n"
     ]
    }
   ],
   "source": [
    "#The method replace() replaces a string with another string.\n",
    "str4 = \"I like apples\"\n",
    "print(str4.replace(\"apples\", \"pineapples\"))"
   ]
  },
  {
   "cell_type": "code",
   "execution_count": 1,
   "id": "5be21f76",
   "metadata": {},
   "outputs": [
    {
     "data": {
      "text/plain": [
       "'hELLO, HOW ARE you DOING?'"
      ]
     },
     "execution_count": 1,
     "metadata": {},
     "output_type": "execute_result"
    }
   ],
   "source": [
    "'Hello, how are YOU doing?'.swapcase()"
   ]
  },
  {
   "cell_type": "code",
   "execution_count": 2,
   "id": "4787b2e9",
   "metadata": {},
   "outputs": [
    {
     "name": "stdout",
     "output_type": "stream",
     "text": [
      "['Hello', ' how are YOU doing?']\n"
     ]
    }
   ],
   "source": [
    "str5 = 'Hello, how are YOU doing?'\n",
    "print(str5.split(\",\"))"
   ]
  },
  {
   "cell_type": "code",
   "execution_count": 3,
   "id": "aaf457ad",
   "metadata": {},
   "outputs": [
    {
     "data": {
      "text/plain": [
       "11"
      ]
     },
     "execution_count": 3,
     "metadata": {},
     "output_type": "execute_result"
    }
   ],
   "source": [
    "str5.find(\"are\") \n",
    "# The output of the command tells us that the string \"are\"\n",
    "# begins at the 11th char within str5 string "
   ]
  },
  {
   "cell_type": "code",
   "execution_count": 7,
   "id": "651a9a13",
   "metadata": {},
   "outputs": [
    {
     "data": {
      "text/plain": [
       "'Hello, how are WE doing?'"
      ]
     },
     "execution_count": 7,
     "metadata": {},
     "output_type": "execute_result"
    }
   ],
   "source": [
    "str5.replace(\"YOU\",\"WE\")\n",
    "# Replacing a string with another string"
   ]
  },
  {
   "cell_type": "code",
   "execution_count": 9,
   "id": "5c990215",
   "metadata": {},
   "outputs": [
    {
     "name": "stdout",
     "output_type": "stream",
     "text": [
      "Hello, how are YOU doing?\n"
     ]
    },
    {
     "data": {
      "text/plain": [
       "9"
      ]
     },
     "execution_count": 9,
     "metadata": {},
     "output_type": "execute_result"
    }
   ],
   "source": [
    "print(str5)\n",
    "str5.rfind(\"w\")\n",
    "#Getting the index of a char within a string"
   ]
  },
  {
   "cell_type": "code",
   "execution_count": null,
   "id": "07b960b8",
   "metadata": {},
   "outputs": [],
   "source": []
  }
 ],
 "metadata": {
  "kernelspec": {
   "display_name": "Python 3 (ipykernel)",
   "language": "python",
   "name": "python3"
  },
  "language_info": {
   "codemirror_mode": {
    "name": "ipython",
    "version": 3
   },
   "file_extension": ".py",
   "mimetype": "text/x-python",
   "name": "python",
   "nbconvert_exporter": "python",
   "pygments_lexer": "ipython3",
   "version": "3.10.6"
  }
 },
 "nbformat": 4,
 "nbformat_minor": 5
}
