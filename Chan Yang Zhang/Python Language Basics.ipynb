{
 "cells": [
  {
   "cell_type": "markdown",
   "id": "22a5250e",
   "metadata": {},
   "source": [
    "# Header Sample\n",
    "Write something here... just check how it looks"
   ]
  },
  {
   "cell_type": "code",
   "execution_count": 3,
   "id": "33fbb998",
   "metadata": {},
   "outputs": [
    {
     "name": "stdout",
     "output_type": "stream",
     "text": [
      "Hello world!\n"
     ]
    }
   ],
   "source": [
    "print(\"Hello world!\")"
   ]
  },
  {
   "cell_type": "code",
   "execution_count": 4,
   "id": "686bc4ee",
   "metadata": {},
   "outputs": [
    {
     "data": {
      "text/plain": [
       "bool"
      ]
     },
     "execution_count": 4,
     "metadata": {},
     "output_type": "execute_result"
    }
   ],
   "source": [
    "a=True #it returns the type of 'a' as bool \n",
    "type(a) "
   ]
  },
  {
   "cell_type": "code",
   "execution_count": 5,
   "id": "3c76c1ff",
   "metadata": {},
   "outputs": [
    {
     "data": {
      "text/plain": [
       "False"
      ]
     },
     "execution_count": 5,
     "metadata": {},
     "output_type": "execute_result"
    }
   ],
   "source": [
    "bool_variable = 5 < 3\n",
    "bool_variable\n",
    "#why is the answer such?"
   ]
  },
  {
   "cell_type": "code",
   "execution_count": 6,
   "id": "6b5c3dd5",
   "metadata": {},
   "outputs": [
    {
     "data": {
      "text/plain": [
       "7"
      ]
     },
     "execution_count": 6,
     "metadata": {},
     "output_type": "execute_result"
    }
   ],
   "source": [
    "3+4"
   ]
  },
  {
   "cell_type": "code",
   "execution_count": 7,
   "id": "0c464ead",
   "metadata": {},
   "outputs": [
    {
     "data": {
      "text/plain": [
       "2"
      ]
     },
     "execution_count": 7,
     "metadata": {},
     "output_type": "execute_result"
    }
   ],
   "source": [
    "3+5-6"
   ]
  },
  {
   "cell_type": "code",
   "execution_count": 9,
   "id": "42e2d45a",
   "metadata": {},
   "outputs": [
    {
     "data": {
      "text/plain": [
       "-12"
      ]
     },
     "execution_count": 9,
     "metadata": {},
     "output_type": "execute_result"
    }
   ],
   "source": [
    "20-4*8"
   ]
  },
  {
   "cell_type": "code",
   "execution_count": 10,
   "id": "30c7fac2",
   "metadata": {},
   "outputs": [
    {
     "data": {
      "text/plain": [
       "-4.0"
      ]
     },
     "execution_count": 10,
     "metadata": {},
     "output_type": "execute_result"
    }
   ],
   "source": [
    "(20-4*8)/3"
   ]
  },
  {
   "cell_type": "code",
   "execution_count": 1,
   "id": "7159747d",
   "metadata": {},
   "outputs": [
    {
     "data": {
      "text/plain": [
       "2.5"
      ]
     },
     "execution_count": 1,
     "metadata": {},
     "output_type": "execute_result"
    }
   ],
   "source": [
    "#division always return a floting poing number\n",
    "10/4"
   ]
  },
  {
   "cell_type": "code",
   "execution_count": 1,
   "id": "4d159a46",
   "metadata": {},
   "outputs": [
    {
     "data": {
      "text/plain": [
       "6"
      ]
     },
     "execution_count": 1,
     "metadata": {},
     "output_type": "execute_result"
    }
   ],
   "source": [
    "50//8"
   ]
  },
  {
   "cell_type": "code",
   "execution_count": 2,
   "id": "7e3ab2fa",
   "metadata": {},
   "outputs": [
    {
     "data": {
      "text/plain": [
       "2"
      ]
     },
     "execution_count": 2,
     "metadata": {},
     "output_type": "execute_result"
    }
   ],
   "source": [
    "50%8 #To calculate the remainder, use % operator"
   ]
  },
  {
   "cell_type": "code",
   "execution_count": 3,
   "id": "66e54b45",
   "metadata": {},
   "outputs": [
    {
     "data": {
      "text/plain": [
       "32"
      ]
     },
     "execution_count": 3,
     "metadata": {},
     "output_type": "execute_result"
    }
   ],
   "source": [
    "2**5 #To calculate the power in Python, use ** operator"
   ]
  },
  {
   "cell_type": "code",
   "execution_count": 4,
   "id": "625ea6a5",
   "metadata": {},
   "outputs": [
    {
     "data": {
      "text/plain": [
       "float"
      ]
     },
     "execution_count": 4,
     "metadata": {},
     "output_type": "execute_result"
    }
   ],
   "source": [
    "type(4*3.4) #Operation with mixed type operands return output that has float data type"
   ]
  },
  {
   "cell_type": "code",
   "execution_count": 5,
   "id": "be67e8ce",
   "metadata": {},
   "outputs": [
    {
     "data": {
      "text/plain": [
       "(2+7j)"
      ]
     },
     "execution_count": 5,
     "metadata": {},
     "output_type": "execute_result"
    }
   ],
   "source": [
    "2+7j #Python has built-in support for complex numbers, and uses the j or J suffix to indicate the imaginary part"
   ]
  },
  {
   "cell_type": "code",
   "execution_count": 6,
   "id": "15b841dd",
   "metadata": {},
   "outputs": [
    {
     "data": {
      "text/plain": [
       "120"
      ]
     },
     "execution_count": 6,
     "metadata": {},
     "output_type": "execute_result"
    }
   ],
   "source": [
    "height = 10       #equal sign(=) use to assign a value to a variable\n",
    "width = 3*4\n",
    "width * height"
   ]
  },
  {
   "cell_type": "code",
   "execution_count": 1,
   "id": "df926f8f",
   "metadata": {},
   "outputs": [
    {
     "ename": "NameError",
     "evalue": "name 'Height' is not defined",
     "output_type": "error",
     "traceback": [
      "\u001b[1;31m---------------------------------------------------------------------------\u001b[0m",
      "\u001b[1;31mNameError\u001b[0m                                 Traceback (most recent call last)",
      "\u001b[1;32m~\\AppData\\Local\\Temp\\ipykernel_17392\\1619093021.py\u001b[0m in \u001b[0;36m<module>\u001b[1;34m\u001b[0m\n\u001b[1;32m----> 1\u001b[1;33m \u001b[0mHeight\u001b[0m \u001b[1;31m# If a variable is not assigned any value (not defined), we get an error\u001b[0m\u001b[1;33m\u001b[0m\u001b[1;33m\u001b[0m\u001b[0m\n\u001b[0m",
      "\u001b[1;31mNameError\u001b[0m: name 'Height' is not defined"
     ]
    }
   ],
   "source": [
    "Height # If a variable is not assigned any value (not defined), we get an error"
   ]
  },
  {
   "cell_type": "code",
   "execution_count": 9,
   "id": "ba35944f",
   "metadata": {},
   "outputs": [
    {
     "data": {
      "text/plain": [
       "20"
      ]
     },
     "execution_count": 9,
     "metadata": {},
     "output_type": "execute_result"
    }
   ],
   "source": [
    "my_variable = 10\n",
    "my_variable += 10\n",
    "my_variable"
   ]
  },
  {
   "cell_type": "code",
   "execution_count": 2,
   "id": "6e03f8f3",
   "metadata": {},
   "outputs": [
    {
     "data": {
      "text/plain": [
       "1000"
      ]
     },
     "execution_count": 2,
     "metadata": {},
     "output_type": "execute_result"
    }
   ],
   "source": [
    "my_variable1 = 10\n",
    "my_variable2 = 3\n",
    "my_variable1**= my_variable2\n",
    "my_variable1"
   ]
  },
  {
   "cell_type": "raw",
   "id": "5fb4d730",
   "metadata": {},
   "source": []
  },
  {
   "cell_type": "code",
   "execution_count": 10,
   "id": "ecc803f3",
   "metadata": {},
   "outputs": [
    {
     "data": {
      "text/plain": [
       "-3"
      ]
     },
     "execution_count": 10,
     "metadata": {},
     "output_type": "execute_result"
    }
   ],
   "source": [
    "~3+1"
   ]
  },
  {
   "cell_type": "code",
   "execution_count": 5,
   "id": "da3bd513",
   "metadata": {},
   "outputs": [],
   "source": [
    "x = 2 #Operands\n",
    "y = 5 #2(00000010) 5(00000101)"
   ]
  },
  {
   "cell_type": "code",
   "execution_count": 7,
   "id": "b5f7a1da",
   "metadata": {},
   "outputs": [
    {
     "name": "stdout",
     "output_type": "stream",
     "text": [
      "0b10\n",
      "0b101\n"
     ]
    }
   ],
   "source": [
    "print(bin(x))\n",
    "print(bin(y))"
   ]
  },
  {
   "cell_type": "code",
   "execution_count": 2,
   "id": "2a79a4fa",
   "metadata": {},
   "outputs": [
    {
     "data": {
      "text/plain": [
       "0"
      ]
     },
     "execution_count": 2,
     "metadata": {},
     "output_type": "execute_result"
    }
   ],
   "source": [
    "x&y #Bitwise AND"
   ]
  },
  {
   "cell_type": "code",
   "execution_count": 13,
   "id": "2b953e1a",
   "metadata": {},
   "outputs": [
    {
     "data": {
      "text/plain": [
       "7"
      ]
     },
     "execution_count": 13,
     "metadata": {},
     "output_type": "execute_result"
    }
   ],
   "source": [
    "x|y #Bitwise OR"
   ]
  },
  {
   "cell_type": "code",
   "execution_count": 3,
   "id": "2f8ef943",
   "metadata": {},
   "outputs": [
    {
     "data": {
      "text/plain": [
       "-3"
      ]
     },
     "execution_count": 3,
     "metadata": {},
     "output_type": "execute_result"
    }
   ],
   "source": [
    "~x #Bitwise NOT, 2's complement bitwise but no bit inversion and not signed"
   ]
  },
  {
   "cell_type": "code",
   "execution_count": 4,
   "id": "4114e1f5",
   "metadata": {},
   "outputs": [
    {
     "data": {
      "text/plain": [
       "-6"
      ]
     },
     "execution_count": 4,
     "metadata": {},
     "output_type": "execute_result"
    }
   ],
   "source": [
    "~y"
   ]
  },
  {
   "cell_type": "code",
   "execution_count": 15,
   "id": "ded5e704",
   "metadata": {},
   "outputs": [
    {
     "data": {
      "text/plain": [
       "7"
      ]
     },
     "execution_count": 15,
     "metadata": {},
     "output_type": "execute_result"
    }
   ],
   "source": [
    "x^y #Bitwise XOR"
   ]
  },
  {
   "cell_type": "code",
   "execution_count": 16,
   "id": "54f8f6ac",
   "metadata": {},
   "outputs": [
    {
     "data": {
      "text/plain": [
       "1"
      ]
     },
     "execution_count": 16,
     "metadata": {},
     "output_type": "execute_result"
    }
   ],
   "source": [
    "y>>2 #Bitwise right shift"
   ]
  },
  {
   "cell_type": "code",
   "execution_count": 18,
   "id": "0a23d1bb",
   "metadata": {},
   "outputs": [
    {
     "data": {
      "text/plain": [
       "8"
      ]
     },
     "execution_count": 18,
     "metadata": {},
     "output_type": "execute_result"
    }
   ],
   "source": [
    "x<<2 #Bitwise left shift"
   ]
  },
  {
   "cell_type": "code",
   "execution_count": 19,
   "id": "7ffceafb",
   "metadata": {},
   "outputs": [
    {
     "data": {
      "text/plain": [
       "False"
      ]
     },
     "execution_count": 19,
     "metadata": {},
     "output_type": "execute_result"
    }
   ],
   "source": [
    "x = True   #and operator\n",
    "y = False\n",
    "x and y"
   ]
  },
  {
   "cell_type": "code",
   "execution_count": 20,
   "id": "24231e3b",
   "metadata": {},
   "outputs": [
    {
     "data": {
      "text/plain": [
       "True"
      ]
     },
     "execution_count": 20,
     "metadata": {},
     "output_type": "execute_result"
    }
   ],
   "source": [
    "x = True   #or operator\n",
    "y = False\n",
    "x or y"
   ]
  },
  {
   "cell_type": "code",
   "execution_count": 21,
   "id": "92780ea9",
   "metadata": {},
   "outputs": [
    {
     "data": {
      "text/plain": [
       "False"
      ]
     },
     "execution_count": 21,
     "metadata": {},
     "output_type": "execute_result"
    }
   ],
   "source": [
    "x = True   #not operator\n",
    "not x"
   ]
  },
  {
   "cell_type": "code",
   "execution_count": 22,
   "id": "9f9a13ae",
   "metadata": {},
   "outputs": [
    {
     "data": {
      "text/plain": [
       "False"
      ]
     },
     "execution_count": 22,
     "metadata": {},
     "output_type": "execute_result"
    }
   ],
   "source": [
    "x == y"
   ]
  },
  {
   "cell_type": "code",
   "execution_count": 23,
   "id": "c695fd8e",
   "metadata": {},
   "outputs": [
    {
     "data": {
      "text/plain": [
       "True"
      ]
     },
     "execution_count": 23,
     "metadata": {},
     "output_type": "execute_result"
    }
   ],
   "source": [
    "x != y"
   ]
  },
  {
   "cell_type": "code",
   "execution_count": 24,
   "id": "c6a5dcbb",
   "metadata": {},
   "outputs": [
    {
     "data": {
      "text/plain": [
       "True"
      ]
     },
     "execution_count": 24,
     "metadata": {},
     "output_type": "execute_result"
    }
   ],
   "source": [
    "x > y #x = 8, y = 3"
   ]
  },
  {
   "cell_type": "code",
   "execution_count": 27,
   "id": "c366d250",
   "metadata": {},
   "outputs": [
    {
     "data": {
      "text/plain": [
       "False"
      ]
     },
     "execution_count": 27,
     "metadata": {},
     "output_type": "execute_result"
    }
   ],
   "source": [
    "x < y"
   ]
  },
  {
   "cell_type": "code",
   "execution_count": 26,
   "id": "85b12cf2",
   "metadata": {},
   "outputs": [
    {
     "data": {
      "text/plain": [
       "True"
      ]
     },
     "execution_count": 26,
     "metadata": {},
     "output_type": "execute_result"
    }
   ],
   "source": [
    "x >= y"
   ]
  },
  {
   "cell_type": "code",
   "execution_count": 28,
   "id": "81ada57b",
   "metadata": {},
   "outputs": [
    {
     "data": {
      "text/plain": [
       "False"
      ]
     },
     "execution_count": 28,
     "metadata": {},
     "output_type": "execute_result"
    }
   ],
   "source": [
    "x <= y"
   ]
  },
  {
   "cell_type": "code",
   "execution_count": 29,
   "id": "2fad8873",
   "metadata": {},
   "outputs": [
    {
     "name": "stdout",
     "output_type": "stream",
     "text": [
      "True\n",
      "False\n"
     ]
    }
   ],
   "source": [
    "x = 'Hello World'\n",
    "print('H' in x) #return True if 'H' in x\n",
    "print('Hello' not in x) #return True if 'Hello' not present in x"
   ]
  },
  {
   "cell_type": "code",
   "execution_count": 5,
   "id": "012065e4",
   "metadata": {},
   "outputs": [
    {
     "data": {
      "text/plain": [
       "97"
      ]
     },
     "execution_count": 5,
     "metadata": {},
     "output_type": "execute_result"
    }
   ],
   "source": [
    "ord(\"a\")"
   ]
  },
  {
   "cell_type": "code",
   "execution_count": 6,
   "id": "13f4ccdf",
   "metadata": {},
   "outputs": [],
   "source": [
    "ord?"
   ]
  },
  {
   "cell_type": "code",
   "execution_count": 7,
   "id": "c6744ba5",
   "metadata": {},
   "outputs": [
    {
     "data": {
      "text/plain": [
       "'A string enclosed in a single quote'"
      ]
     },
     "execution_count": 7,
     "metadata": {},
     "output_type": "execute_result"
    }
   ],
   "source": [
    "'A string enclosed in a single quote' #Type the following code to observe the output."
   ]
  },
  {
   "cell_type": "code",
   "execution_count": 8,
   "id": "be9cf5f7",
   "metadata": {},
   "outputs": [
    {
     "data": {
      "text/plain": [
       "\"Another way to specify a 'string'.\""
      ]
     },
     "execution_count": 8,
     "metadata": {},
     "output_type": "execute_result"
    }
   ],
   "source": [
    "\"Another way to specify a 'string'.\""
   ]
  },
  {
   "cell_type": "code",
   "execution_count": 9,
   "id": "4443f42f",
   "metadata": {},
   "outputs": [
    {
     "name": "stdout",
     "output_type": "stream",
     "text": [
      "apple and banana are fruits\n"
     ]
    }
   ],
   "source": [
    "#We can specify multiple strings with the print statement.\n",
    "#We use a comma to seperate them out.\n",
    "#These strings will be printed with a space in between.\n",
    "print('apple', 'and banana', 'are fruits')"
   ]
  },
  {
   "cell_type": "code",
   "execution_count": 10,
   "id": "a943ca94",
   "metadata": {},
   "outputs": [
    {
     "ename": "SyntaxError",
     "evalue": "invalid syntax (2906430453.py, line 2)",
     "output_type": "error",
     "traceback": [
      "\u001b[1;36m  File \u001b[1;32m\"C:\\Users\\USER\\AppData\\Local\\Temp\\ipykernel_17392\\2906430453.py\"\u001b[1;36m, line \u001b[1;32m2\u001b[0m\n\u001b[1;33m    print('Are n't, you said this.')\u001b[0m\n\u001b[1;37m                 ^\u001b[0m\n\u001b[1;31mSyntaxError\u001b[0m\u001b[1;31m:\u001b[0m invalid syntax\n"
     ]
    }
   ],
   "source": [
    "#Trying to print a single quote within a string enclosed in single quotes or trying to print a double quotes within a string enclosed in double quotes gives an error message as follows.\n",
    "print('Are n't, you said this.')"
   ]
  },
  {
   "cell_type": "code",
   "execution_count": 11,
   "id": "401bb97a",
   "metadata": {},
   "outputs": [
    {
     "name": "stdout",
     "output_type": "stream",
     "text": [
      "Are n't, you said this.\n"
     ]
    }
   ],
   "source": [
    "#To print such characters, we use backslash\\, called the escape character.\n",
    "print('Are n\\'t, you said this.')"
   ]
  },
  {
   "cell_type": "code",
   "execution_count": 12,
   "id": "0cba99f9",
   "metadata": {},
   "outputs": [
    {
     "name": "stdout",
     "output_type": "stream",
     "text": [
      "Are n't, \t you said this.\n"
     ]
    }
   ],
   "source": [
    "print('Are n\\'t, \\t you said this.')"
   ]
  },
  {
   "cell_type": "code",
   "execution_count": 13,
   "id": "47258f42",
   "metadata": {},
   "outputs": [
    {
     "name": "stdout",
     "output_type": "stream",
     "text": [
      "Are n't, \n",
      " you said this.\n"
     ]
    }
   ],
   "source": [
    "print('Are n\\'t, \\n you said this.')"
   ]
  },
  {
   "cell_type": "code",
   "execution_count": 14,
   "id": "94d620ad",
   "metadata": {},
   "outputs": [
    {
     "name": "stdout",
     "output_type": "stream",
     "text": [
      "c:\n",
      "ew_directory\n"
     ]
    }
   ],
   "source": [
    "#When we try to display the path of a directory such as C:\\users\\new_directoryby an output like the one given below:\n",
    "print('c:\\new_directory')"
   ]
  },
  {
   "cell_type": "code",
   "execution_count": 15,
   "id": "363e49e9",
   "metadata": {},
   "outputs": [
    {
     "name": "stdout",
     "output_type": "stream",
     "text": [
      "c:\\new_directory\n"
     ]
    }
   ],
   "source": [
    "#The reason is that \\n is used to generate a new line, To avoid the new line, we use the letter r at the start of directory name as follows:\n",
    "print(r'c:\\new_directory')"
   ]
  },
  {
   "cell_type": "code",
   "execution_count": 17,
   "id": "1a5b5777",
   "metadata": {},
   "outputs": [
    {
     "data": {
      "text/plain": [
       "'Python'"
      ]
     },
     "execution_count": 17,
     "metadata": {},
     "output_type": "execute_result"
    }
   ],
   "source": [
    "#String can be combined/concatenated tofether by using + operator\n",
    "str1 = 'Py'\n",
    "str2 = 'thon'\n",
    "str1 + str2"
   ]
  },
  {
   "cell_type": "code",
   "execution_count": 18,
   "id": "c8c7e626",
   "metadata": {},
   "outputs": [
    {
     "name": "stdout",
     "output_type": "stream",
     "text": [
      "H\n"
     ]
    }
   ],
   "source": [
    "#We use square brackets to access elements of a string\n",
    "x = \"Hello world\"\n",
    "print(x[0])"
   ]
  },
  {
   "cell_type": "code",
   "execution_count": 19,
   "id": "e420c15c",
   "metadata": {},
   "outputs": [
    {
     "name": "stdout",
     "output_type": "stream",
     "text": [
      "d\n"
     ]
    }
   ],
   "source": [
    "#The indices start from 0 in Python, To access the last character of the string, we may write:\n",
    "print(x[-1])"
   ]
  },
  {
   "cell_type": "code",
   "execution_count": 20,
   "id": "d4aea1e4",
   "metadata": {},
   "outputs": [
    {
     "name": "stdout",
     "output_type": "stream",
     "text": [
      "Hello\n"
     ]
    }
   ],
   "source": [
    "print(x[0:5])"
   ]
  },
  {
   "cell_type": "code",
   "execution_count": 22,
   "id": "2cc66027",
   "metadata": {
    "scrolled": true
   },
   "outputs": [
    {
     "name": "stdout",
     "output_type": "stream",
     "text": [
      "world\n"
     ]
    },
    {
     "data": {
      "text/plain": [
       "11"
      ]
     },
     "execution_count": 22,
     "metadata": {},
     "output_type": "execute_result"
    }
   ],
   "source": [
    "x = \"Hello world\"\n",
    "print(x[6:len(x)])\n",
    "len(x)"
   ]
  },
  {
   "cell_type": "code",
   "execution_count": 22,
   "id": "141324cf",
   "metadata": {},
   "outputs": [
    {
     "data": {
      "text/plain": [
       "True"
      ]
     },
     "execution_count": 22,
     "metadata": {},
     "output_type": "execute_result"
    }
   ],
   "source": [
    "x = \"Hello world\"\n",
    "x[:6] + x[6:] == x"
   ]
  },
  {
   "cell_type": "code",
   "execution_count": 23,
   "id": "fafe89f9",
   "metadata": {},
   "outputs": [
    {
     "data": {
      "text/plain": [
       "'drwolH'"
      ]
     },
     "execution_count": 23,
     "metadata": {},
     "output_type": "execute_result"
    }
   ],
   "source": [
    "#Syntax string[start:end:step]\n",
    "x = 'Hello world'\n",
    "x[10::-2]"
   ]
  },
  {
   "cell_type": "code",
   "execution_count": 24,
   "id": "6744454e",
   "metadata": {},
   "outputs": [
    {
     "data": {
      "text/plain": [
       "'drwolH'"
      ]
     },
     "execution_count": 24,
     "metadata": {},
     "output_type": "execute_result"
    }
   ],
   "source": [
    "#Syntax string[start:end:step]\n",
    "x = 'Hello world'\n",
    "\n",
    "x[::-2]"
   ]
  },
  {
   "cell_type": "code",
   "execution_count": 25,
   "id": "9118b2f8",
   "metadata": {},
   "outputs": [
    {
     "data": {
      "text/plain": [
       "'123123123'"
      ]
     },
     "execution_count": 25,
     "metadata": {},
     "output_type": "execute_result"
    }
   ],
   "source": [
    "str = '123' * 3\n",
    "str"
   ]
  },
  {
   "cell_type": "code",
   "execution_count": 26,
   "id": "c718f6a3",
   "metadata": {},
   "outputs": [
    {
     "data": {
      "text/plain": [
       "'333'"
      ]
     },
     "execution_count": 26,
     "metadata": {},
     "output_type": "execute_result"
    }
   ],
   "source": [
    "#Syntax string[start:end:step]\n",
    "\n",
    "str = '123' * 3\n",
    "\n",
    "str[: :-3]"
   ]
  },
  {
   "cell_type": "code",
   "execution_count": 23,
   "id": "32a499de",
   "metadata": {},
   "outputs": [
    {
     "name": "stdout",
     "output_type": "stream",
     "text": [
      "Hello world\n"
     ]
    }
   ],
   "source": [
    "str1 = \" Hello world \"\n",
    "print(str1.strip())"
   ]
  },
  {
   "cell_type": "code",
   "execution_count": 28,
   "id": "e6c87123",
   "metadata": {},
   "outputs": [
    {
     "name": "stdout",
     "output_type": "stream",
     "text": [
      "hello world\n"
     ]
    }
   ],
   "source": [
    "#The method Lower() returns the string in the lower case.\n",
    "\n",
    "str2 = \"Hello World\"\n",
    "print(str2.lower())"
   ]
  },
  {
   "cell_type": "code",
   "execution_count": 29,
   "id": "4b3616da",
   "metadata": {},
   "outputs": [
    {
     "name": "stdout",
     "output_type": "stream",
     "text": [
      "HELLO WORLD\n"
     ]
    }
   ],
   "source": [
    "#The method upper() returns the string in the upper case.\n",
    "\n",
    "str3 = \"Hello World\"\n",
    "print(str3.upper())"
   ]
  },
  {
   "cell_type": "code",
   "execution_count": 31,
   "id": "18876a53",
   "metadata": {},
   "outputs": [
    {
     "name": "stdout",
     "output_type": "stream",
     "text": [
      "I like pineapples\n"
     ]
    }
   ],
   "source": [
    "#The method replace() replaces a string with another string.\n",
    "\n",
    "str4 = \"I like apples\"\n",
    "print(str4.replace(\"apples\", \"pineapples\"))"
   ]
  },
  {
   "cell_type": "code",
   "execution_count": 32,
   "id": "11eb1d45",
   "metadata": {},
   "outputs": [
    {
     "data": {
      "text/plain": [
       "'hELLO, HOW ARE you DOING?'"
      ]
     },
     "execution_count": 32,
     "metadata": {},
     "output_type": "execute_result"
    }
   ],
   "source": [
    "'Hello, how are YOU doing?'.swapcase()"
   ]
  },
  {
   "cell_type": "code",
   "execution_count": 33,
   "id": "ed1e86ea",
   "metadata": {},
   "outputs": [
    {
     "name": "stdout",
     "output_type": "stream",
     "text": [
      "['Hello', ' how are YOU doing']\n"
     ]
    }
   ],
   "source": [
    "str5 = 'Hello, how are YOU doing'\n",
    "print(str5.split(\",\"))"
   ]
  },
  {
   "cell_type": "code",
   "execution_count": 34,
   "id": "4490d028",
   "metadata": {},
   "outputs": [
    {
     "data": {
      "text/plain": [
       "'Hello'"
      ]
     },
     "execution_count": 34,
     "metadata": {},
     "output_type": "execute_result"
    }
   ],
   "source": [
    "'hello'.capitalize()"
   ]
  },
  {
   "cell_type": "code",
   "execution_count": 35,
   "id": "7aac96b5",
   "metadata": {},
   "outputs": [
    {
     "data": {
      "text/plain": [
       "4"
      ]
     },
     "execution_count": 35,
     "metadata": {},
     "output_type": "execute_result"
    }
   ],
   "source": [
    "'hello'.find('o')"
   ]
  },
  {
   "cell_type": "code",
   "execution_count": 36,
   "id": "929513c1",
   "metadata": {},
   "outputs": [
    {
     "data": {
      "text/plain": [
       "True"
      ]
     },
     "execution_count": 36,
     "metadata": {},
     "output_type": "execute_result"
    }
   ],
   "source": [
    "'hello123'.isalnum()"
   ]
  },
  {
   "cell_type": "code",
   "execution_count": 37,
   "id": "0929f9ff",
   "metadata": {},
   "outputs": [
    {
     "data": {
      "text/plain": [
       "False"
      ]
     },
     "execution_count": 37,
     "metadata": {},
     "output_type": "execute_result"
    }
   ],
   "source": [
    "'hello*'.isalnum()"
   ]
  },
  {
   "cell_type": "code",
   "execution_count": 38,
   "id": "7981b0f0",
   "metadata": {},
   "outputs": [
    {
     "data": {
      "text/plain": [
       "True"
      ]
     },
     "execution_count": 38,
     "metadata": {},
     "output_type": "execute_result"
    }
   ],
   "source": [
    "'2034'.isdecimal()"
   ]
  },
  {
   "cell_type": "code",
   "execution_count": 39,
   "id": "bc56d92d",
   "metadata": {},
   "outputs": [
    {
     "data": {
      "text/plain": [
       "False"
      ]
     },
     "execution_count": 39,
     "metadata": {},
     "output_type": "execute_result"
    }
   ],
   "source": [
    "\"Python\".islower()"
   ]
  },
  {
   "cell_type": "code",
   "execution_count": 40,
   "id": "473be82f",
   "metadata": {},
   "outputs": [
    {
     "data": {
      "text/plain": [
       "True"
      ]
     },
     "execution_count": 40,
     "metadata": {},
     "output_type": "execute_result"
    }
   ],
   "source": [
    "\"PYTHON\".isupper()"
   ]
  },
  {
   "cell_type": "code",
   "execution_count": 41,
   "id": "7d2bb250",
   "metadata": {},
   "outputs": [
    {
     "data": {
      "text/plain": [
       "'python'"
      ]
     },
     "execution_count": 41,
     "metadata": {},
     "output_type": "execute_result"
    }
   ],
   "source": [
    "\"PYTHON\".lower()"
   ]
  },
  {
   "cell_type": "code",
   "execution_count": 42,
   "id": "5f19297b",
   "metadata": {},
   "outputs": [
    {
     "data": {
      "text/plain": [
       "('py', 't', 'hon')"
      ]
     },
     "execution_count": 42,
     "metadata": {},
     "output_type": "execute_result"
    }
   ],
   "source": [
    "\"python\".partition('t')"
   ]
  },
  {
   "cell_type": "code",
   "execution_count": 43,
   "id": "5f920351",
   "metadata": {},
   "outputs": [
    {
     "data": {
      "text/plain": [
       "'We have learned '"
      ]
     },
     "execution_count": 43,
     "metadata": {},
     "output_type": "execute_result"
    }
   ],
   "source": [
    "\"We learn \".replace ('learn','have learned')"
   ]
  },
  {
   "cell_type": "code",
   "execution_count": 44,
   "id": "502bd602",
   "metadata": {},
   "outputs": [
    {
     "data": {
      "text/plain": [
       "5"
      ]
     },
     "execution_count": 44,
     "metadata": {},
     "output_type": "execute_result"
    }
   ],
   "source": [
    "\"Data Science\".rfind('Sc')"
   ]
  },
  {
   "cell_type": "code",
   "execution_count": 45,
   "id": "c02a000a",
   "metadata": {},
   "outputs": [
    {
     "data": {
      "text/plain": [
       "['Data', 'Science']"
      ]
     },
     "execution_count": 45,
     "metadata": {},
     "output_type": "execute_result"
    }
   ],
   "source": [
    "\"Data Science\".split(\" \")"
   ]
  },
  {
   "cell_type": "code",
   "execution_count": 24,
   "id": "fc0dd639",
   "metadata": {},
   "outputs": [
    {
     "data": {
      "text/plain": [
       "['Learn Python', 'for Data Science']"
      ]
     },
     "execution_count": 24,
     "metadata": {},
     "output_type": "execute_result"
    }
   ],
   "source": [
    "# \"\"\" are used for multi-line strings.\n",
    "\"\"\"Learn Python\n",
    "for Data Science\"\"\". splitlines()"
   ]
  },
  {
   "cell_type": "code",
   "execution_count": 47,
   "id": "1683cf34",
   "metadata": {},
   "outputs": [
    {
     "data": {
      "text/plain": [
       "True"
      ]
     },
     "execution_count": 47,
     "metadata": {},
     "output_type": "execute_result"
    }
   ],
   "source": [
    "\"Data Science\". startswith(\"D\")"
   ]
  },
  {
   "cell_type": "code",
   "execution_count": 48,
   "id": "72907f10",
   "metadata": {},
   "outputs": [
    {
     "data": {
      "text/plain": [
       "'Python'"
      ]
     },
     "execution_count": 48,
     "metadata": {},
     "output_type": "execute_result"
    }
   ],
   "source": [
    "\" Python \".strip()"
   ]
  },
  {
   "cell_type": "code",
   "execution_count": 49,
   "id": "9ceb95b2",
   "metadata": {},
   "outputs": [
    {
     "data": {
      "text/plain": [
       "'hELLO123'"
      ]
     },
     "execution_count": 49,
     "metadata": {},
     "output_type": "execute_result"
    }
   ],
   "source": [
    "\"Hello123\".swapcase()"
   ]
  },
  {
   "cell_type": "code",
   "execution_count": 50,
   "id": "01b5cba6",
   "metadata": {},
   "outputs": [
    {
     "data": {
      "text/plain": [
       "'Python For Data Science'"
      ]
     },
     "execution_count": 50,
     "metadata": {},
     "output_type": "execute_result"
    }
   ],
   "source": [
    "\"python for data science\".title()"
   ]
  },
  {
   "cell_type": "code",
   "execution_count": 51,
   "id": "69c0ce7a",
   "metadata": {},
   "outputs": [
    {
     "data": {
      "text/plain": [
       "'PYTHON'"
      ]
     },
     "execution_count": 51,
     "metadata": {},
     "output_type": "execute_result"
    }
   ],
   "source": [
    "\"python\".upper()"
   ]
  },
  {
   "cell_type": "code",
   "execution_count": 25,
   "id": "af3686e8",
   "metadata": {},
   "outputs": [
    {
     "name": "stdout",
     "output_type": "stream",
     "text": [
      "Invalid marks.\n"
     ]
    }
   ],
   "source": [
    "obtained_marks = 120\n",
    "if(obtained_marks > 100):\n",
    "    print(\"Invalid marks.\")"
   ]
  },
  {
   "cell_type": "code",
   "execution_count": 26,
   "id": "0969ab04",
   "metadata": {},
   "outputs": [
    {
     "name": "stdout",
     "output_type": "stream",
     "text": [
      "Input marks of a student\n",
      "110\n",
      "Invalid marks.\n"
     ]
    }
   ],
   "source": [
    "print('Input marks of a student')\n",
    "obtained_marks = int(input())\n",
    "if(obtained_marks > 100):\n",
    "    print(\"Invalid marks.\")"
   ]
  },
  {
   "cell_type": "code",
   "execution_count": 27,
   "id": "7650451c",
   "metadata": {},
   "outputs": [
    {
     "name": "stdout",
     "output_type": "stream",
     "text": [
      "Input marks of a student\n",
      "80\n"
     ]
    }
   ],
   "source": [
    "print('Input marks of a student')\n",
    "obtained_marks = int(input())\n",
    "if(obtained_marks > 100):\n",
    "    print(\"Invalid marks.\")"
   ]
  },
  {
   "cell_type": "code",
   "execution_count": 30,
   "id": "751479b6",
   "metadata": {},
   "outputs": [
    {
     "name": "stdout",
     "output_type": "stream",
     "text": [
      "Input marks of a student\n",
      "70\n",
      "Not Excellent.\n"
     ]
    }
   ],
   "source": [
    "print('Input marks of a student')\n",
    "obtained_marks = int(input())\n",
    "if(obtained_marks > 80):\n",
    "    print(\"Excellent.\")\n",
    "else:\n",
    "    print(\"Not Excellent.\")"
   ]
  },
  {
   "cell_type": "code",
   "execution_count": 31,
   "id": "42a599f3",
   "metadata": {},
   "outputs": [
    {
     "name": "stdout",
     "output_type": "stream",
     "text": [
      "Input marks of a student\n",
      "90\n",
      "Excellent.\n"
     ]
    }
   ],
   "source": [
    "print('Input marks of a student')\n",
    "obtained_marks = int(input())\n",
    "if(obtained_marks > 80):\n",
    "    print(\"Excellent.\")\n",
    "else:\n",
    "    print(\"Not Excellent.\")"
   ]
  },
  {
   "cell_type": "code",
   "execution_count": 1,
   "id": "89c7c05e",
   "metadata": {},
   "outputs": [
    {
     "name": "stdout",
     "output_type": "stream",
     "text": [
      "Invalid marks.\n"
     ]
    }
   ],
   "source": [
    "obtained_marks = 120\n",
    "if(obtained_marks > 100):\n",
    "    print(\"Invalid marks.\")"
   ]
  },
  {
   "cell_type": "code",
   "execution_count": 2,
   "id": "ac313496",
   "metadata": {},
   "outputs": [
    {
     "name": "stdout",
     "output_type": "stream",
     "text": [
      "Input marks of a student\n",
      "80\n"
     ]
    }
   ],
   "source": [
    "print('Input marks of a student')\n",
    "obtained_marks = int(input())\n",
    "if(obtained_marks > 100):\n",
    "   \tprint(\"Invalid marks.\")"
   ]
  },
  {
   "cell_type": "code",
   "execution_count": 3,
   "id": "34b81813",
   "metadata": {},
   "outputs": [
    {
     "name": "stdout",
     "output_type": "stream",
     "text": [
      "Input marks of a student\n",
      "80\n",
      "Excellent\n"
     ]
    }
   ],
   "source": [
    "print('Input marks of a student')\n",
    "obtained_marks = int(input())\n",
    "if(obtained_marks >= 80):\n",
    "    print(\"Excellent\")\n",
    "else:\n",
    "    print(\"Not excellent\")"
   ]
  },
  {
   "cell_type": "code",
   "execution_count": 4,
   "id": "e365016d",
   "metadata": {},
   "outputs": [
    {
     "name": "stdout",
     "output_type": "stream",
     "text": [
      "Input marks of a student\n",
      "-60\n",
      "Invalid marks.\n"
     ]
    }
   ],
   "source": [
    "print('Input marks of a student')\n",
    "obtained_marks = int(input())\n",
    "if(obtained_marks > 100 or obtained_marks < 0):\n",
    "    print(\"Invalid marks.\")"
   ]
  },
  {
   "cell_type": "code",
   "execution_count": 5,
   "id": "6bb3e052",
   "metadata": {},
   "outputs": [
    {
     "name": "stdout",
     "output_type": "stream",
     "text": [
      "Input marks of a student\n",
      "120\n",
      "Invalid marks.\n"
     ]
    }
   ],
   "source": [
    "print('Input marks of a student')\n",
    "obtained_marks = int(input())\n",
    "if(obtained_marks > 100 or obtained_marks < 0):\n",
    "    print(\"Invalid marks.\")"
   ]
  },
  {
   "cell_type": "code",
   "execution_count": 6,
   "id": "7932d43a",
   "metadata": {},
   "outputs": [
    {
     "name": "stdout",
     "output_type": "stream",
     "text": [
      "Input marks of a student\n",
      "80\n"
     ]
    }
   ],
   "source": [
    "print('Input marks of a student')\n",
    "obtained_marks = int(input())\n",
    "if(obtained_marks > 100 or obtained_marks < 0):\n",
    "    print(\"Invalid marks.\")"
   ]
  },
  {
   "cell_type": "code",
   "execution_count": 19,
   "id": "aa7f0a2c",
   "metadata": {},
   "outputs": [
    {
     "name": "stdout",
     "output_type": "stream",
     "text": [
      "Input marks of a student\n",
      "70\n",
      "Not Excellent\n"
     ]
    }
   ],
   "source": [
    "print('Input marks of a student')\n",
    "obtained_marks = int(input())\n",
    "if(obtained_marks > 100 or obtained_marks < 0):\n",
    "    print(\"Invalid marks.\")\n",
    "elif(obtained_marks >=80):\n",
    "    print(\"Excellent\")\n",
    "else:\n",
    "    print(\"Not Excellent\")"
   ]
  },
  {
   "cell_type": "code",
   "execution_count": 9,
   "id": "c395c6f9",
   "metadata": {},
   "outputs": [
    {
     "data": {
      "text/plain": [
       "'Friday'"
      ]
     },
     "execution_count": 9,
     "metadata": {},
     "output_type": "execute_result"
    }
   ],
   "source": [
    "switch = {\n",
    "    1: 'Monday',\n",
    "    2: 'Tuesday',\n",
    "    3: 'Wednesday',\n",
    "    4: 'Thursday',\n",
    "    5: 'Friday',\n",
    "    6: 'Saturday',\n",
    "    7: 'Sunday'\n",
    "    }\n",
    "switch.get(5)"
   ]
  },
  {
   "cell_type": "code",
   "execution_count": 10,
   "id": "190f8a8b",
   "metadata": {},
   "outputs": [
    {
     "data": {
      "text/plain": [
       "'Friday'"
      ]
     },
     "execution_count": 10,
     "metadata": {},
     "output_type": "execute_result"
    }
   ],
   "source": [
    "switch = {\n",
    "    1: 'Monday',\n",
    "    2: 'Tuesday',\n",
    "    3: 'Wednesday',\n",
    "    4: 'Thursday',\n",
    "    'a': 'Friday',\n",
    "    6: 'Saturday',\n",
    "    7: 'Sunday'\n",
    "    }\n",
    "switch.get('a')"
   ]
  },
  {
   "cell_type": "code",
   "execution_count": 11,
   "id": "65f0b16a",
   "metadata": {},
   "outputs": [
    {
     "name": "stdout",
     "output_type": "stream",
     "text": [
      "pineapple\n",
      "orange\n",
      "banana\n"
     ]
    }
   ],
   "source": [
    "fruits = [\"pineapple\",\"orange\",\"banana\"]#creating a list\n",
    "for k in fruits:\n",
    "    print(k)"
   ]
  },
  {
   "cell_type": "code",
   "execution_count": 12,
   "id": "6ed25f2b",
   "metadata": {},
   "outputs": [
    {
     "name": "stdout",
     "output_type": "stream",
     "text": [
      "0\n",
      "1\n",
      "2\n",
      "3\n",
      "4\n",
      "5\n",
      "6\n",
      "7\n",
      "8\n",
      "9\n"
     ]
    }
   ],
   "source": [
    "for j in range(10):\n",
    "    print(j)"
   ]
  },
  {
   "cell_type": "code",
   "execution_count": 13,
   "id": "957b7969",
   "metadata": {},
   "outputs": [
    {
     "name": "stdout",
     "output_type": "stream",
     "text": [
      "2\n",
      "5\n",
      "8\n"
     ]
    }
   ],
   "source": [
    "#In range(2, 10, 3), 3 is the step size\n",
    "\n",
    "for x in range(2, 10, 3):\n",
    "    print(x)"
   ]
  },
  {
   "cell_type": "code",
   "execution_count": 14,
   "id": "6c04d34c",
   "metadata": {},
   "outputs": [
    {
     "name": "stdout",
     "output_type": "stream",
     "text": [
      "pineapple\n",
      "orange\n",
      "melon\n"
     ]
    }
   ],
   "source": [
    "fruits = [\"pineapple\", \"orange\", \"banana\", \"melon\",\"dates\"]\n",
    "for k in fruits:\n",
    "    if k == \"banana\":\n",
    "        continue\n",
    "    print(k)\n",
    "    if k == \"melon\":\n",
    "        break"
   ]
  },
  {
   "cell_type": "code",
   "execution_count": 15,
   "id": "21c63a41",
   "metadata": {},
   "outputs": [
    {
     "name": "stdout",
     "output_type": "stream",
     "text": [
      "0\n",
      "1\n",
      "2\n",
      "3\n",
      "4\n",
      "5\n",
      "No items left.\n"
     ]
    }
   ],
   "source": [
    "numbers = [0, 1, 2, 3, 4, 5]\n",
    "for i in numbers:\n",
    "    print(i)\n",
    "else:\n",
    "    print(\"No items left.\")"
   ]
  },
  {
   "cell_type": "code",
   "execution_count": 16,
   "id": "1d1086e5",
   "metadata": {},
   "outputs": [
    {
     "name": "stdout",
     "output_type": "stream",
     "text": [
      "Enter an integer = 5\n",
      "The sum of first 5 natural number is= 15\n"
     ]
    }
   ],
   "source": [
    "# Program to add natural numbers provided by the user. \n",
    "n = int(input(\"Enter an integer = \"))\n",
    "# initialize sum to 0 and a variable k as a counter\n",
    "sum = 0\n",
    "k = 1\n",
    "while k <= n: #5\n",
    "    sum = sum + k\n",
    "    k = k+1    # update counter\n",
    "print(\"The sum of first\", n, \"natural number is=\", sum)"
   ]
  },
  {
   "cell_type": "code",
   "execution_count": 17,
   "id": "efed60be",
   "metadata": {},
   "outputs": [
    {
     "name": "stdout",
     "output_type": "stream",
     "text": [
      "red apple\n",
      "red orange\n",
      "red banana\n",
      "round apple\n",
      "round orange\n",
      "round banana\n",
      "tasty apple\n",
      "tasty orange\n",
      "tasty banana\n"
     ]
    }
   ],
   "source": [
    "properties = [\"red\", \"round\", \"tasty\"]\n",
    "fruits = [\"apple\", \"orange\", \"banana\"]\n",
    "for j in properties:\n",
    "      for k in fruits:\n",
    "            print(j, k)"
   ]
  },
  {
   "cell_type": "code",
   "execution_count": 2,
   "id": "6a8d45f4",
   "metadata": {},
   "outputs": [
    {
     "name": "stdout",
     "output_type": "stream",
     "text": [
      "['apple', 'orange', 'banana', 'rambutan']\n"
     ]
    }
   ],
   "source": [
    "fruitlist = [\"apple\", \"orange\", \"banana\", \"rambutan\"]\n",
    "print(fruitlist)"
   ]
  },
  {
   "cell_type": "code",
   "execution_count": 3,
   "id": "82917896",
   "metadata": {},
   "outputs": [
    {
     "name": "stdout",
     "output_type": "stream",
     "text": [
      "rambutan\n"
     ]
    }
   ],
   "source": [
    "print(fruitlist[3])"
   ]
  },
  {
   "cell_type": "code",
   "execution_count": 4,
   "id": "c4afc95a",
   "metadata": {},
   "outputs": [
    {
     "name": "stdout",
     "output_type": "stream",
     "text": [
      "banana\n"
     ]
    }
   ],
   "source": [
    "print(fruitlist[-2])"
   ]
  },
  {
   "cell_type": "code",
   "execution_count": 5,
   "id": "3223daa6",
   "metadata": {},
   "outputs": [
    {
     "name": "stdout",
     "output_type": "stream",
     "text": [
      "['banana', 'rambutan']\n"
     ]
    }
   ],
   "source": [
    "print(fruitlist[2:4]) #element at index 2 and 3 but not 4 are accessed"
   ]
  },
  {
   "cell_type": "code",
   "execution_count": 6,
   "id": "f5de23d0",
   "metadata": {},
   "outputs": [
    {
     "name": "stdout",
     "output_type": "stream",
     "text": [
      "['apple', 'orange', 'banana']\n",
      "['banana', 'rambutan']\n",
      "['orange', 'banana']\n"
     ]
    }
   ],
   "source": [
    "print(fruitlist[:3])     # returns list elements from the start to \"banana\"\n",
    "print(fruitlist[2:])     # returns elements from \"banana\" to last element\n",
    "print(fruitlist[-3:-1])  # returns elements from index -3 to -1"
   ]
  },
  {
   "cell_type": "code",
   "execution_count": 7,
   "id": "6249dfd1",
   "metadata": {},
   "outputs": [
    {
     "name": "stdout",
     "output_type": "stream",
     "text": [
      "['apple', 'dates', 'banana', 'rambutan']\n"
     ]
    }
   ],
   "source": [
    "fruitlist[1] = \"dates\"\n",
    "print(fruitlist)"
   ]
  },
  {
   "cell_type": "code",
   "execution_count": 13,
   "id": "ae90b5c9",
   "metadata": {},
   "outputs": [
    {
     "name": "stdout",
     "output_type": "stream",
     "text": [
      "['apple', 'dates', 'banana']\n",
      "['banana', 'rambutan']\n",
      "['dates', 'banana']\n"
     ]
    }
   ],
   "source": [
    "print(fruitlist[:3])     # returns list elements from the start to \"banana\"\n",
    "print(fruitlist[2:])     # returns elements from \"banana\" to last element\n",
    "print(fruitlist[1:-1])  # returns elements from index 1 to -1"
   ]
  },
  {
   "cell_type": "code",
   "execution_count": 14,
   "id": "690bd356",
   "metadata": {},
   "outputs": [
    {
     "name": "stdout",
     "output_type": "stream",
     "text": [
      "apple is present in the list\n"
     ]
    }
   ],
   "source": [
    "if \"apple\" in fruitlist:\n",
    "    print(\"apple is present in the list\")"
   ]
  },
  {
   "cell_type": "code",
   "execution_count": 15,
   "id": "5836d4cb",
   "metadata": {},
   "outputs": [],
   "source": [
    "fruitlist =  [\"apple\", \"orange\", \"banana\", \"melon\"]"
   ]
  },
  {
   "cell_type": "code",
   "execution_count": 16,
   "id": "7208afce",
   "metadata": {},
   "outputs": [
    {
     "data": {
      "text/plain": [
       "['apple', 'orange', 'banana', 'melon', 'watermelon']"
      ]
     },
     "execution_count": 16,
     "metadata": {},
     "output_type": "execute_result"
    }
   ],
   "source": [
    "fruitlist.append('watermelon') \n",
    "fruitlist"
   ]
  },
  {
   "cell_type": "code",
   "execution_count": 17,
   "id": "13eae417",
   "metadata": {},
   "outputs": [],
   "source": [
    "fruitlist.insert(1, 'cherry')"
   ]
  },
  {
   "cell_type": "code",
   "execution_count": 18,
   "id": "7326a50d",
   "metadata": {},
   "outputs": [
    {
     "name": "stdout",
     "output_type": "stream",
     "text": [
      "['apple', 'cherry', 'orange', 'melon', 'watermelon']\n"
     ]
    }
   ],
   "source": [
    "fruitlist.remove(\"banana\")\n",
    "print(fruitlist)"
   ]
  },
  {
   "cell_type": "code",
   "execution_count": 19,
   "id": "1f804448",
   "metadata": {},
   "outputs": [
    {
     "name": "stdout",
     "output_type": "stream",
     "text": [
      "[]\n"
     ]
    }
   ],
   "source": [
    "fruitlist.clear()\n",
    "print(fruitlist)"
   ]
  },
  {
   "cell_type": "code",
   "execution_count": 20,
   "id": "ecf80829",
   "metadata": {},
   "outputs": [
    {
     "ename": "NameError",
     "evalue": "name 'fruitlist' is not defined",
     "output_type": "error",
     "traceback": [
      "\u001b[1;31m---------------------------------------------------------------------------\u001b[0m",
      "\u001b[1;31mNameError\u001b[0m                                 Traceback (most recent call last)",
      "\u001b[1;32m~\\AppData\\Local\\Temp\\ipykernel_11580\\3074797618.py\u001b[0m in \u001b[0;36m<module>\u001b[1;34m\u001b[0m\n\u001b[0;32m      2\u001b[0m \u001b[1;33m\u001b[0m\u001b[0m\n\u001b[0;32m      3\u001b[0m \u001b[1;32mdel\u001b[0m \u001b[0mfruitlist\u001b[0m \u001b[1;31m# removes fruitlist\u001b[0m\u001b[1;33m\u001b[0m\u001b[1;33m\u001b[0m\u001b[0m\n\u001b[1;32m----> 4\u001b[1;33m \u001b[0mfruitlist\u001b[0m\u001b[1;33m\u001b[0m\u001b[1;33m\u001b[0m\u001b[0m\n\u001b[0m",
      "\u001b[1;31mNameError\u001b[0m: name 'fruitlist' is not defined"
     ]
    }
   ],
   "source": [
    "#To completely remove a list, use keyword del as below.\n",
    "\n",
    "del fruitlist # removes fruitlist\n",
    "fruitlist"
   ]
  },
  {
   "cell_type": "code",
   "execution_count": 22,
   "id": "73f30ef2",
   "metadata": {},
   "outputs": [
    {
     "name": "stdout",
     "output_type": "stream",
     "text": [
      "['durian', 'mango', 'strawberry', 20, 15, 50]\n"
     ]
    }
   ],
   "source": [
    "#Lists can be joined together using + operator as follows.\n",
    "\n",
    "fruitlist = [\"durian\", \"mango\", \"strawberry\"]\n",
    "quantity = [20,15,50]\n",
    "fruit_quantity = fruitlist + quantity\n",
    "print(fruit_quantity)"
   ]
  },
  {
   "cell_type": "code",
   "execution_count": 23,
   "id": "b642a327",
   "metadata": {},
   "outputs": [
    {
     "name": "stdout",
     "output_type": "stream",
     "text": [
      "('Python', 'for', 'Data Science')\n"
     ]
    }
   ],
   "source": [
    "mytuple = (\"Python\", \"for\", \"Data Science\")\n",
    "print(mytuple)"
   ]
  },
  {
   "cell_type": "code",
   "execution_count": 24,
   "id": "07527577",
   "metadata": {
    "scrolled": false
   },
   "outputs": [
    {
     "name": "stdout",
     "output_type": "stream",
     "text": [
      "Data Science\n"
     ]
    }
   ],
   "source": [
    "print(mytuple[2])"
   ]
  },
  {
   "cell_type": "code",
   "execution_count": 25,
   "id": "39f02f4e",
   "metadata": {},
   "outputs": [
    {
     "name": "stdout",
     "output_type": "stream",
     "text": [
      "('Python', 'is handy for', 'Data Science')\n"
     ]
    }
   ],
   "source": [
    "mytuple = (\"Python\", \"for\", \"Data Science\")\n",
    "mylist = list(mytuple) #convert to a list\n",
    "mylist[1] = \"is handy for\" #perform changes on the list\n",
    "mytuple = tuple(mylist) #convert back to tuple\n",
    "print(mytuple)"
   ]
  },
  {
   "cell_type": "code",
   "execution_count": 1,
   "id": "b02771fe",
   "metadata": {},
   "outputs": [
    {
     "name": "stdout",
     "output_type": "stream",
     "text": [
      "2\n"
     ]
    }
   ],
   "source": [
    "mytuple = (\"Python\", \"is not\", \"difficult\", \"I think\", \"Python\")\n",
    "print(mytuple.count(\"Python\"))"
   ]
  },
  {
   "cell_type": "code",
   "execution_count": 2,
   "id": "0190ad04",
   "metadata": {},
   "outputs": [
    {
     "ename": "ValueError",
     "evalue": "tuple.index(x): x not in tuple",
     "output_type": "error",
     "traceback": [
      "\u001b[1;31m---------------------------------------------------------------------------\u001b[0m",
      "\u001b[1;31mValueError\u001b[0m                                Traceback (most recent call last)",
      "\u001b[1;32m~\\AppData\\Local\\Temp\\ipykernel_6332\\2437164844.py\u001b[0m in \u001b[0;36m<module>\u001b[1;34m\u001b[0m\n\u001b[1;32m----> 1\u001b[1;33m \u001b[0mprint\u001b[0m\u001b[1;33m(\u001b[0m\u001b[0mmytuple\u001b[0m\u001b[1;33m.\u001b[0m\u001b[0mindex\u001b[0m\u001b[1;33m(\u001b[0m\u001b[1;34m'Data Science'\u001b[0m\u001b[1;33m)\u001b[0m\u001b[1;33m)\u001b[0m\u001b[1;33m\u001b[0m\u001b[1;33m\u001b[0m\u001b[0m\n\u001b[0m\u001b[0;32m      2\u001b[0m \u001b[0mprint\u001b[0m\u001b[1;33m(\u001b[0m\u001b[0mmytuple\u001b[0m\u001b[1;33m.\u001b[0m\u001b[0mindex\u001b[0m\u001b[1;33m(\u001b[0m\u001b[1;34m'Data'\u001b[0m\u001b[1;33m)\u001b[0m\u001b[1;33m)\u001b[0m\u001b[1;33m\u001b[0m\u001b[1;33m\u001b[0m\u001b[0m\n",
      "\u001b[1;31mValueError\u001b[0m: tuple.index(x): x not in tuple"
     ]
    }
   ],
   "source": [
    "print(mytuple.index('Data Science'))\n",
    "print(mytuple.index('Data'))"
   ]
  },
  {
   "cell_type": "code",
   "execution_count": 3,
   "id": "03cada88",
   "metadata": {},
   "outputs": [
    {
     "name": "stdout",
     "output_type": "stream",
     "text": [
      "dog\n",
      "tiger\n",
      "cat\n",
      "cow\n"
     ]
    }
   ],
   "source": [
    "myset = {\"cat\",\"tiger\",\"dog\",\"cow\"}\n",
    "for x in myset:\n",
    "    print(x)"
   ]
  },
  {
   "cell_type": "code",
   "execution_count": 4,
   "id": "7a93c7d0",
   "metadata": {},
   "outputs": [
    {
     "name": "stdout",
     "output_type": "stream",
     "text": [
      "True\n",
      "False\n"
     ]
    }
   ],
   "source": [
    "print(\"tiger\" in myset)\n",
    "print(\"lion\" in myset)"
   ]
  },
  {
   "cell_type": "code",
   "execution_count": 5,
   "id": "a888a67c",
   "metadata": {},
   "outputs": [
    {
     "name": "stdout",
     "output_type": "stream",
     "text": [
      "{'tiger', 'cow', 'dog', 'cat', 'sheep'}\n"
     ]
    }
   ],
   "source": [
    "myset = {\"cat\", \"tiger\", \"dog\", \"cow\"}\n",
    "myset.add(\"sheep\")\n",
    "print(myset)"
   ]
  },
  {
   "cell_type": "code",
   "execution_count": 6,
   "id": "b0c7ed31",
   "metadata": {},
   "outputs": [
    {
     "name": "stdout",
     "output_type": "stream",
     "text": [
      "{'tiger', 'cow', 'dog', 'cat', 'lion', 'sheep'}\n"
     ]
    }
   ],
   "source": [
    "myset = {\"cat\", \"tiger\", \"dog\", \"cow\"}\n",
    "myset.update([\"sheep\",\"lion\",\"sheep\"]) #update more than one, need to put '[]'\n",
    "print(myset)"
   ]
  },
  {
   "cell_type": "code",
   "execution_count": 8,
   "id": "9c873978",
   "metadata": {},
   "outputs": [
    {
     "name": "stdout",
     "output_type": "stream",
     "text": [
      "{'dog', 'cat', 'cow'}\n",
      "{'dog', 'cow'}\n"
     ]
    }
   ],
   "source": [
    "myset = {\"cat\", \"tiger\", \"dog\", \"cow\"}\n",
    "myset.remove(\"tiger\")\n",
    "print(myset)\n",
    "len(myset)\n",
    "myset.discard(\"cat\")\n",
    "print(myset)"
   ]
  },
  {
   "cell_type": "code",
   "execution_count": 9,
   "id": "64befbcc",
   "metadata": {},
   "outputs": [
    {
     "name": "stdout",
     "output_type": "stream",
     "text": [
      "{1, 2, 3, 'A', 'C', 'B'}\n"
     ]
    }
   ],
   "source": [
    "myset1 = {\"A\", \"B\" , \"C\"}\n",
    "myset2 = {1, 2, 3}\n",
    "myset3 = myset1.union(myset2)\n",
    "print(myset3)"
   ]
  },
  {
   "cell_type": "code",
   "execution_count": 12,
   "id": "3e27e880",
   "metadata": {},
   "outputs": [
    {
     "name": "stdout",
     "output_type": "stream",
     "text": [
      "{'name': 'Python', 'purpose': 'Data Science', 'year': 2020}\n"
     ]
    }
   ],
   "source": [
    "mydict = {\n",
    "    \"name\":\"Python\",\n",
    "    \"purpose\":\"Data Science\",\n",
    "    \"year\":2020\n",
    "}\n",
    "print(mydict)"
   ]
  },
  {
   "cell_type": "code",
   "execution_count": 13,
   "id": "52847dd1",
   "metadata": {},
   "outputs": [
    {
     "name": "stdout",
     "output_type": "stream",
     "text": [
      "Python\n",
      "Data Science\n"
     ]
    }
   ],
   "source": [
    "# accesses value for key 'name'\n",
    "print(mydict['name'])\n",
    "\n",
    "# accesses value for key 'purpose'\n",
    "print(mydict.get('purpose'))"
   ]
  },
  {
   "cell_type": "code",
   "execution_count": 15,
   "id": "3196a46f",
   "metadata": {},
   "outputs": [
    {
     "name": "stdout",
     "output_type": "stream",
     "text": [
      "None\n"
     ]
    },
    {
     "ename": "TypeError",
     "evalue": "'builtin_function_or_method' object is not subscriptable",
     "output_type": "error",
     "traceback": [
      "\u001b[1;31m---------------------------------------------------------------------------\u001b[0m",
      "\u001b[1;31mTypeError\u001b[0m                                 Traceback (most recent call last)",
      "\u001b[1;32m~\\AppData\\Local\\Temp\\ipykernel_6332\\1684132247.py\u001b[0m in \u001b[0;36m<module>\u001b[1;34m\u001b[0m\n\u001b[0;32m      1\u001b[0m \u001b[0mprint\u001b[0m\u001b[1;33m(\u001b[0m\u001b[0mmydict\u001b[0m\u001b[1;33m.\u001b[0m\u001b[0mget\u001b[0m\u001b[1;33m(\u001b[0m\u001b[1;34m'address'\u001b[0m\u001b[1;33m)\u001b[0m\u001b[1;33m)\u001b[0m\u001b[1;33m\u001b[0m\u001b[1;33m\u001b[0m\u001b[0m\n\u001b[1;32m----> 2\u001b[1;33m \u001b[0mprint\u001b[0m\u001b[1;33m(\u001b[0m\u001b[0mmydict\u001b[0m\u001b[1;33m.\u001b[0m\u001b[0mget\u001b[0m\u001b[1;33m[\u001b[0m\u001b[1;34m'address'\u001b[0m\u001b[1;33m]\u001b[0m\u001b[1;33m)\u001b[0m\u001b[1;33m\u001b[0m\u001b[1;33m\u001b[0m\u001b[0m\n\u001b[0m",
      "\u001b[1;31mTypeError\u001b[0m: 'builtin_function_or_method' object is not subscriptable"
     ]
    }
   ],
   "source": [
    "print(mydict.get('address'))\n",
    "print(mydict.get['address'])"
   ]
  },
  {
   "cell_type": "code",
   "execution_count": 16,
   "id": "cfa72696",
   "metadata": {},
   "outputs": [
    {
     "data": {
      "text/plain": [
       "{'name': 'Python', 'purpose': 'Data Science', 'year': 2019}"
      ]
     },
     "execution_count": 16,
     "metadata": {},
     "output_type": "execute_result"
    }
   ],
   "source": [
    "mydict[\"year\"] = 2019\n",
    "mydict"
   ]
  },
  {
   "cell_type": "code",
   "execution_count": 17,
   "id": "247199cc",
   "metadata": {},
   "outputs": [
    {
     "name": "stdout",
     "output_type": "stream",
     "text": [
      "name\n",
      "purpose\n",
      "year\n"
     ]
    }
   ],
   "source": [
    "for k in mydict:\n",
    "    print(k)"
   ]
  },
  {
   "cell_type": "code",
   "execution_count": 18,
   "id": "646fa66b",
   "metadata": {},
   "outputs": [
    {
     "name": "stdout",
     "output_type": "stream",
     "text": [
      "Python\n",
      "Data Science\n",
      "2019\n"
     ]
    }
   ],
   "source": [
    "for k in mydict:\n",
    "    print(mydict[k])"
   ]
  },
  {
   "cell_type": "code",
   "execution_count": 19,
   "id": "8c767819",
   "metadata": {},
   "outputs": [
    {
     "name": "stdout",
     "output_type": "stream",
     "text": [
      "Python\n",
      "Data Science\n",
      "2019\n"
     ]
    }
   ],
   "source": [
    "for k in mydict.values():\n",
    "    print(k)"
   ]
  },
  {
   "cell_type": "code",
   "execution_count": 20,
   "id": "ec9ff049",
   "metadata": {},
   "outputs": [
    {
     "name": "stdout",
     "output_type": "stream",
     "text": [
      "name Python\n",
      "purpose Data Science\n",
      "year 2019\n"
     ]
    }
   ],
   "source": [
    "for x, y in mydict.items():\n",
    "    print(x, y)"
   ]
  },
  {
   "cell_type": "code",
   "execution_count": 21,
   "id": "c52104ef",
   "metadata": {},
   "outputs": [
    {
     "name": "stdout",
     "output_type": "stream",
     "text": [
      "'purpose' is one of the valid keys\n"
     ]
    }
   ],
   "source": [
    "if \"purpose\" in mydict:\n",
    "    print(\"'purpose' is one of the valid keys\")"
   ]
  },
  {
   "cell_type": "code",
   "execution_count": 22,
   "id": "39ae0efe",
   "metadata": {},
   "outputs": [
    {
     "name": "stdout",
     "output_type": "stream",
     "text": [
      "{'name': 'Python', 'purpose': 'Data Science', 'year': 2019, 'pages': 300}\n"
     ]
    }
   ],
   "source": [
    "mydict[\"pages\"] = 300\n",
    "print(mydict)"
   ]
  },
  {
   "cell_type": "code",
   "execution_count": 23,
   "id": "240775b4",
   "metadata": {},
   "outputs": [
    {
     "name": "stdout",
     "output_type": "stream",
     "text": [
      "{'name': 'Python', 'purpose': 'Data Science', 'pages': 300}\n"
     ]
    }
   ],
   "source": [
    "mydict.pop(\"year\")\n",
    "# or use del mydict[\"year\"] to get same result\n",
    "print(mydict)"
   ]
  },
  {
   "cell_type": "code",
   "execution_count": 24,
   "id": "3262f615",
   "metadata": {},
   "outputs": [
    {
     "data": {
      "text/plain": [
       "{}"
      ]
     },
     "execution_count": 24,
     "metadata": {},
     "output_type": "execute_result"
    }
   ],
   "source": [
    "mydict.clear()\n",
    "mydict"
   ]
  },
  {
   "cell_type": "code",
   "execution_count": 1,
   "id": "69efc64d",
   "metadata": {},
   "outputs": [
    {
     "name": "stdout",
     "output_type": "stream",
     "text": [
      "3\n"
     ]
    }
   ],
   "source": [
    "mydict = {\n",
    "    \"name\": \"Python\",\n",
    "    \"purpose\": \"Data Science\",\n",
    "    \"year\": 2023\n",
    "}\n",
    "print(len(mydict))"
   ]
  },
  {
   "cell_type": "code",
   "execution_count": 2,
   "id": "9f13a00a",
   "metadata": {},
   "outputs": [
    {
     "name": "stdout",
     "output_type": "stream",
     "text": [
      "{'name': 'Python', 'purpose': 'Data Science', 'year': 2023}\n",
      "{'name': 'Python', 'purpose': 'Data Science', 'year': 2023}\n"
     ]
    }
   ],
   "source": [
    "mydict2 = mydict.copy()\n",
    "print(mydict)\n",
    "print(mydict2)"
   ]
  },
  {
   "cell_type": "code",
   "execution_count": 3,
   "id": "352e77f6",
   "metadata": {},
   "outputs": [
    {
     "data": {
      "text/plain": [
       "{'child1': {'name': 'Ali', 'DOB': 'Jun 2020'},\n",
       " 'child2': {'name': 'Abu', 'DOB': 'Aug 2000'}}"
      ]
     },
     "execution_count": 3,
     "metadata": {},
     "output_type": "execute_result"
    }
   ],
   "source": [
    "child1 = {\n",
    "    \"name\": \"Ali\",\n",
    "    \"DOB\": \"Jun 2020\"\n",
    "}\n",
    "\n",
    "child2 = {\n",
    "    \"name\": \"Abu\",\n",
    "    \"DOB\": \"Aug 2000\"\n",
    "}\n",
    "\n",
    "family = {\n",
    "    \"child1\": child1,\n",
    "    \"child2\": child2\n",
    "}\n",
    "family"
   ]
  },
  {
   "cell_type": "code",
   "execution_count": 4,
   "id": "0e1dd0c5",
   "metadata": {},
   "outputs": [
    {
     "data": {
      "text/plain": [
       "dict_items([('name', 'Ali'), ('DOB', 'Jun 2020')])"
      ]
     },
     "execution_count": 4,
     "metadata": {},
     "output_type": "execute_result"
    }
   ],
   "source": [
    "family['child1'].items()"
   ]
  },
  {
   "cell_type": "code",
   "execution_count": null,
   "id": "7a5f272e",
   "metadata": {},
   "outputs": [],
   "source": []
  }
 ],
 "metadata": {
  "kernelspec": {
   "display_name": "Python 3 (ipykernel)",
   "language": "python",
   "name": "python3"
  },
  "language_info": {
   "codemirror_mode": {
    "name": "ipython",
    "version": 3
   },
   "file_extension": ".py",
   "mimetype": "text/x-python",
   "name": "python",
   "nbconvert_exporter": "python",
   "pygments_lexer": "ipython3",
   "version": "3.10.6"
  }
 },
 "nbformat": 4,
 "nbformat_minor": 5
}
