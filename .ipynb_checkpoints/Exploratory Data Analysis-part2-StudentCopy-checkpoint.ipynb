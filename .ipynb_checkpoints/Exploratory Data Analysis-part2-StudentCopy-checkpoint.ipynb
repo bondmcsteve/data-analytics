{
 "cells": [
  {
   "cell_type": "markdown",
   "metadata": {
    "slideshow": {
     "slide_type": "slide"
    }
   },
   "source": [
    "### Box Plots\n",
    "\n",
    "<br>\n",
    "\n",
    "<div style=\"text-align: justify\">A box plot, also called a box and whisker plot displays the\n",
    "summary of a dataset or its subset as five numbers. These five\n",
    "numbers are</div>\n",
    "\n",
    "1. The minimum value excluding any outlier,\n",
    "2. The first quartile,\n",
    "3. The second quartile or median,\n",
    "4. The third quartile, and\n",
    "5. The maximum value excluding any outlier.\n",
    "\n"
   ]
  },
  {
   "cell_type": "markdown",
   "metadata": {
    "slideshow": {
     "slide_type": "slide"
    }
   },
   "source": [
    "<div style=\"text-align: justify\">The outliers are shown beyond the minimum and maximum\n",
    "points. A box and whisker plot is shown in figure below:</div>\n",
    "\n",
    "<br>\n",
    "\n",
    "<img src=\"Images/BoxPlot.png\" style=\"margin:auto\"/> \n"
   ]
  },
  {
   "cell_type": "markdown",
   "metadata": {
    "slideshow": {
     "slide_type": "slide"
    }
   },
   "source": [
    "<div style=\"text-align: justify\">We can generate a box plot using either Matplotlib, Pandas,\n",
    "or Seaborn. To create a box plot using Matplotlib, we can type\n",
    "the following lines of code:</div>"
   ]
  },
  {
   "cell_type": "code",
   "execution_count": null,
   "metadata": {
    "slideshow": {
     "slide_type": "slide"
    }
   },
   "outputs": [],
   "source": []
  },
  {
   "cell_type": "markdown",
   "metadata": {
    "slideshow": {
     "slide_type": "slide"
    }
   },
   "source": [
    "<div style=\"text-align: justify\">We can generate multiple box plots on the same figure. Let us\n",
    "produce the data for the box plots by using <b>the numpy.random.\n",
    "    randn()</b> function. This function takes two input arguments:\n",
    "the number of arrays to be created and the number of values\n",
    "within each array.</div>"
   ]
  },
  {
   "cell_type": "code",
   "execution_count": null,
   "metadata": {
    "scrolled": true,
    "slideshow": {
     "slide_type": "slide"
    }
   },
   "outputs": [],
   "source": []
  },
  {
   "cell_type": "markdown",
   "metadata": {
    "slideshow": {
     "slide_type": "slide"
    }
   },
   "source": [
    "### Histogram\n",
    "\n",
    "<br>\n",
    "\n",
    "<div style=\"text-align: justify\">A histogram is a plot that indicates the frequency distribution\n",
    "or shape of a numeric feature in a dataset. This allows us to\n",
    "discover the underlying distribution of the data by visual\n",
    "inspection. To plot a histogram, we pass a collection of numeric\n",
    "values to the method hist (). For example, the following\n",
    "histogram plots the distribution of values in the price column\n",
    "of the USA_Housing dataset.</div>"
   ]
  },
  {
   "cell_type": "code",
   "execution_count": null,
   "metadata": {
    "slideshow": {
     "slide_type": "slide"
    }
   },
   "outputs": [],
   "source": [
    "\n"
   ]
  },
  {
   "cell_type": "markdown",
   "metadata": {
    "slideshow": {
     "slide_type": "slide"
    }
   },
   "source": [
    "<div style=\"text-align: justify\">This plot shows that more than 1,200 houses, out of 5,000, have\n",
    "a price of around \\$ 1,000,000. A few houses have prices less\n",
    "than \\$ 500,000 and greater than \\$ 2,000,000. By default, the\n",
    "method hist () uses 10 bins or groups to plot the distribution\n",
    "of the data. We can change the number of bins by using the\n",
    "option <b>bins.</b> </div>"
   ]
  },
  {
   "cell_type": "code",
   "execution_count": null,
   "metadata": {
    "slideshow": {
     "slide_type": "slide"
    }
   },
   "outputs": [],
   "source": [
    "\n"
   ]
  },
  {
   "cell_type": "markdown",
   "metadata": {
    "slideshow": {
     "slide_type": "slide"
    }
   },
   "source": [
    "<div style=\"text-align: justify\">From this plot, it can be observed that the house price follows\n",
    "a Normal or a Gaussian distribution that is a bell curve. It is\n",
    "important to know that many machine learning algorithms\n",
    "assume Gaussian distribution of features. Thus, it is better for\n",
    "a feature to follow this distribution.</div>"
   ]
  },
  {
   "cell_type": "markdown",
   "metadata": {
    "slideshow": {
     "slide_type": "slide"
    }
   },
   "source": [
    "### Bar Chart\n",
    "\n",
    "<br>\n",
    "\n",
    "<div style=\"text-align: justify\">If we have categorical or discrete data that can take one of a\n",
    "small set of values, we use bar charts to show the values of\n",
    "categories as rectangular bars whose lengths are proportional\n",
    "    to the values. Since the <b>USA_Housing dataset</b> has a continuous\n",
    "range of prices for houses, it is not suitable to draw bar charts for this dataset. We import the <b>“Iris”</b> dataset that contains\n",
    "three species of Iris plant: Iris-setosa, Iris-virginica, and Irisversicolor.</div>"
   ]
  },
  {
   "cell_type": "code",
   "execution_count": null,
   "metadata": {
    "scrolled": true,
    "slideshow": {
     "slide_type": "slide"
    }
   },
   "outputs": [],
   "source": []
  },
  {
   "cell_type": "code",
   "execution_count": null,
   "metadata": {
    "slideshow": {
     "slide_type": "slide"
    }
   },
   "outputs": [],
   "source": []
  },
  {
   "cell_type": "markdown",
   "metadata": {
    "slideshow": {
     "slide_type": "slide"
    }
   },
   "source": [
    "<div style=\"text-align: justify\">To make a bar chart of <b>SepalLengthCm</b>, we may write the\n",
    "following Python script.</div>"
   ]
  },
  {
   "cell_type": "code",
   "execution_count": null,
   "metadata": {
    "scrolled": true,
    "slideshow": {
     "slide_type": "slide"
    }
   },
   "outputs": [],
   "source": []
  },
  {
   "cell_type": "markdown",
   "metadata": {
    "slideshow": {
     "slide_type": "slide"
    }
   },
   "source": [
    "<div style=\"text-align: justify\">Similarly, we generate bar charts for SepalWidthCm,\n",
    "PetalLengthCm and PetalWidthCm.</div>"
   ]
  },
  {
   "cell_type": "code",
   "execution_count": null,
   "metadata": {
    "slideshow": {
     "slide_type": "slide"
    }
   },
   "outputs": [],
   "source": []
  },
  {
   "cell_type": "code",
   "execution_count": null,
   "metadata": {
    "slideshow": {
     "slide_type": "slide"
    }
   },
   "outputs": [],
   "source": []
  },
  {
   "cell_type": "code",
   "execution_count": null,
   "metadata": {
    "slideshow": {
     "slide_type": "slide"
    }
   },
   "outputs": [],
   "source": []
  },
  {
   "cell_type": "markdown",
   "metadata": {
    "slideshow": {
     "slide_type": "slide"
    }
   },
   "source": [
    "<div style=\"text-align: justify\">For the bar charts given above, we observe that species Irisvirginica\n",
    "has the highest petal length, petal width, and sepal\n",
    "length. Species Iris-setosa has the smallest petal length, petal width, and sepal length. However, there is a deviation from the\n",
    "trend; Iris-setosa shows the highest sepal width, followed by\n",
    "virginica and versicolor. </div>"
   ]
  },
  {
   "cell_type": "code",
   "execution_count": null,
   "metadata": {
    "slideshow": {
     "slide_type": "slide"
    }
   },
   "outputs": [],
   "source": [
    "\n"
   ]
  },
  {
   "cell_type": "code",
   "execution_count": null,
   "metadata": {},
   "outputs": [],
   "source": []
  }
 ],
 "metadata": {
  "celltoolbar": "Slideshow",
  "kernelspec": {
   "display_name": "Python 3 (ipykernel)",
   "language": "python",
   "name": "python3"
  },
  "language_info": {
   "codemirror_mode": {
    "name": "ipython",
    "version": 3
   },
   "file_extension": ".py",
   "mimetype": "text/x-python",
   "name": "python",
   "nbconvert_exporter": "python",
   "pygments_lexer": "ipython3",
   "version": "3.10.6"
  }
 },
 "nbformat": 4,
 "nbformat_minor": 4
}
