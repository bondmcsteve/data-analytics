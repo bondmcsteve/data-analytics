{
 "cells": [
  {
   "cell_type": "code",
   "execution_count": 2,
   "id": "46537bcd",
   "metadata": {},
   "outputs": [
    {
     "name": "stdout",
     "output_type": "stream",
     "text": [
      "Invalid marks!\n"
     ]
    }
   ],
   "source": [
    "obtained_marks = 120\n",
    "if(obtained_marks > 100):\n",
    "    print(\"Invalid marks!\")"
   ]
  },
  {
   "cell_type": "code",
   "execution_count": 9,
   "id": "0b09bc6c",
   "metadata": {},
   "outputs": [
    {
     "name": "stdout",
     "output_type": "stream",
     "text": [
      "Input marks for students\n",
      "99\n"
     ]
    }
   ],
   "source": [
    "print(\"Input marks for students\")\n",
    "obtained_marks = int(input())\n",
    "if(obtained_marks > 100):\n",
    "    print(\"Invalid marks!\")"
   ]
  },
  {
   "cell_type": "markdown",
   "id": "be0e8430",
   "metadata": {},
   "source": [
    "# Else Statement\n",
    "It is never used alone as it complements previous 'if' statement. When used together, we have if-else statement. "
   ]
  },
  {
   "cell_type": "code",
   "execution_count": 19,
   "id": "882984d7",
   "metadata": {},
   "outputs": [
    {
     "name": "stdout",
     "output_type": "stream",
     "text": [
      "Input marks for students\n",
      "120\n",
      "Invalid marks!\n"
     ]
    }
   ],
   "source": [
    "print(\"Input marks for students\")\n",
    "obtained_marks = int(input())\n",
    "\n",
    "if(obtained_marks > 100):\n",
    "    print(\"Invalid marks!\")\n",
    "    exit(1)\n",
    "else:\n",
    "    print(\"Valid marks input\")\n",
    "    if(obtained_marks > 80):\n",
    "        print(\"Excellent mark\")\n",
    "    else:\n",
    "        print(\"Not excellent\")"
   ]
  },
  {
   "cell_type": "code",
   "execution_count": null,
   "id": "158164ed",
   "metadata": {},
   "outputs": [],
   "source": []
  }
 ],
 "metadata": {
  "celltoolbar": "Slideshow",
  "kernelspec": {
   "display_name": "Python 3 (ipykernel)",
   "language": "python",
   "name": "python3"
  },
  "language_info": {
   "codemirror_mode": {
    "name": "ipython",
    "version": 3
   },
   "file_extension": ".py",
   "mimetype": "text/x-python",
   "name": "python",
   "nbconvert_exporter": "python",
   "pygments_lexer": "ipython3",
   "version": "3.10.6"
  }
 },
 "nbformat": 4,
 "nbformat_minor": 5
}
