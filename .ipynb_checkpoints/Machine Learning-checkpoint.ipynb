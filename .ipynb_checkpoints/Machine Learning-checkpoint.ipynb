{
 "cells": [
  {
   "cell_type": "markdown",
   "id": "789efc61",
   "metadata": {},
   "source": [
    "Supervised learning: Regression or Classification\n",
    "Unsupervised learning: Unlabelled pattern recognition of dataset\n",
    "\n",
    "Methods in unsupervised learning: Dimensionality reduction (column reduction) and clustering\n",
    "\n",
    "Generalization power = Capability to suit the model for larger various cases due to larger training dataset \n",
    "\n",
    "Cross validation = Allocating data set between test and validation in which the selection sampling is randomised to reduce omission of important variations. The method of iterative learning by using said separation.\n",
    "\n",
    "Common error function used is Mean Square Error (MSE)."
   ]
  },
  {
   "cell_type": "code",
   "execution_count": null,
   "id": "729e60a7",
   "metadata": {},
   "outputs": [],
   "source": []
  }
 ],
 "metadata": {
  "kernelspec": {
   "display_name": "Python 3 (ipykernel)",
   "language": "python",
   "name": "python3"
  },
  "language_info": {
   "codemirror_mode": {
    "name": "ipython",
    "version": 3
   },
   "file_extension": ".py",
   "mimetype": "text/x-python",
   "name": "python",
   "nbconvert_exporter": "python",
   "pygments_lexer": "ipython3",
   "version": "3.9.13"
  }
 },
 "nbformat": 4,
 "nbformat_minor": 5
}
