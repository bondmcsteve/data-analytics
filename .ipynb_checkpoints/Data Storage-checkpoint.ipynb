{
 "cells": [
  {
   "cell_type": "markdown",
   "metadata": {
    "slideshow": {
     "slide_type": "slide"
    }
   },
   "source": [
    "# Data Storage\n",
    "\n",
    "<br>\n",
    "<div style=\"text-align: justify\">Besides int, float, and str data types we have discussed earlier,\n",
    "Python provides collection data types to store a mix of multiple\n",
    "entries from alphabets, numbers, strings, alphanumeric, and\n",
    "special characters. The four collection data types of Python\n",
    "are given below.</div>\n",
    "<br>\n",
    "\n",
    "- List: It is an ordered collection that is changeable. It allows duplicate entries.\n",
    "- Tuple: It is an ordered collection that is unchangeable. It also allows duplicate entries.\n",
    "- Set: It is an unordered and unindexed collection. It does not allow duplicate entries, just like real sets.\n",
    "- Dictionary: It is an unordered, changeable, and indexed collection of entries. It does not allow duplicate entries.\n",
    "\n",
    "### Key Concepts\n",
    "1. List\n",
    "2. Tuples\n",
    "3. Sets\n",
    "4. Dictionaries\n",
    "5. DataFrame (Continued on another dedicated file)"
   ]
  },
  {
   "cell_type": "markdown",
   "metadata": {
    "slideshow": {
     "slide_type": "slide"
    }
   },
   "source": [
    "## Lists\n",
    "\n",
    "<br>\n",
    "<div style=\"text-align: justify\">A list is an ordered and changeable collection of elements. In\n",
    "Python, lists are written with square brackets. For example, to\n",
    "create a list named fruitlist, type the following code:</div>"
   ]
  },
  {
   "cell_type": "code",
   "execution_count": 1,
   "metadata": {
    "slideshow": {
     "slide_type": "slide"
    }
   },
   "outputs": [
    {
     "name": "stdout",
     "output_type": "stream",
     "text": [
      "['Apple', 'Orange', 'Banana', 'Rambutan']\n"
     ]
    }
   ],
   "source": [
    "fruitlist = [\"Apple\", \"Orange\", \"Banana\", \"Rambutan\"]\n",
    "print(fruitlist)\n"
   ]
  },
  {
   "cell_type": "markdown",
   "metadata": {
    "slideshow": {
     "slide_type": "slide"
    }
   },
   "source": [
    "<div style=\"text-align: justify\">We can access the items/elements of a list by referring to the\n",
    "index number. For example, to print the second item, “orange,”\n",
    "of the list, we type the following code:</div>"
   ]
  },
  {
   "cell_type": "code",
   "execution_count": 2,
   "metadata": {
    "slideshow": {
     "slide_type": "slide"
    }
   },
   "outputs": [
    {
     "name": "stdout",
     "output_type": "stream",
     "text": [
      "Orange\n"
     ]
    }
   ],
   "source": [
    "print(fruitlist[1])"
   ]
  },
  {
   "cell_type": "markdown",
   "metadata": {
    "slideshow": {
     "slide_type": "slide"
    }
   },
   "source": [
    "<div style=\"text-align: justify\">As discussed earlier, Python allows negative indexing. Index\n",
    "number −1 refers to the last item of the list, −2 pertains to the\n",
    "second last item, and so on. For example, to print the second\n",
    "last item, “banana” of the list, type the following code:</div>"
   ]
  },
  {
   "cell_type": "code",
   "execution_count": 3,
   "metadata": {
    "slideshow": {
     "slide_type": "slide"
    }
   },
   "outputs": [
    {
     "name": "stdout",
     "output_type": "stream",
     "text": [
      "banana\n"
     ]
    }
   ],
   "source": [
    "fruitlist = [\"apple\", \"orange\", \"banana\", \"melon\"]\n",
    "print(fruitlist[-2])\n"
   ]
  },
  {
   "cell_type": "code",
   "execution_count": 4,
   "metadata": {
    "slideshow": {
     "slide_type": "slide"
    }
   },
   "outputs": [
    {
     "name": "stdout",
     "output_type": "stream",
     "text": [
      "['banana', 'melon']\n"
     ]
    }
   ],
   "source": [
    "print(fruitlist[2:4])    # Elements at index 2 and 3 but not 4 are accessed. "
   ]
  },
  {
   "cell_type": "markdown",
   "metadata": {
    "slideshow": {
     "slide_type": "slide"
    }
   },
   "source": [
    "<div style=\"text-align: justify\">Try the following, and observe the output.</div>"
   ]
  },
  {
   "cell_type": "code",
   "execution_count": 5,
   "metadata": {
    "slideshow": {
     "slide_type": "slide"
    }
   },
   "outputs": [
    {
     "name": "stdout",
     "output_type": "stream",
     "text": [
      "['apple', 'orange', 'banana']\n",
      "['banana', 'melon']\n",
      "['orange', 'banana']\n"
     ]
    }
   ],
   "source": [
    "print(fruitlist[:3])     # returns list elements from the start to \"banana\"\n",
    "print(fruitlist[2:])     # returns elements from \"banana\" to last element\n",
    "print(fruitlist[-3:-1])  # returns elements from index -3 to -1\n"
   ]
  },
  {
   "cell_type": "markdown",
   "metadata": {
    "slideshow": {
     "slide_type": "slide"
    }
   },
   "source": [
    "<div style=\"text-align: justify\">Try the following, and observe the output.Since lists are mutable, we can change the value of a specific\n",
    "element by using its index. For example, to change the second\n",
    "element of the fruitlist, type the following:</div>"
   ]
  },
  {
   "cell_type": "code",
   "execution_count": 6,
   "metadata": {
    "slideshow": {
     "slide_type": "slide"
    }
   },
   "outputs": [
    {
     "name": "stdout",
     "output_type": "stream",
     "text": [
      "['apple', 'dates', 'banana', 'melon']\n"
     ]
    }
   ],
   "source": [
    "fruitlist[1] = \"dates\"\n",
    "print(fruitlist)\n"
   ]
  },
  {
   "cell_type": "markdown",
   "metadata": {
    "slideshow": {
     "slide_type": "slide"
    }
   },
   "source": [
    "<div style=\"text-align: justify\">We can check if an element is present in the list by using the\n",
    "    keyword <i>in</i> as follows:</div>"
   ]
  },
  {
   "cell_type": "code",
   "execution_count": 7,
   "metadata": {
    "slideshow": {
     "slide_type": "slide"
    }
   },
   "outputs": [
    {
     "name": "stdout",
     "output_type": "stream",
     "text": [
      "apple is present in the list\n"
     ]
    }
   ],
   "source": [
    "if \"apple\" in fruitlist:\n",
    "    print(\"apple is present in the list\")\n"
   ]
  },
  {
   "cell_type": "markdown",
   "metadata": {
    "slideshow": {
     "slide_type": "slide"
    }
   },
   "source": [
    "<br>\n",
    "<img src=\"Images/datatype1.png\" style=\"margin:auto\"/>  \n",
    "<img src=\"Images/datatype2.png\" style=\"margin:auto\"/>   \n",
    "<img src=\"Images/datatype3.png\" style=\"margin:auto\"/>   "
   ]
  },
  {
   "cell_type": "code",
   "execution_count": 8,
   "metadata": {
    "slideshow": {
     "slide_type": "slide"
    }
   },
   "outputs": [],
   "source": [
    "fruitlist =  [\"apple\", \"orange\", \"banana\", \"melon\"]"
   ]
  },
  {
   "cell_type": "markdown",
   "metadata": {},
   "source": [
    "#### append() moves an element in a list to the end point of the list"
   ]
  },
  {
   "cell_type": "code",
   "execution_count": 9,
   "metadata": {
    "slideshow": {
     "slide_type": "slide"
    }
   },
   "outputs": [
    {
     "data": {
      "text/plain": [
       "['apple', 'orange', 'banana', 'melon', 'watermelon']"
      ]
     },
     "execution_count": 9,
     "metadata": {},
     "output_type": "execute_result"
    }
   ],
   "source": [
    "fruitlist.append('watermelon') \n",
    "fruitlist"
   ]
  },
  {
   "cell_type": "markdown",
   "metadata": {},
   "source": [
    "#### .insert(order, string) command can be used to insert a string into the list at specific order"
   ]
  },
  {
   "cell_type": "code",
   "execution_count": 10,
   "metadata": {
    "slideshow": {
     "slide_type": "slide"
    }
   },
   "outputs": [],
   "source": [
    "fruitlist.insert(1, 'cherry')  "
   ]
  },
  {
   "cell_type": "markdown",
   "metadata": {},
   "source": [
    "#### .remove() command is used to remove an element in a list"
   ]
  },
  {
   "cell_type": "code",
   "execution_count": 11,
   "metadata": {
    "slideshow": {
     "slide_type": "slide"
    }
   },
   "outputs": [
    {
     "name": "stdout",
     "output_type": "stream",
     "text": [
      "['apple', 'cherry', 'orange', 'melon', 'watermelon']\n"
     ]
    }
   ],
   "source": [
    "fruitlist.remove(\"banana\")\n",
    "print(fruitlist)\n"
   ]
  },
  {
   "cell_type": "markdown",
   "metadata": {},
   "source": [
    "#### .clear() command is used to empty the whole list or data structure"
   ]
  },
  {
   "cell_type": "code",
   "execution_count": 12,
   "metadata": {
    "slideshow": {
     "slide_type": "slide"
    }
   },
   "outputs": [
    {
     "name": "stdout",
     "output_type": "stream",
     "text": [
      "[]\n"
     ]
    }
   ],
   "source": [
    "fruitlist.clear()\n",
    "print(fruitlist)\n"
   ]
  },
  {
   "cell_type": "markdown",
   "metadata": {},
   "source": [
    "#### del command can be used to entirely erase the list "
   ]
  },
  {
   "cell_type": "code",
   "execution_count": 13,
   "metadata": {
    "slideshow": {
     "slide_type": "slide"
    }
   },
   "outputs": [
    {
     "ename": "NameError",
     "evalue": "name 'fruitlist' is not defined",
     "output_type": "error",
     "traceback": [
      "\u001b[0;31m---------------------------------------------------------------------------\u001b[0m",
      "\u001b[0;31mNameError\u001b[0m                                 Traceback (most recent call last)",
      "Cell \u001b[0;32mIn [13], line 4\u001b[0m\n\u001b[1;32m      1\u001b[0m \u001b[38;5;66;03m#To completely remove a list, use keyword del as below.\u001b[39;00m\n\u001b[1;32m      3\u001b[0m \u001b[38;5;28;01mdel\u001b[39;00m fruitlist \u001b[38;5;66;03m# removes fruitlist\u001b[39;00m\n\u001b[0;32m----> 4\u001b[0m \u001b[43mfruitlist\u001b[49m\n",
      "\u001b[0;31mNameError\u001b[0m: name 'fruitlist' is not defined"
     ]
    }
   ],
   "source": [
    "#To completely remove a list, use keyword del as below.\n",
    "\n",
    "del fruitlist # removes fruitlist\n",
    "fruitlist"
   ]
  },
  {
   "cell_type": "markdown",
   "metadata": {},
   "source": [
    "#### Use logical operator sum to join two lists"
   ]
  },
  {
   "cell_type": "code",
   "execution_count": 14,
   "metadata": {
    "slideshow": {
     "slide_type": "slide"
    }
   },
   "outputs": [
    {
     "name": "stdout",
     "output_type": "stream",
     "text": [
      "['apple', 'orange', 1, 4]\n"
     ]
    }
   ],
   "source": [
    "#Lists can be joined together using + operator as follows.\n",
    "\n",
    "fruitlist = [\"apple\" , \"orange\"]\n",
    "quantity = [1, 4]\n",
    "fruit_quantity = fruitlist + quantity\n",
    "print(fruit_quantity)"
   ]
  },
  {
   "cell_type": "markdown",
   "metadata": {
    "slideshow": {
     "slide_type": "slide"
    }
   },
   "source": [
    "## Tuples\n",
    "\n",
    "<br>\n",
    "<div style=\"text-align: justify\">A tuple is an ordered collection that is unchangeable. Tuples\n",
    "are written using round brackets () in Python. For example, to\n",
    "create a tuple, type:</div>"
   ]
  },
  {
   "cell_type": "code",
   "execution_count": 15,
   "metadata": {
    "slideshow": {
     "slide_type": "slide"
    }
   },
   "outputs": [
    {
     "name": "stdout",
     "output_type": "stream",
     "text": [
      "('Python', 'for', 'Data Science')\n"
     ]
    }
   ],
   "source": [
    "mytuple = (\"Python\", \"for\", \"Data Science\")\n",
    "print(mytuple)"
   ]
  },
  {
   "cell_type": "markdown",
   "metadata": {
    "slideshow": {
     "slide_type": "slide"
    }
   },
   "source": [
    "<div style=\"text-align: justify\">Similar to a list, we can access the elements of a tuple using\n",
    "[ ]. For example:</div>"
   ]
  },
  {
   "cell_type": "code",
   "execution_count": 16,
   "metadata": {
    "slideshow": {
     "slide_type": "slide"
    }
   },
   "outputs": [
    {
     "name": "stdout",
     "output_type": "stream",
     "text": [
      "Data Science\n"
     ]
    }
   ],
   "source": [
    "print(mytuple[2])"
   ]
  },
  {
   "cell_type": "markdown",
   "metadata": {
    "slideshow": {
     "slide_type": "slide"
    }
   },
   "source": [
    "<div style=\"text-align: justify\">Negative indexing and a range of indexing can be used on\n",
    "tuples, the way we use them for the lists. We cannot change\n",
    "values present in a tuple once it is created because tuples are\n",
    "immutable. However, there is a workaround:</div>\n",
    "\n",
    "1. Convert the tuple into a list,\n",
    "2. change the list, and\n",
    "3. convert the list back into a tuple."
   ]
  },
  {
   "cell_type": "code",
   "execution_count": 17,
   "metadata": {
    "slideshow": {
     "slide_type": "slide"
    }
   },
   "outputs": [
    {
     "name": "stdout",
     "output_type": "stream",
     "text": [
      "('Python', 'is handy for', 'Data Science')\n"
     ]
    }
   ],
   "source": [
    "mytuple = (\"Python\", \"for\", \"Data Science\")\n",
    "mylist = list(mytuple) ## list() command here is used to copy \"mytuple\" list\n",
    "mylist[1] = \"is handy for\" ## Replace list element mylist[1] \n",
    "mytuple = tuple(mylist)\n",
    "print(mytuple)"
   ]
  },
  {
   "cell_type": "markdown",
   "metadata": {
    "slideshow": {
     "slide_type": "slide"
    }
   },
   "source": [
    "<div style=\"text-align: justify\">Similar to lists, we can:</div>\n",
    "\n",
    "- loop through elements of a tuple by using a for loop;\n",
    "- determine if a specified element is present in a tuple by using the keyword in;\n",
    "- determine the number of elements of a tuple using the len() method; and\n",
    "- join two or more tuples by using the + operator.\n",
    "\n",
    "<br>\n",
    "<div style=\"text-align: justify\">Once a tuple is created, we cannot add items to it. However,\n",
    "    we can delete the tuple completely using <i>del mytuple</i>.</div>"
   ]
  },
  {
   "cell_type": "markdown",
   "metadata": {
    "slideshow": {
     "slide_type": "slide"
    }
   },
   "source": [
    "## Tuple Methods\n",
    "\n",
    "<br>\n",
    "<div style=\"text-align: justify\"><b>count()</b> returns the number of times a specified value occurs\n",
    "in a tuple.</div>"
   ]
  },
  {
   "cell_type": "code",
   "execution_count": 18,
   "metadata": {
    "slideshow": {
     "slide_type": "slide"
    }
   },
   "outputs": [
    {
     "data": {
      "text/plain": [
       "1"
      ]
     },
     "execution_count": 18,
     "metadata": {},
     "output_type": "execute_result"
    }
   ],
   "source": [
    "mytuple = (\"Python\", \"for\", \"Data Science\")\n",
    "mytuple.count('Python')"
   ]
  },
  {
   "cell_type": "markdown",
   "metadata": {
    "slideshow": {
     "slide_type": "slide"
    }
   },
   "source": [
    "<div style=\"text-align: justify\"><b>index()</b> searches the tuple for a specified value and returns\n",
    "the position where it is found. For example,</div>"
   ]
  },
  {
   "cell_type": "code",
   "execution_count": 19,
   "metadata": {
    "slideshow": {
     "slide_type": "slide"
    }
   },
   "outputs": [
    {
     "name": "stdout",
     "output_type": "stream",
     "text": [
      "2\n"
     ]
    },
    {
     "ename": "ValueError",
     "evalue": "tuple.index(x): x not in tuple",
     "output_type": "error",
     "traceback": [
      "\u001b[0;31m---------------------------------------------------------------------------\u001b[0m",
      "\u001b[0;31mValueError\u001b[0m                                Traceback (most recent call last)",
      "Cell \u001b[0;32mIn [19], line 2\u001b[0m\n\u001b[1;32m      1\u001b[0m \u001b[38;5;28mprint\u001b[39m(mytuple\u001b[38;5;241m.\u001b[39mindex(\u001b[38;5;124m'\u001b[39m\u001b[38;5;124mData Science\u001b[39m\u001b[38;5;124m'\u001b[39m))\n\u001b[0;32m----> 2\u001b[0m \u001b[38;5;28mprint\u001b[39m(\u001b[43mmytuple\u001b[49m\u001b[38;5;241;43m.\u001b[39;49m\u001b[43mindex\u001b[49m\u001b[43m(\u001b[49m\u001b[38;5;124;43m'\u001b[39;49m\u001b[38;5;124;43mData\u001b[39;49m\u001b[38;5;124;43m'\u001b[39;49m\u001b[43m)\u001b[49m)\n",
      "\u001b[0;31mValueError\u001b[0m: tuple.index(x): x not in tuple"
     ]
    }
   ],
   "source": [
    "print(mytuple.index('Data Science'))\n",
    "print(mytuple.index('Data'))"
   ]
  },
  {
   "cell_type": "markdown",
   "metadata": {
    "slideshow": {
     "slide_type": "slide"
    }
   },
   "source": [
    "<div style=\"text-align: justify\">We get a ValueError if the specified value is not present in the\n",
    "tuple.</div>"
   ]
  },
  {
   "cell_type": "markdown",
   "metadata": {
    "slideshow": {
     "slide_type": "slide"
    }
   },
   "source": [
    "## Sets\n",
    "\n",
    "<br>\n",
    "<div style=\"text-align: justify\">A set is an unordered and unindexed collection of elements.\n",
    "Sets are written with curly brackets { } in Python. For example,</div>"
   ]
  },
  {
   "cell_type": "code",
   "execution_count": 20,
   "metadata": {
    "slideshow": {
     "slide_type": "slide"
    }
   },
   "outputs": [
    {
     "name": "stdout",
     "output_type": "stream",
     "text": [
      "{'dog', 'tiger', 'cat', 'cow'}\n"
     ]
    }
   ],
   "source": [
    "myset = {\"cat\",\"tiger\",\"dog\",\"cow\"}\n",
    "print(myset)\n",
    "## Note how the output strings in a set are not ordered"
   ]
  },
  {
   "cell_type": "markdown",
   "metadata": {
    "slideshow": {
     "slide_type": "slide"
    }
   },
   "source": [
    "<div style=\"text-align: justify\">Since sets are unordered, there is no index associated with its\n",
    "elements. However, we can loop through the elements of a set\n",
    "    using a <i>for loop</i>.</div>"
   ]
  },
  {
   "cell_type": "code",
   "execution_count": 21,
   "metadata": {
    "slideshow": {
     "slide_type": "slide"
    }
   },
   "outputs": [
    {
     "name": "stdout",
     "output_type": "stream",
     "text": [
      "dog\n",
      "tiger\n",
      "cat\n",
      "cow\n"
     ]
    }
   ],
   "source": [
    "myset = {\"cat\", \"tiger\", \"dog\", \"cow\"}\n",
    "for x in myset:\n",
    "    print(x)"
   ]
  },
  {
   "cell_type": "markdown",
   "metadata": {
    "slideshow": {
     "slide_type": "slide"
    }
   },
   "source": [
    "<div style=\"text-align: justify\">Note there is no order in the printed output. We can also check\n",
    "if a specified value is present in a set by using the keyword in.\n",
    "For example,</div>"
   ]
  },
  {
   "cell_type": "code",
   "execution_count": 22,
   "metadata": {
    "slideshow": {
     "slide_type": "slide"
    }
   },
   "outputs": [
    {
     "name": "stdout",
     "output_type": "stream",
     "text": [
      "True\n",
      "False\n"
     ]
    }
   ],
   "source": [
    "print(\"tiger\" in myset)\n",
    "print(\"lion\" in myset)"
   ]
  },
  {
   "cell_type": "markdown",
   "metadata": {
    "slideshow": {
     "slide_type": "slide"
    }
   },
   "source": [
    "<div style=\"text-align: justify\">We cannot change elements of a set once it is created.\n",
    "    However, we can add new items. We use the method <b>add()</b> to\n",
    "add one element to a set.</div>"
   ]
  },
  {
   "cell_type": "code",
   "execution_count": 23,
   "metadata": {
    "slideshow": {
     "slide_type": "slide"
    }
   },
   "outputs": [
    {
     "name": "stdout",
     "output_type": "stream",
     "text": [
      "{'tiger', 'lion', 'cat', 'cow', 'dog'}\n"
     ]
    }
   ],
   "source": [
    "myset.add(\"lion\")\n",
    "print(myset)"
   ]
  },
  {
   "cell_type": "markdown",
   "metadata": {
    "slideshow": {
     "slide_type": "slide"
    }
   },
   "source": [
    "<div style=\"text-align: justify\">Note there is no order in the output. To add multiple elements,\n",
    "    we use method <b>update()</b>.</div>"
   ]
  },
  {
   "cell_type": "code",
   "execution_count": 24,
   "metadata": {
    "slideshow": {
     "slide_type": "slide"
    }
   },
   "outputs": [
    {
     "name": "stdout",
     "output_type": "stream",
     "text": [
      "{'tiger', 'hawk', 'worm', 'lion', 'cat', 'cow', 'sheep', 'dog', 'geese'}\n"
     ]
    }
   ],
   "source": [
    "myset = {\"cat\", \"tiger\", \"dog\", \"cow\"}\n",
    "myset.update([\"lion\",\"geese\",\"hawk\",\"worm\",\"dog\",\"sheep\",\"sheep\"])\n",
    "## Note that the line above can also be modified to import a list into a set as well\n",
    "\n",
    "print(myset)"
   ]
  },
  {
   "cell_type": "markdown",
   "metadata": {
    "slideshow": {
     "slide_type": "slide"
    }
   },
   "source": [
    "<div style=\"text-align: justify\">Note that ‘sheep’ appears once in the output because\n",
    "duplicates are not allowed in sets. The method ,<b>len(myset)</b>\n",
    "gives the number of elements of a set.</div>\n",
    "    \n",
    "<br>\n",
    "<div style=\"text-align: justify\">We can use the <b>remove()</b> or the <b>discard()</b> method to remove\n",
    "an element in a set. For example, we remove “cow” by using\n",
    "the remove() method.</div>"
   ]
  },
  {
   "cell_type": "code",
   "execution_count": 25,
   "metadata": {
    "slideshow": {
     "slide_type": "slide"
    }
   },
   "outputs": [
    {
     "name": "stdout",
     "output_type": "stream",
     "text": [
      "4\n",
      "{'dog', 'cow'}\n",
      "2\n"
     ]
    }
   ],
   "source": [
    "myset = {\"cat\", \"tiger\", \"dog\", \"cow\"}\n",
    "print(len(myset))\n",
    "myset.remove(\"cat\")\n",
    "myset.discard(\"tiger\")\n",
    "print(myset)\n",
    "print(len(myset))"
   ]
  },
  {
   "cell_type": "markdown",
   "metadata": {
    "slideshow": {
     "slide_type": "slide"
    }
   },
   "source": [
    "<div style=\"text-align: justify\">We can use the <b>union()</b> method to join two or more sets in\n",
    "    Python, or we can use the <b>update()</b> method that inserts all\n",
    "elements from one set into another. Type the following code:</div>"
   ]
  },
  {
   "cell_type": "code",
   "execution_count": 26,
   "metadata": {
    "slideshow": {
     "slide_type": "slide"
    }
   },
   "outputs": [
    {
     "name": "stdout",
     "output_type": "stream",
     "text": [
      "{'C', 1, 2, 3, 'B', 'A'}\n",
      "{'C', 1, 2, 3, 'Alpha', 'A', 'beta', 'B', 'cappa'}\n"
     ]
    }
   ],
   "source": [
    "myset1 = {\"A\", \"B\" , \"C\"}\n",
    "myset2 = {1, 2, 3}\n",
    "myset3 = myset1.union(myset2)\n",
    "print(myset3)\n",
    "\n",
    "\n",
    "myset4 = {\"Alpha\",\"beta\",\"cappa\"}\n",
    "myset6 = myset1.union(myset2,myset4)\n",
    "print(myset6)\n",
    "\n",
    "#listset1 = list(myset1)\n",
    "#listset1.append(\"B\")\n",
    "#listset1.append(\"C\")\n",
    "#listset2 = list(myset2)\n",
    "#listset2.append(\"2\")\n",
    "#listset2.append(\"3\")\n",
    "#listset3 = list(myset3)\n",
    "#listset3.append(\"beta\")\n",
    "#listset1.append(\"cappa\")\n",
    "\n",
    "#superlist = listset1 + listset2 + listset3\n",
    "#print(superlist)"
   ]
  },
  {
   "cell_type": "markdown",
   "metadata": {
    "slideshow": {
     "slide_type": "slide"
    }
   },
   "source": [
    "<div style=\"text-align: justify\">Furthermore, we can:</div>\n",
    "\n",
    "- remove the last item of a set by using the pop() method;\n",
    "- empty the set by using the clear() method; and\n",
    "- delete the set completely using the keyword del."
   ]
  },
  {
   "cell_type": "markdown",
   "metadata": {
    "slideshow": {
     "slide_type": "slide"
    }
   },
   "source": [
    "## Dictionaries for Data Indexing\n",
    "\n",
    "<br>\n",
    "<div style=\"text-align: justify\">A dictionary is an unordered, changeable, and indexed\n",
    "collection of items. A Python dictionary has a key:value pair\n",
    "for every element. Dictionaries are optimized to retrieve values\n",
    "when the key is known. To create a dictionary in Python, we\n",
    "separate key:value element pairs by commas and place them inside curly braces { }. For instance, the following piece of\n",
    "code creates a dictionary named mydict.</div>"
   ]
  },
  {
   "cell_type": "code",
   "execution_count": 27,
   "metadata": {
    "slideshow": {
     "slide_type": "slide"
    }
   },
   "outputs": [
    {
     "name": "stdout",
     "output_type": "stream",
     "text": [
      "{'name': 'Python', 'purpose': 'Data Science', 'year': 2020}\n"
     ]
    }
   ],
   "source": [
    "mydict = {\n",
    "    \"name\":\"Python\",\n",
    "    \"purpose\":\"Data Science\",\n",
    "    \"year\":2020\n",
    "}\n",
    "\n",
    "print(mydict)\n"
   ]
  },
  {
   "cell_type": "markdown",
   "metadata": {
    "slideshow": {
     "slide_type": "slide"
    }
   },
   "source": [
    "<div style=\"text-align: justify\">The values can repeat and they can be of any data type.\n",
    "However, keys must be a unique and immutable string, number,\n",
    "    or tuple. We use <b>square brackets</b> to access a specified value\n",
    "of a dictionary by referring to its key name as follows.</div>"
   ]
  },
  {
   "cell_type": "code",
   "execution_count": 28,
   "metadata": {
    "slideshow": {
     "slide_type": "slide"
    }
   },
   "outputs": [
    {
     "name": "stdout",
     "output_type": "stream",
     "text": [
      "Python\n",
      "Data Science\n"
     ]
    }
   ],
   "source": [
    "# accesses value for key 'name'\n",
    "print(mydict['name'])\n",
    "\n",
    "# accesses value for key 'purpose'\n",
    "print(mydict.get('purpose'))"
   ]
  },
  {
   "cell_type": "markdown",
   "metadata": {
    "slideshow": {
     "slide_type": "slide"
    }
   },
   "source": [
    "<div style=\"text-align: justify\">When we try to access a non-existent key, we get a message:\n",
    "None.</div>"
   ]
  },
  {
   "cell_type": "code",
   "execution_count": 29,
   "metadata": {
    "slideshow": {
     "slide_type": "slide"
    }
   },
   "outputs": [
    {
     "name": "stdout",
     "output_type": "stream",
     "text": [
      "None\n"
     ]
    }
   ],
   "source": [
    "print(mydict.get('address'))"
   ]
  },
  {
   "cell_type": "markdown",
   "metadata": {
    "slideshow": {
     "slide_type": "slide"
    }
   },
   "source": [
    "<div style=\"text-align: justify\">If we run print(mydict[‘address’]), we get the following error:\n",
    "KeyError: ‘address’</div>\n",
    "\n",
    "<br>\n",
    "<div style=\"text-align: justify\">This error indicates that the key ‘address’ does not exist. We\n",
    "can alter the value of a specific element by referring to its key\n",
    "name as follows:</div>"
   ]
  },
  {
   "cell_type": "code",
   "execution_count": 30,
   "metadata": {
    "slideshow": {
     "slide_type": "slide"
    }
   },
   "outputs": [
    {
     "data": {
      "text/plain": [
       "{'name': 'Python', 'purpose': 'Data Science', 'year': 2019}"
      ]
     },
     "execution_count": 30,
     "metadata": {},
     "output_type": "execute_result"
    }
   ],
   "source": [
    "mydict[\"year\"] = 2019\n",
    "mydict"
   ]
  },
  {
   "cell_type": "markdown",
   "metadata": {
    "slideshow": {
     "slide_type": "slide"
    }
   },
   "source": [
    "<div style=\"text-align: justify\">We can loop through a dictionary by using a for loop that\n",
    "    returns <i>keys</i> of the dictionary.</div>"
   ]
  },
  {
   "cell_type": "code",
   "execution_count": 31,
   "metadata": {
    "slideshow": {
     "slide_type": "slide"
    }
   },
   "outputs": [
    {
     "name": "stdout",
     "output_type": "stream",
     "text": [
      "name\n",
      "purpose\n",
      "year\n"
     ]
    }
   ],
   "source": [
    "for k in mydict:\n",
    "    print(k)"
   ]
  },
  {
   "cell_type": "markdown",
   "metadata": {
    "slideshow": {
     "slide_type": "slide"
    }
   },
   "source": [
    "<div style=\"text-align: justify\">We can return the <i>values</i> as well.</div>"
   ]
  },
  {
   "cell_type": "code",
   "execution_count": 32,
   "metadata": {
    "slideshow": {
     "slide_type": "slide"
    }
   },
   "outputs": [
    {
     "name": "stdout",
     "output_type": "stream",
     "text": [
      "Python\n",
      "Data Science\n",
      "2019\n"
     ]
    }
   ],
   "source": [
    "for k in mydict:\n",
    "    print(mydict[k])"
   ]
  },
  {
   "cell_type": "markdown",
   "metadata": {
    "slideshow": {
     "slide_type": "slide"
    }
   },
   "source": [
    "<div style=\"text-align: justify\">We can get the same output if we use the following.</div>"
   ]
  },
  {
   "cell_type": "code",
   "execution_count": 33,
   "metadata": {
    "slideshow": {
     "slide_type": "slide"
    }
   },
   "outputs": [
    {
     "name": "stdout",
     "output_type": "stream",
     "text": [
      "Python\n",
      "Data Science\n",
      "2019\n"
     ]
    }
   ],
   "source": [
    "for k in mydict.values():\n",
    "    print(k)"
   ]
  },
  {
   "cell_type": "markdown",
   "metadata": {
    "slideshow": {
     "slide_type": "slide"
    }
   },
   "source": [
    "<div style=\"text-align: justify\">We can loop through a dictionary and access both keys and\n",
    "values by using the method items() as follows.</div>"
   ]
  },
  {
   "cell_type": "code",
   "execution_count": 34,
   "metadata": {
    "slideshow": {
     "slide_type": "slide"
    }
   },
   "outputs": [
    {
     "name": "stdout",
     "output_type": "stream",
     "text": [
      "name Python\n",
      "purpose Data Science\n",
      "year 2019\n"
     ]
    }
   ],
   "source": [
    "for x, y in mydict.items():\n",
    "    print(x, y)"
   ]
  },
  {
   "cell_type": "markdown",
   "metadata": {
    "slideshow": {
     "slide_type": "slide"
    }
   },
   "source": [
    "<div style=\"text-align: justify\">We can check whether a key is present in the dictionary by\n",
    "    using a conditional <i>if</i> statement.</div>"
   ]
  },
  {
   "cell_type": "code",
   "execution_count": 35,
   "metadata": {
    "slideshow": {
     "slide_type": "slide"
    }
   },
   "outputs": [
    {
     "name": "stdout",
     "output_type": "stream",
     "text": [
      "'purpose' is one of the valid keys\n"
     ]
    }
   ],
   "source": [
    "if \"purpose\" in mydict:\n",
    "    print(\"'purpose' is one of the valid keys\")"
   ]
  },
  {
   "cell_type": "markdown",
   "metadata": {
    "slideshow": {
     "slide_type": "slide"
    }
   },
   "source": [
    "<div style=\"text-align: justify\">A new element can be added to the dictionary by using a new\n",
    "key and assigning a value to this key, as given below.</div>"
   ]
  },
  {
   "cell_type": "code",
   "execution_count": 36,
   "metadata": {
    "slideshow": {
     "slide_type": "slide"
    }
   },
   "outputs": [
    {
     "name": "stdout",
     "output_type": "stream",
     "text": [
      "{'name': 'Python', 'purpose': 'Data Science', 'year': 2019, 'pages': 300}\n"
     ]
    }
   ],
   "source": [
    "mydict[\"pages\"] = 300\n",
    "print(mydict)"
   ]
  },
  {
   "cell_type": "markdown",
   "metadata": {
    "slideshow": {
     "slide_type": "slide"
    }
   },
   "source": [
    "<div style=\"text-align: justify\">The method <i>pop()</i> removes the element with the specified\n",
    "    key name. The keyword <i>del</i> also does the same.</div>"
   ]
  },
  {
   "cell_type": "code",
   "execution_count": 37,
   "metadata": {
    "slideshow": {
     "slide_type": "slide"
    }
   },
   "outputs": [
    {
     "name": "stdout",
     "output_type": "stream",
     "text": [
      "{'name': 'Python', 'purpose': 'Data Science', 'pages': 300}\n"
     ]
    }
   ],
   "source": [
    "mydict.pop(\"year\")\n",
    "# or use del mydict[\"year\"] to get same result\n",
    "print(mydict)"
   ]
  },
  {
   "cell_type": "markdown",
   "metadata": {
    "slideshow": {
     "slide_type": "slide"
    }
   },
   "source": [
    "<div style=\"text-align: justify\">The keyword <i>del</i> removes the whole dictionary when we\n",
    "use del mydict. The method clear() deletes all elements of a\n",
    "dictionary.</div>"
   ]
  },
  {
   "cell_type": "code",
   "execution_count": 38,
   "metadata": {
    "slideshow": {
     "slide_type": "slide"
    }
   },
   "outputs": [
    {
     "data": {
      "text/plain": [
       "{}"
      ]
     },
     "execution_count": 38,
     "metadata": {},
     "output_type": "execute_result"
    }
   ],
   "source": [
    "mydict.clear()\n",
    "mydict"
   ]
  },
  {
   "cell_type": "markdown",
   "metadata": {
    "slideshow": {
     "slide_type": "slide"
    }
   },
   "source": []
  },
  {
   "cell_type": "markdown",
   "metadata": {
    "slideshow": {
     "slide_type": "slide"
    }
   },
   "source": [
    "# DataFrame\n",
    "We can use DataFrame commands from Pandas package to visualise dictionary in Python in a way that it looks like a table"
   ]
  },
  {
   "cell_type": "code",
   "execution_count": 4,
   "metadata": {
    "slideshow": {
     "slide_type": "slide"
    }
   },
   "outputs": [
    {
     "data": {
      "text/html": [
       "<div>\n",
       "<style scoped>\n",
       "    .dataframe tbody tr th:only-of-type {\n",
       "        vertical-align: middle;\n",
       "    }\n",
       "\n",
       "    .dataframe tbody tr th {\n",
       "        vertical-align: top;\n",
       "    }\n",
       "\n",
       "    .dataframe thead th {\n",
       "        text-align: right;\n",
       "    }\n",
       "</style>\n",
       "<table border=\"1\" class=\"dataframe\">\n",
       "  <thead>\n",
       "    <tr style=\"text-align: right;\">\n",
       "      <th></th>\n",
       "      <th>color</th>\n",
       "      <th>items</th>\n",
       "      <th>price</th>\n",
       "    </tr>\n",
       "  </thead>\n",
       "  <tbody>\n",
       "    <tr>\n",
       "      <th>0</th>\n",
       "      <td>blue</td>\n",
       "      <td>ball</td>\n",
       "      <td>2.5</td>\n",
       "    </tr>\n",
       "    <tr>\n",
       "      <th>1</th>\n",
       "      <td>green</td>\n",
       "      <td>pen</td>\n",
       "      <td>1.2</td>\n",
       "    </tr>\n",
       "    <tr>\n",
       "      <th>2</th>\n",
       "      <td>yellow</td>\n",
       "      <td>pencil</td>\n",
       "      <td>0.6</td>\n",
       "    </tr>\n",
       "    <tr>\n",
       "      <th>3</th>\n",
       "      <td>red</td>\n",
       "      <td>marker</td>\n",
       "      <td>4.5</td>\n",
       "    </tr>\n",
       "    <tr>\n",
       "      <th>4</th>\n",
       "      <td>black</td>\n",
       "      <td>mug</td>\n",
       "      <td>9.0</td>\n",
       "    </tr>\n",
       "  </tbody>\n",
       "</table>\n",
       "</div>"
      ],
      "text/plain": [
       "    color   items  price\n",
       "0    blue    ball    2.5\n",
       "1   green     pen    1.2\n",
       "2  yellow  pencil    0.6\n",
       "3     red  marker    4.5\n",
       "4   black     mug    9.0"
      ]
     },
     "execution_count": 4,
     "metadata": {},
     "output_type": "execute_result"
    }
   ],
   "source": [
    "import pandas as pd\n",
    "data = {\n",
    "    'color': ['blue','green','yellow','red','black'],\n",
    "    'items' : ['ball','pen','pencil','marker','mug'],\n",
    "    'price' : [2.5,1.2,0.6,4.5,9]\n",
    "}\n",
    "myframe = pd.DataFrame(data)\n",
    "myframe"
   ]
  },
  {
   "cell_type": "code",
   "execution_count": 5,
   "metadata": {
    "slideshow": {
     "slide_type": "slide"
    }
   },
   "outputs": [
    {
     "data": {
      "text/html": [
       "<div>\n",
       "<style scoped>\n",
       "    .dataframe tbody tr th:only-of-type {\n",
       "        vertical-align: middle;\n",
       "    }\n",
       "\n",
       "    .dataframe tbody tr th {\n",
       "        vertical-align: top;\n",
       "    }\n",
       "\n",
       "    .dataframe thead th {\n",
       "        text-align: right;\n",
       "    }\n",
       "</style>\n",
       "<table border=\"1\" class=\"dataframe\">\n",
       "  <thead>\n",
       "    <tr style=\"text-align: right;\">\n",
       "      <th></th>\n",
       "      <th>Employee Name</th>\n",
       "      <th>Skillset</th>\n",
       "      <th>Experience(years)</th>\n",
       "    </tr>\n",
       "  </thead>\n",
       "  <tbody>\n",
       "    <tr>\n",
       "      <th>0</th>\n",
       "      <td>Muthu</td>\n",
       "      <td>Python</td>\n",
       "      <td>4</td>\n",
       "    </tr>\n",
       "    <tr>\n",
       "      <th>1</th>\n",
       "      <td>Ali</td>\n",
       "      <td>Powerpoint</td>\n",
       "      <td>5</td>\n",
       "    </tr>\n",
       "    <tr>\n",
       "      <th>2</th>\n",
       "      <td>Cheong</td>\n",
       "      <td>Tablue</td>\n",
       "      <td>2</td>\n",
       "    </tr>\n",
       "  </tbody>\n",
       "</table>\n",
       "</div>"
      ],
      "text/plain": [
       "  Employee Name    Skillset  Experience(years)\n",
       "0         Muthu      Python                  4\n",
       "1           Ali  Powerpoint                  5\n",
       "2        Cheong      Tablue                  2"
      ]
     },
     "execution_count": 5,
     "metadata": {},
     "output_type": "execute_result"
    }
   ],
   "source": [
    "mydata = {\n",
    "    'Employee Name' : ['Muthu', 'Ali','Cheong'],\n",
    "    'Skillset' : ['Python','Powerpoint','Tablue'],\n",
    "    'Experience(years)' : [4,5,2]\n",
    "}\n",
    "\n",
    "myframe = pd.DataFrame(mydata)\n",
    "myframe"
   ]
  },
  {
   "cell_type": "code",
   "execution_count": 6,
   "metadata": {
    "slideshow": {
     "slide_type": "slide"
    }
   },
   "outputs": [
    {
     "data": {
      "text/html": [
       "<div>\n",
       "<style scoped>\n",
       "    .dataframe tbody tr th:only-of-type {\n",
       "        vertical-align: middle;\n",
       "    }\n",
       "\n",
       "    .dataframe tbody tr th {\n",
       "        vertical-align: top;\n",
       "    }\n",
       "\n",
       "    .dataframe thead th {\n",
       "        text-align: right;\n",
       "    }\n",
       "</style>\n",
       "<table border=\"1\" class=\"dataframe\">\n",
       "  <thead>\n",
       "    <tr style=\"text-align: right;\">\n",
       "      <th></th>\n",
       "      <th>Experience(years)</th>\n",
       "      <th>Employee Name</th>\n",
       "    </tr>\n",
       "  </thead>\n",
       "  <tbody>\n",
       "    <tr>\n",
       "      <th>0</th>\n",
       "      <td>4</td>\n",
       "      <td>Muthu</td>\n",
       "    </tr>\n",
       "    <tr>\n",
       "      <th>1</th>\n",
       "      <td>5</td>\n",
       "      <td>Ali</td>\n",
       "    </tr>\n",
       "    <tr>\n",
       "      <th>2</th>\n",
       "      <td>2</td>\n",
       "      <td>Cheong</td>\n",
       "    </tr>\n",
       "  </tbody>\n",
       "</table>\n",
       "</div>"
      ],
      "text/plain": [
       "   Experience(years) Employee Name\n",
       "0                  4         Muthu\n",
       "1                  5           Ali\n",
       "2                  2        Cheong"
      ]
     },
     "execution_count": 6,
     "metadata": {},
     "output_type": "execute_result"
    }
   ],
   "source": [
    "myframe2 = pd.DataFrame(mydata, columns = ['Experience(years)','Employee Name'])\n",
    "myframe2"
   ]
  },
  {
   "cell_type": "markdown",
   "metadata": {},
   "source": [
    "We can alter the indec of a Data Frame using the snippet below"
   ]
  },
  {
   "cell_type": "code",
   "execution_count": 8,
   "metadata": {},
   "outputs": [
    {
     "data": {
      "text/html": [
       "<div>\n",
       "<style scoped>\n",
       "    .dataframe tbody tr th:only-of-type {\n",
       "        vertical-align: middle;\n",
       "    }\n",
       "\n",
       "    .dataframe tbody tr th {\n",
       "        vertical-align: top;\n",
       "    }\n",
       "\n",
       "    .dataframe thead th {\n",
       "        text-align: right;\n",
       "    }\n",
       "</style>\n",
       "<table border=\"1\" class=\"dataframe\">\n",
       "  <thead>\n",
       "    <tr style=\"text-align: right;\">\n",
       "      <th></th>\n",
       "      <th>Employee Name</th>\n",
       "      <th>Skillset</th>\n",
       "      <th>Experience(years)</th>\n",
       "    </tr>\n",
       "  </thead>\n",
       "  <tbody>\n",
       "    <tr>\n",
       "      <th>zero</th>\n",
       "      <td>Muthu</td>\n",
       "      <td>Python</td>\n",
       "      <td>4</td>\n",
       "    </tr>\n",
       "    <tr>\n",
       "      <th>one</th>\n",
       "      <td>Ali</td>\n",
       "      <td>Powerpoint</td>\n",
       "      <td>5</td>\n",
       "    </tr>\n",
       "    <tr>\n",
       "      <th>2</th>\n",
       "      <td>Cheong</td>\n",
       "      <td>Tablue</td>\n",
       "      <td>2</td>\n",
       "    </tr>\n",
       "  </tbody>\n",
       "</table>\n",
       "</div>"
      ],
      "text/plain": [
       "     Employee Name    Skillset  Experience(years)\n",
       "zero         Muthu      Python                  4\n",
       "one            Ali  Powerpoint                  5\n",
       "2           Cheong      Tablue                  2"
      ]
     },
     "execution_count": 8,
     "metadata": {},
     "output_type": "execute_result"
    }
   ],
   "source": [
    "myframe3 = pd.DataFrame(mydata, index = ['zero','one',2])\n",
    "myframe3\n"
   ]
  },
  {
   "cell_type": "code",
   "execution_count": 9,
   "metadata": {},
   "outputs": [
    {
     "data": {
      "text/plain": [
       "array([[ 0,  1,  2,  3,  4],\n",
       "       [ 5,  6,  7,  8,  9],\n",
       "       [10, 11, 12, 13, 14]])"
      ]
     },
     "execution_count": 9,
     "metadata": {},
     "output_type": "execute_result"
    }
   ],
   "source": [
    "import numpy as np\n",
    "\n",
    "np.arange(15).reshape((3,5)) \n",
    "# Generates number from 0 to 14, creates 3x5 matrices"
   ]
  },
  {
   "cell_type": "code",
   "execution_count": null,
   "metadata": {},
   "outputs": [],
   "source": []
  }
 ],
 "metadata": {
  "celltoolbar": "Slideshow",
  "kernelspec": {
   "display_name": "Python 3 (ipykernel)",
   "language": "python",
   "name": "python3"
  },
  "language_info": {
   "codemirror_mode": {
    "name": "ipython",
    "version": 3
   },
   "file_extension": ".py",
   "mimetype": "text/x-python",
   "name": "python",
   "nbconvert_exporter": "python",
   "pygments_lexer": "ipython3",
   "version": "3.10.6"
  }
 },
 "nbformat": 4,
 "nbformat_minor": 4
}
