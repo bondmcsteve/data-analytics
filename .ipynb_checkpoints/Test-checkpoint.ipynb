{
 "cells": [
  {
   "cell_type": "markdown",
   "id": "60cb60d7",
   "metadata": {},
   "source": [
    "# Example 1\n",
    "## Hello World command"
   ]
  },
  {
   "cell_type": "code",
   "execution_count": 4,
   "id": "35dc4134",
   "metadata": {},
   "outputs": [
    {
     "name": "stdout",
     "output_type": "stream",
     "text": [
      "Hello World\n"
     ]
    }
   ],
   "source": [
    "print(\"Hello World\")"
   ]
  },
  {
   "cell_type": "markdown",
   "id": "c61c8cea",
   "metadata": {},
   "source": [
    "# Example 2\n",
    "## Getting the data type of a cell"
   ]
  },
  {
   "cell_type": "code",
   "execution_count": 3,
   "id": "f82c339b",
   "metadata": {},
   "outputs": [
    {
     "data": {
      "text/plain": [
       "bool"
      ]
     },
     "execution_count": 3,
     "metadata": {},
     "output_type": "execute_result"
    }
   ],
   "source": [
    "a = True\n",
    "type(a) # it returns the type of as a bool"
   ]
  },
  {
   "cell_type": "markdown",
   "id": "ee516eeb",
   "metadata": {},
   "source": [
    "# Example 3\n",
    "## Getting the truth value for a certain mathematical statement"
   ]
  },
  {
   "cell_type": "code",
   "execution_count": 5,
   "id": "0c7bfb5c",
   "metadata": {},
   "outputs": [
    {
     "data": {
      "text/plain": [
       "False"
      ]
     },
     "execution_count": 5,
     "metadata": {},
     "output_type": "execute_result"
    }
   ],
   "source": [
    "bool_variable = 5 < 3\n",
    "bool_variable"
   ]
  },
  {
   "cell_type": "code",
   "execution_count": 6,
   "id": "535cb12d",
   "metadata": {},
   "outputs": [
    {
     "data": {
      "text/plain": [
       "-12"
      ]
     },
     "execution_count": 6,
     "metadata": {},
     "output_type": "execute_result"
    }
   ],
   "source": [
    "20-4*8"
   ]
  },
  {
   "cell_type": "markdown",
   "id": "1debaae0",
   "metadata": {},
   "source": [
    "# Example 4\n",
    "## Algebraic computation"
   ]
  },
  {
   "cell_type": "code",
   "execution_count": null,
   "id": "474707f5",
   "metadata": {},
   "outputs": [],
   "source": [
    "10/4"
   ]
  },
  {
   "cell_type": "markdown",
   "id": "72b158f9",
   "metadata": {},
   "source": [
    "# Example 5\n",
    "## Conducting complement \n",
    "### Consider a negative number, let's say -3, calculate the 1's and 2's complement "
   ]
  },
  {
   "cell_type": "code",
   "execution_count": 12,
   "id": "2b45e825",
   "metadata": {},
   "outputs": [
    {
     "data": {
      "text/plain": [
       "'0b11'"
      ]
     },
     "execution_count": 12,
     "metadata": {},
     "output_type": "execute_result"
    }
   ],
   "source": [
    "p = 3\n",
    "bin(p)"
   ]
  },
  {
   "cell_type": "code",
   "execution_count": 13,
   "id": "5aa8d0c3",
   "metadata": {},
   "outputs": [
    {
     "data": {
      "text/plain": [
       "'-0b100'"
      ]
     },
     "execution_count": 13,
     "metadata": {},
     "output_type": "execute_result"
    }
   ],
   "source": [
    "bin(~p) #This represents 1's complement"
   ]
  },
  {
   "cell_type": "code",
   "execution_count": 15,
   "id": "e85514b5",
   "metadata": {},
   "outputs": [
    {
     "data": {
      "text/plain": [
       "'-0b1000b1'"
      ]
     },
     "execution_count": 15,
     "metadata": {},
     "output_type": "execute_result"
    }
   ],
   "source": [
    "bin(~p) + bin(1) #This represents 2's complement"
   ]
  },
  {
   "cell_type": "markdown",
   "id": "bb2f50cf",
   "metadata": {},
   "source": [
    "# Example 6\n",
    "## Logical Operators\n",
    "### Begin by asserting the x and y values"
   ]
  },
  {
   "cell_type": "code",
   "execution_count": 16,
   "id": "9552952d",
   "metadata": {},
   "outputs": [],
   "source": [
    "x = 8\n",
    "y = 3"
   ]
  },
  {
   "cell_type": "code",
   "execution_count": 17,
   "id": "4614ec78",
   "metadata": {},
   "outputs": [
    {
     "data": {
      "text/plain": [
       "True"
      ]
     },
     "execution_count": 17,
     "metadata": {},
     "output_type": "execute_result"
    }
   ],
   "source": [
    "x > y\n"
   ]
  },
  {
   "cell_type": "code",
   "execution_count": 18,
   "id": "ea202288",
   "metadata": {},
   "outputs": [
    {
     "data": {
      "text/plain": [
       "False"
      ]
     },
     "execution_count": 18,
     "metadata": {},
     "output_type": "execute_result"
    }
   ],
   "source": [
    "x < y"
   ]
  },
  {
   "cell_type": "code",
   "execution_count": 20,
   "id": "0f14ab03",
   "metadata": {},
   "outputs": [
    {
     "data": {
      "text/plain": [
       "True"
      ]
     },
     "execution_count": 20,
     "metadata": {},
     "output_type": "execute_result"
    }
   ],
   "source": [
    "x >= y"
   ]
  },
  {
   "cell_type": "code",
   "execution_count": 21,
   "id": "75d416c2",
   "metadata": {},
   "outputs": [
    {
     "data": {
      "text/plain": [
       "False"
      ]
     },
     "execution_count": 21,
     "metadata": {},
     "output_type": "execute_result"
    }
   ],
   "source": [
    "x <= y"
   ]
  },
  {
   "cell_type": "code",
   "execution_count": 22,
   "id": "4b09979a",
   "metadata": {},
   "outputs": [
    {
     "data": {
      "text/plain": [
       "2"
      ]
     },
     "execution_count": 22,
     "metadata": {},
     "output_type": "execute_result"
    }
   ],
   "source": [
    "x % y"
   ]
  },
  {
   "cell_type": "markdown",
   "id": "819e42ff",
   "metadata": {},
   "source": [
    "# Example 8\n",
    "## Handling Strings \n",
    "### One can use the print() command to print string value of a memory cell, and also run through a logical statement through it as well"
   ]
  },
  {
   "cell_type": "code",
   "execution_count": 24,
   "id": "f967ecd7",
   "metadata": {},
   "outputs": [
    {
     "name": "stdout",
     "output_type": "stream",
     "text": [
      "Hello World\n",
      "True\n",
      "False\n"
     ]
    }
   ],
   "source": [
    "tx1 = 'Hello World'\n",
    "print(tx1)\n",
    "print(\"H\" in tx1)\n",
    "print('Hello' not in tx1)\n",
    "\n"
   ]
  },
  {
   "cell_type": "code",
   "execution_count": null,
   "id": "2c8a02d4",
   "metadata": {},
   "outputs": [],
   "source": []
  }
 ],
 "metadata": {
  "kernelspec": {
   "display_name": "Python 3 (ipykernel)",
   "language": "python",
   "name": "python3"
  },
  "language_info": {
   "codemirror_mode": {
    "name": "ipython",
    "version": 3
   },
   "file_extension": ".py",
   "mimetype": "text/x-python",
   "name": "python",
   "nbconvert_exporter": "python",
   "pygments_lexer": "ipython3",
   "version": "3.10.6"
  }
 },
 "nbformat": 4,
 "nbformat_minor": 5
}
