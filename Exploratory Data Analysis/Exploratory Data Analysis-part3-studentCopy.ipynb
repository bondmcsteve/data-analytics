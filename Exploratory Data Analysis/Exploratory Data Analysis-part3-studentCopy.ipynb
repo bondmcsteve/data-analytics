{
 "cells": [
  {
   "cell_type": "markdown",
   "metadata": {
    "slideshow": {
     "slide_type": "slide"
    }
   },
   "source": [
    "### Pie Charts\n",
    "\n",
    "<br>\n",
    "\n",
    "<div style=\"text-align: justify\">A pie chart, a circular statistical chart, is used to display the\n",
    "percentage distribution of categorical variables. The area of\n",
    "the entire chart represents 100 percent or the whole data. The\n",
    "area of each pie in the chart denotes the percentage of share\n",
    "of data.</div>"
   ]
  },
  {
   "cell_type": "markdown",
   "metadata": {
    "slideshow": {
     "slide_type": "slide"
    }
   },
   "source": [
    "<div style=\"text-align: justify\">Pie charts are popular in business communications because\n",
    "they give a quick summary of the various activities such as\n",
    "sales and operations. Pie charts are also used to summarize\n",
    "survey results, resource usage diagrams, and memory usage\n",
    "in a computer system.</div>"
   ]
  },
  {
   "cell_type": "markdown",
   "metadata": {
    "slideshow": {
     "slide_type": "slide"
    }
   },
   "source": [
    "<div style=\"text-align: justify\">To draw a pie chart, we use the function pie() in the pyplot\n",
    "module. The following Python code draws a pie chart showing\n",
    "the world population by continents.</div>"
   ]
  },
  {
   "cell_type": "code",
   "execution_count": null,
   "metadata": {
    "slideshow": {
     "slide_type": "slide"
    }
   },
   "outputs": [],
   "source": []
  },
  {
   "cell_type": "code",
   "execution_count": null,
   "metadata": {
    "slideshow": {
     "slide_type": "slide"
    }
   },
   "outputs": [],
   "source": []
  },
  {
   "cell_type": "markdown",
   "metadata": {
    "slideshow": {
     "slide_type": "slide"
    }
   },
   "source": [
    "<div style=\"text-align: justify\">The explode option is used to generate some distance from\n",
    "    the center of the plot. The <b>autopct</b>=‘%.1f%%’ string formatting\n",
    "is used for the formatting of how the percentages appear on\n",
    "the pie chart.</div>"
   ]
  },
  {
   "cell_type": "code",
   "execution_count": null,
   "metadata": {
    "slideshow": {
     "slide_type": "slide"
    }
   },
   "outputs": [],
   "source": [
    "\n"
   ]
  },
  {
   "cell_type": "markdown",
   "metadata": {
    "slideshow": {
     "slide_type": "slide"
    }
   },
   "source": [
    "## Testing Assumptions about Data\n",
    "\n",
    "<br>\n",
    "\n",
    "<div style=\"text-align: justify\">Statistical and machine learning models work best if the data\n",
    "follows some assumptions. These assumptions can be the:</div>\n",
    "\n",
    "* Independence of features;\n",
    "* Linear or quadratic dependency of features with the target variable; and\n",
    "* Normal or Gaussian distribution of features."
   ]
  },
  {
   "cell_type": "markdown",
   "metadata": {
    "slideshow": {
     "slide_type": "slide"
    }
   },
   "source": [
    "<div style=\"text-align: justify\">One of the major objectives of the EDA is to test these\n",
    "assumptions. To check these assumptions, we work with\n",
    "the USA_Housing dataset.</div>"
   ]
  },
  {
   "cell_type": "code",
   "execution_count": null,
   "metadata": {
    "slideshow": {
     "slide_type": "slide"
    }
   },
   "outputs": [],
   "source": []
  },
  {
   "cell_type": "markdown",
   "metadata": {
    "slideshow": {
     "slide_type": "slide"
    }
   },
   "source": [
    "### Checking Assumption of Normal Distribution of Features\n",
    "\n",
    "<br>\n",
    "\n",
    "<div style=\"text-align: justify\">Many machine learning models assume a Normal or Gaussian\n",
    "distribution of features. We can check whether the features\n",
    "in our dataset are normally distributed by just plotting the\n",
    "histogram of features.</div>"
   ]
  },
  {
   "cell_type": "code",
   "execution_count": null,
   "metadata": {
    "slideshow": {
     "slide_type": "slide"
    }
   },
   "outputs": [],
   "source": [
    "# Plotting histogram of all the features\n"
   ]
  },
  {
   "cell_type": "markdown",
   "metadata": {
    "slideshow": {
     "slide_type": "slide"
    }
   },
   "source": [
    "### Checking Independence of Features\n",
    "\n",
    "<br>\n",
    "\n",
    "<div style=\"text-align: justify\">We can also check if the features are independent of each\n",
    "other or not. One of the many possible ways is to draw a\n",
    "scatter plot of every pair of features. Another way is to draw a\n",
    "scatter matrix that is able to show histograms of every feature\n",
    "on its diagonal entries, and displays scatter plots of every pair\n",
    "of features on off-diagonal entries. We type the following to\n",
    "draw a scatter matrix.</div>"
   ]
  },
  {
   "cell_type": "code",
   "execution_count": null,
   "metadata": {
    "slideshow": {
     "slide_type": "slide"
    }
   },
   "outputs": [],
   "source": []
  },
  {
   "cell_type": "markdown",
   "metadata": {
    "slideshow": {
     "slide_type": "slide"
    }
   },
   "source": [
    "<div style=\"text-align: justify\">The option diagonal can be set to <b>kde</b>, kernel density\n",
    "estimation, that is closely related to the histogram, or it can\n",
    "    be <b>hist</b>. If the points on a scatter plot are distributed such\n",
    "that they form a circle or approximately a circle, we say that\n",
    "the features are independent or approximately independent\n",
    "of each other.</div>"
   ]
  },
  {
   "cell_type": "markdown",
   "metadata": {
    "slideshow": {
     "slide_type": "slide"
    }
   },
   "source": [
    "<div style=\"text-align: justify\">A close inspection of this plot reveals that most features are independent of each other.\n",
    "If the points on a scatter plot are distributed such that they\n",
    "form an angled oval, we say that the features are dependent.\n",
    "A close inspection of this plot reveals that the target variable\n",
    "price depends upon:</div>\n",
    "\n",
    "* Avg. Area Income,\n",
    "* Avg. Area House Age,\n",
    "* Avg. Area Number of Rooms, and\n",
    "* Area Population."
   ]
  },
  {
   "cell_type": "markdown",
   "metadata": {
    "slideshow": {
     "slide_type": "slide"
    }
   },
   "source": [
    "## Selecting Important Features/Variables\n",
    "\n",
    "<br>\n",
    "\n",
    "<div style=\"text-align: justify\">In order to lessen the computational load and to achieve\n",
    "better accuracy, we have to identify the most relevant features\n",
    "from a set of data and remove the irrelevant or less important\n",
    "features which do not provide value to the target variable.</div>"
   ]
  },
  {
   "cell_type": "markdown",
   "metadata": {
    "slideshow": {
     "slide_type": "slide"
    }
   },
   "source": [
    "<div style=\"text-align: justify\">Feature selection is a core concept that impacts the\n",
    "performance of a machine learning model. The process of\n",
    "feature selection picks up those features which contribute\n",
    "most to the target variable or output. Though there are many statistical and machine learning-based methods to select\n",
    "important features/ variables from a dataset, here we describe\n",
    "a basic method based on the correlation between features. The\n",
    "correlation is a statistical term that measures the dependency\n",
    "between two features as a number ranging from −1 to 1.</div>"
   ]
  },
  {
   "cell_type": "markdown",
   "metadata": {
    "slideshow": {
     "slide_type": "slide"
    }
   },
   "source": [
    "<div style=\"text-align: justify\">If one variable increases, the other increases, and vice versa.\n",
    "We say that the correlation between these two variables is\n",
    "positive. However, if one variable increases, the other decreases,\n",
    "and vice versa, we say that the correlation between these two\n",
    "variables is negative.</div>"
   ]
  },
  {
   "cell_type": "markdown",
   "metadata": {
    "slideshow": {
     "slide_type": "slide"
    }
   },
   "source": [
    "<div style=\"text-align: justify\">To find the correlation, we use the method corr (). To plot the\n",
    "correlation matrix, we import the Seaborn library as sns.</div>"
   ]
  },
  {
   "cell_type": "code",
   "execution_count": null,
   "metadata": {
    "slideshow": {
     "slide_type": "slide"
    }
   },
   "outputs": [],
   "source": []
  },
  {
   "cell_type": "markdown",
   "metadata": {
    "slideshow": {
     "slide_type": "slide"
    }
   },
   "source": [
    "<div style=\"text-align: justify\">The <i>annot</i> and <i>cmap</i> options display the value of the correlation\n",
    "coefficient within the square boxes, and the color map to\n",
    "display the figure, respectively.</div>"
   ]
  },
  {
   "cell_type": "markdown",
   "metadata": {
    "slideshow": {
     "slide_type": "slide"
    }
   },
   "source": [
    "<div style=\"text-align: justify\">The values closer to zero in the red boxes indicate that these\n",
    "features are nearly independent of each other. However, larger\n",
    "values such as 0.64 between Price and Avg. Area Income\n",
    "indicates that the house prices are strongly correlated with\n",
    "the average income of residents of a particular area. Features\n",
    "having a small value of correlation with the target variable can be neglected. For example, the variable Avg. Area Number of\n",
    "Bedrooms has a correlation of 0.17 with the Price that can be\n",
    "neglected.</div>"
   ]
  },
  {
   "cell_type": "markdown",
   "metadata": {
    "slideshow": {
     "slide_type": "slide"
    }
   },
   "source": [
    "<div style=\"text-align: justify\">We have seen a basic method for feature selection. Advanced\n",
    "machine learning based methods can be employed for feature\n",
    "selection and extraction.</div>"
   ]
  },
  {
   "cell_type": "code",
   "execution_count": null,
   "metadata": {},
   "outputs": [],
   "source": []
  }
 ],
 "metadata": {
  "celltoolbar": "Slideshow",
  "kernelspec": {
   "display_name": "Python 3 (ipykernel)",
   "language": "python",
   "name": "python3"
  },
  "language_info": {
   "codemirror_mode": {
    "name": "ipython",
    "version": 3
   },
   "file_extension": ".py",
   "mimetype": "text/x-python",
   "name": "python",
   "nbconvert_exporter": "python",
   "pygments_lexer": "ipython3",
   "version": "3.10.6"
  }
 },
 "nbformat": 4,
 "nbformat_minor": 4
}
