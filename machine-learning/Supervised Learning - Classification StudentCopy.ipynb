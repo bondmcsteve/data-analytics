{
 "cells": [
  {
   "cell_type": "markdown",
   "metadata": {
    "slideshow": {
     "slide_type": "slide"
    }
   },
   "source": [
    "# Supervised Learning: Classification\n",
    "\n",
    "<br>\n",
    "\n",
    "<div style=\"text-align: justify\">In addition to the regression, the second most common\n",
    "supervised learning problem is a classification that works\n",
    "when the output labels have a discrete set of values. Plant\n",
    "species prediction, spam email detection, face recognition, and human emotion recognition are classic examples of\n",
    "classification problems where we have a small set of classes\n",
    "or discrete labels to predict. The commonly used classification\n",
    "algorithms are described as follows (Logistic Regression, Nearest Neighbor Classification, Naïve Bayes’ Classification, Decision Trees). </div>"
   ]
  },
  {
   "cell_type": "markdown",
   "metadata": {
    "slideshow": {
     "slide_type": "slide"
    }
   },
   "source": [
    "## Logistic Regression\n",
    "\n",
    "<br>\n",
    "\n",
    "<div style=\"text-align: justify\">Logistic regression, contrasting to its name, is a classification\n",
    "method. It is a type of linear classifier that bears similarities\n",
    "with linear regression. This method of classification uses a\n",
    "logistic or sigmoid function which is given as </div>\n",
    "\n",
    "\n",
    "$ f(x) = \\frac{1}{1\\,+\\,e^{\\,-x}}$\n",
    "\n",
    "<br>\n",
    "\n",
    "<div style=\"text-align: justify\">The plot of the sigmoid function, given in figure below, reveals\n",
    "that it varies between 0 and 1. The sigmoid function, across\n",
    "most of its domain, has values close to either 0 or 1. This fact\n",
    "makes it perfect for application in classification methods. It is\n",
    "used for binary or two-class classification problems. However,\n",
    "it can also be applied to multi-class problems.</div>\n",
    "\n",
    "<br>\n",
    "\n",
    "<img src=\"Images/LRnew.png\" style=\"margin:auto\"/> \n",
    "\n",
    "<br>\n",
    "\n",
    "<div style=\"text-align: justify\">Classification of output variables based on logistic regression\n",
    "is fast, and its results are easy to interpret.</div>"
   ]
  },
  {
   "cell_type": "markdown",
   "metadata": {
    "slideshow": {
     "slide_type": "slide"
    }
   },
   "source": [
    "<div style=\"text-align: justify\">To implement the logistic regression in Python, we first import\n",
    "libraries and packages.</div>"
   ]
  },
  {
   "cell_type": "code",
   "execution_count": null,
   "metadata": {
    "slideshow": {
     "slide_type": "slide"
    }
   },
   "outputs": [],
   "source": [
    "\n",
    "\n"
   ]
  },
  {
   "cell_type": "markdown",
   "metadata": {
    "slideshow": {
     "slide_type": "slide"
    }
   },
   "source": [
    "<div style=\"text-align: justify\">We may write the following script to generate data for\n",
    "classification.</div>"
   ]
  },
  {
   "cell_type": "code",
   "execution_count": null,
   "metadata": {
    "slideshow": {
     "slide_type": "slide"
    }
   },
   "outputs": [],
   "source": []
  },
  {
   "cell_type": "markdown",
   "metadata": {
    "slideshow": {
     "slide_type": "slide"
    }
   },
   "source": [
    "<div style=\"text-align: justify\">We initialize the logistic regression model and use it for training\n",
    "by specifying input and output variables as follows.</div>"
   ]
  },
  {
   "cell_type": "code",
   "execution_count": null,
   "metadata": {
    "slideshow": {
     "slide_type": "slide"
    }
   },
   "outputs": [],
   "source": []
  },
  {
   "cell_type": "markdown",
   "metadata": {
    "slideshow": {
     "slide_type": "slide"
    }
   },
   "source": [
    "<div style=\"text-align: justify\">The output shows the details of the logistic regression model.\n",
    "For example, the solver liblinear is used to solve large-scale\n",
    "linear classification problems, and the parameter max_iter\n",
    "tells that the algorithm takes a maximum of 100 iterations to\n",
    "solve for the parameters of the model.</div>"
   ]
  },
  {
   "cell_type": "markdown",
   "metadata": {
    "slideshow": {
     "slide_type": "slide"
    }
   },
   "source": [
    "<div style=\"text-align: justify\">To print various attributes of the model, we may write the\n",
    "following script.</div>"
   ]
  },
  {
   "cell_type": "code",
   "execution_count": null,
   "metadata": {
    "slideshow": {
     "slide_type": "slide"
    }
   },
   "outputs": [],
   "source": [
    "#the attribute .classes_ represents the array of distinct values that y takes:\n"
   ]
  },
  {
   "cell_type": "markdown",
   "metadata": {
    "slideshow": {
     "slide_type": "slide"
    }
   },
   "source": [
    "<div style=\"text-align: justify\">We have used the <b>“classification_report”</b> from <b>sklearn.metrics</b>\n",
    "to get the details of the performance of the logistic regression\n",
    "model. We discuss these details later on.</div>\n",
    "\n",
    "<br>\n",
    "\n",
    "<div style=\"text-align: justify\">To visualize the output, we plot the confusion matrix that\n",
    "summarizes the performance of the model to classify various\n",
    "observations belonging to different classes.</div>"
   ]
  },
  {
   "cell_type": "code",
   "execution_count": null,
   "metadata": {
    "slideshow": {
     "slide_type": "slide"
    }
   },
   "outputs": [],
   "source": []
  },
  {
   "cell_type": "markdown",
   "metadata": {
    "slideshow": {
     "slide_type": "slide"
    }
   },
   "source": [
    "<div style=\"text-align: justify\">The entries on the diagonal of the confusion matrix indicate\n",
    "correct predictions. For example, in the previous output, 3 class\n",
    "0 examples and 6 class 1 examples are correctly predicted by the logistic regression model. However, one example of class\n",
    "0, shown in the top right of the confusion matrix, is incorrectly\n",
    "predicted as a class 1 example by the model.</div>"
   ]
  },
  {
   "cell_type": "markdown",
   "metadata": {
    "slideshow": {
     "slide_type": "slide"
    }
   },
   "source": [
    "<div style=\"text-align: justify\"><b>Advantages and Applicability:</b> Logistic regression is easy to\n",
    "implement and interpret. It is used to predict the dependent\n",
    "output variable when it is categorical instead of continuous.\n",
    "Since logistic regression is based upon linear regression, it\n",
    "generates a linear boundary between classes. Thus, it performs\n",
    "well when the classes are linearly separable. Since logistic\n",
    "regression is fast and easy to implement, it is usually used as\n",
    "a benchmark model.</div>\n",
    "\n",
    "<br>\n",
    "\n",
    "<div style=\"text-align: justify\">The output of a logistic function varies between 0 and 1. Thus,\n",
    "the output of a logistic regression model can be considered\n",
    "as a probability that gives us confidence about the predicted\n",
    "class.</div>"
   ]
  },
  {
   "cell_type": "markdown",
   "metadata": {
    "slideshow": {
     "slide_type": "slide"
    }
   },
   "source": [
    "<div style=\"text-align: justify\"><b>Limitations:</b> The main limitation of the logistic regression\n",
    "model is the assumption of linearly separable classes. It\n",
    "performs poorly when the classes are not linearly separable.\n",
    "A non-linear function may be used in the exponent of the\n",
    "logistic function to cope with this situation.</div>\n",
    "\n",
    "<br>\n",
    "\n",
    "<div style=\"text-align: justify\">Logistic regression requires the features to be independent\n",
    "of each other. It performs poorly when two or more features\n",
    "have a high correlation. Dimensionality reduction techniques\n",
    "discussed later in this chapter can be used to remove/transform\n",
    "the dependent features to get independent features.</div>"
   ]
  },
  {
   "cell_type": "markdown",
   "metadata": {
    "slideshow": {
     "slide_type": "slide"
    }
   },
   "source": []
  },
  {
   "cell_type": "code",
   "execution_count": null,
   "metadata": {},
   "outputs": [],
   "source": []
  }
 ],
 "metadata": {
  "celltoolbar": "Slideshow",
  "kernelspec": {
   "display_name": "Python 3 (ipykernel)",
   "language": "python",
   "name": "python3"
  },
  "language_info": {
   "codemirror_mode": {
    "name": "ipython",
    "version": 3
   },
   "file_extension": ".py",
   "mimetype": "text/x-python",
   "name": "python",
   "nbconvert_exporter": "python",
   "pygments_lexer": "ipython3",
   "version": "3.9.13"
  }
 },
 "nbformat": 4,
 "nbformat_minor": 4
}
