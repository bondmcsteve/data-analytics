{
 "cells": [
  {
   "cell_type": "markdown",
   "metadata": {
    "slideshow": {
     "slide_type": "slide"
    }
   },
   "source": [
    "# Supervised Learning: Regression\n",
    "\n",
    "<br>\n",
    "\n",
    "<div style=\"text-align: justify\">There are two main\n",
    "types of supervised learning: classification and regression. If\n",
    "the output labels have a continuous range of values, it is a\n",
    "regression problem (house prices problem).</div>\n",
    "\n",
    "<br>\n",
    "\n",
    "<div style=\"text-align: justify\">If the relationship between the input features and the output\n",
    "target variable is assumed to be linear, the regression would\n",
    "be linear. Otherwise, it would be non-linear. Here, we discuss\n",
    "linear regression that is more prevalent than its non-linear\n",
    "counterpart.</div>"
   ]
  },
  {
   "cell_type": "markdown",
   "metadata": {
    "slideshow": {
     "slide_type": "slide"
    }
   },
   "source": [
    "<div style=\"text-align: justify\">To implement linear regression in Python, we first import the\n",
    "libraries and packages.</div>"
   ]
  },
  {
   "cell_type": "code",
   "execution_count": 1,
   "metadata": {
    "scrolled": true,
    "slideshow": {
     "slide_type": "slide"
    }
   },
   "outputs": [],
   "source": []
  },
  {
   "cell_type": "markdown",
   "metadata": {
    "slideshow": {
     "slide_type": "slide"
    }
   },
   "source": [
    "<div style=\"text-align: justify\">To generate and prepare the data for linear regression, we\n",
    "type the following Python script:</div>"
   ]
  },
  {
   "cell_type": "code",
   "execution_count": null,
   "metadata": {
    "slideshow": {
     "slide_type": "slide"
    }
   },
   "outputs": [],
   "source": [
    "# Linear regression \n",
    "# generate random data of 100 samples\n",
    "# randomly generated samples are offset and multiplied"
   ]
  },
  {
   "cell_type": "markdown",
   "metadata": {
    "slideshow": {
     "slide_type": "slide"
    }
   },
   "source": [
    "<div style=\"text-align: justify\">We initialize the linear regression model and use it for training\n",
    "by specifying input and output variables as follows.</div>"
   ]
  },
  {
   "cell_type": "code",
   "execution_count": null,
   "metadata": {
    "slideshow": {
     "slide_type": "slide"
    }
   },
   "outputs": [],
   "source": [
    "# Linear Regression Model initialization\n",
    "\n",
    "# Fit the data(train the model)\n"
   ]
  },
  {
   "cell_type": "markdown",
   "metadata": {
    "slideshow": {
     "slide_type": "slide"
    }
   },
   "source": [
    "<div style=\"text-align: justify\">To predict the output values from the input x, and to evaluate\n",
    "the performance of the trained model, we use the following\n",
    "Python commands.</div>"
   ]
  },
  {
   "cell_type": "code",
   "execution_count": null,
   "metadata": {
    "slideshow": {
     "slide_type": "slide"
    }
   },
   "outputs": [],
   "source": [
    "# Predict\n",
    "\n",
    "\n",
    "# model evaluation\n"
   ]
  },
  {
   "cell_type": "markdown",
   "metadata": {
    "slideshow": {
     "slide_type": "slide"
    }
   },
   "source": [
    "<div style=\"text-align: justify\">The following section of the code displays the results, such as\n",
    "learned parameters. It also plots the learned model.</div>"
   ]
  },
  {
   "cell_type": "code",
   "execution_count": null,
   "metadata": {
    "slideshow": {
     "slide_type": "slide"
    }
   },
   "outputs": [],
   "source": [
    "# printing values\n",
    "\n",
    "\n",
    "\n",
    "# plotting values\n",
    "\n",
    "# data points\n",
    "\n",
    "\n",
    "# predicted values\n"
   ]
  },
  {
   "cell_type": "markdown",
   "metadata": {
    "slideshow": {
     "slide_type": "slide"
    }
   },
   "source": [
    "<div style=\"text-align: justify\">The regression model, regress_model, has coef_ and\n",
    "intercept_ attributes for the slope and the intercept.</div>\n",
    "\n",
    "<br>\n",
    "\n",
    "<div style=\"text-align: justify\">The red points in the aforementioned plot show the data\n",
    "points, whereas the blue line represents the linear model\n",
    "obtained by applying regression on the given data.</div>"
   ]
  },
  {
   "cell_type": "markdown",
   "metadata": {
    "slideshow": {
     "slide_type": "slide"
    }
   },
   "source": [
    "<div style=\"text-align: justify\">The widely used metrics to assess the performance of\n",
    "regression problems are the mean squared error (MSE), the\n",
    "root mean squared error (RMSE), and the mean absolute error\n",
    "(MAE). We have also calculated the root mean squared error\n",
    "(RMSE) of our model, which is 0.2684 for the generated data\n",
    "points.</div>"
   ]
  },
  {
   "cell_type": "markdown",
   "metadata": {
    "slideshow": {
     "slide_type": "slide"
    }
   },
   "source": [
    "<div style=\"text-align: justify\"><b>Advantages and Applicability:</b> Linear regression is easy to\n",
    "implement and efficient to train. It performs well when the\n",
    "actual relationship between input features and the output\n",
    "variable is linear. In the aforementioned example, where we\n",
    "applied linear regression, the relationship between the input\n",
    "and the output variable is almost linear. Thus, we get a small\n",
    "value of MSE.</div>"
   ]
  },
  {
   "cell_type": "markdown",
   "metadata": {
    "slideshow": {
     "slide_type": "slide"
    }
   },
   "source": [
    "<div style=\"text-align: justify\"><b>Limitations:</b> The main limitation of linear regression is the\n",
    "assumption of linearity between the dependent variable and\n",
    "the independent variables. In the real world, features may\n",
    "not be linearly related to the output variable. In this case, we\n",
    "have to use non-linear regression to model our dataset. Linear\n",
    "regression performs poorly when there are outliers in the data.\n",
    "Outliers should be removed from the dataset before applying\n",
    "linear regression.</div>"
   ]
  },
  {
   "cell_type": "code",
   "execution_count": null,
   "metadata": {},
   "outputs": [],
   "source": []
  }
 ],
 "metadata": {
  "celltoolbar": "Slideshow",
  "kernelspec": {
   "display_name": "Python 3 (ipykernel)",
   "language": "python",
   "name": "python3"
  },
  "language_info": {
   "codemirror_mode": {
    "name": "ipython",
    "version": 3
   },
   "file_extension": ".py",
   "mimetype": "text/x-python",
   "name": "python",
   "nbconvert_exporter": "python",
   "pygments_lexer": "ipython3",
   "version": "3.9.13"
  }
 },
 "nbformat": 4,
 "nbformat_minor": 4
}
