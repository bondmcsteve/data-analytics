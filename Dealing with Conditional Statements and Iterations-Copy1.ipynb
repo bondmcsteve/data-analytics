{
 "cells": [
  {
   "cell_type": "markdown",
   "metadata": {
    "slideshow": {
     "slide_type": "slide"
    }
   },
   "source": [
    "# Dealing with Conditional Statements and Iterations\n",
    "\n",
    "<br>\n",
    "<div style=\"text-align: justify\">We have to control the flow of our program if we have to make\n",
    "decisions. We run a single line or a block of code if a condition\n",
    "is satisfied, and a different line or a block of code otherwise.\n",
    "To make decisions in Python, we have conditional statements\n",
    "given as:</div>\n",
    "\n",
    "1. if,\n",
    "2. elif, and\n",
    "3. else\n",
    "\n",
    "<div style=\"text-align: justify\"><i>If</i> statement can be used alone; however, both <i>elif</i> and <i>else</i>\n",
    "    statements are accompanied by an <i>if</i> statement. The details\n",
    "of these statements and their usage are given in the following\n",
    "sections.</div>\n",
    "\n",
    "## If, Elif, and Else Statements\n",
    "<br>\n",
    "\n",
    "<div style=\"text-align: justify\"><i>If</i> statement is the simplest example of a conditional statement.\n",
    "The syntax of this statement is:</div>\n",
    "<br>\n",
    "<div>if(condition):</div>\n",
    "&nbsp;&nbsp;&nbsp;&nbsp;<t>Statement1</t>\n",
    "<br>\n",
    "<br>\n",
    "<div style=\"text-align: justify\">Statement1 following the if statement is indented. We can have\n",
    "more indented statements after the Statement1. Statements\n",
    "indented the same amount after the colon (:) are run whenever\n",
    "the condition is True. When the condition is False, Statement1\n",
    "and the following indented statements, if present, are not\n",
    "executed. The flowchart of an if statement is given in figure below</div>\n",
    "\n",
    "<br>\n",
    "<img src=\"Images/ifflowchart.png\" style=\"margin:auto\"/>\n",
    "\n",
    "<br>\n",
    "<div style=\"text-align: justify\">As an example, when we record marks obtained by students\n",
    "in a particular subject, total marks should not exceed 100.\n",
    "We shall display a warning or an error message when, due\n",
    "to some error, marks of a student exceed 100. Python script\n",
    "incorporating an if statement would be as follows:</div>"
   ]
  },
  {
   "cell_type": "code",
   "execution_count": 1,
   "metadata": {
    "slideshow": {
     "slide_type": "slide"
    }
   },
   "outputs": [
    {
     "name": "stdout",
     "output_type": "stream",
     "text": [
      "Invalid marks.\n"
     ]
    }
   ],
   "source": [
    "obtained_marks = 120\n",
    "if(obtained_marks > 100):\n",
    "    print(\"Invalid marks.\")\n"
   ]
  },
  {
   "cell_type": "markdown",
   "metadata": {
    "slideshow": {
     "slide_type": "slide"
    }
   },
   "source": [
    "<div style=\"text-align: justify\">The colon (:) after if(obtained_marks>100) is important\n",
    "because it separates our condition from the statements to be\n",
    "run after the condition is evaluated. The condition inside if()\n",
    "is evaluated; it returns True if the condition is met, and False\n",
    "if the condition is not met. We can use conditional, arithmetic,\n",
    "and other operators to design a condition. We can also use\n",
    "the value of a variable input by a user to form a condition. For\n",
    "example, we can ask the user to enter the obtained_marks of\n",
    "a student.</div>"
   ]
  },
  {
   "cell_type": "code",
   "execution_count": 2,
   "metadata": {
    "slideshow": {
     "slide_type": "slide"
    }
   },
   "outputs": [
    {
     "name": "stdout",
     "output_type": "stream",
     "text": [
      "Input marks of a student\n",
      "90\n"
     ]
    }
   ],
   "source": [
    "print('Input marks of a student')\n",
    "obtained_marks = int(input())\n",
    "if(obtained_marks > 100):\n",
    "   \tprint(\"Invalid marks.\")\n"
   ]
  },
  {
   "cell_type": "markdown",
   "metadata": {
    "slideshow": {
     "slide_type": "slide"
    }
   },
   "source": [
    "<div style=\"text-align: justify\">Note that the input() function takes the input from the user\n",
    "and saves it as a string. We use int(input()) to convert the\n",
    "string to an integer. Now, if we run this program and enter any\n",
    "value greater than 100, we get a warning “Invalid marks.” If\n",
    "the marks entered by a user are 100 or less, we do not get any\n",
    "warning message.</div>\n"
   ]
  },
  {
   "cell_type": "markdown",
   "metadata": {
    "slideshow": {
     "slide_type": "slide"
    }
   },
   "source": [
    "## else Statement\n",
    "\n",
    "<br>\n",
    "<div style=\"text-align: justify\">The <i>else</i> statement is never used alone, it always comes with\n",
    "an associated if statement, i.e., if-else. The syntax of the if-else\n",
    "statements is given below.</div>\n",
    "<br>\n",
    "<div>if(condition):</div>\n",
    "&nbsp;&nbsp;&nbsp;&nbsp;<t>Indented statement(s) when condition is True</t>\n",
    "<div>else:</div>\n",
    "&nbsp;&nbsp;&nbsp;&nbsp;<t>Indented statement(s) when condition is not True (False)</t>\n",
    "<br>\n",
    "<br>\n",
    "<div style=\"text-align: justify\">As an example, we want to display the message “Excellent,”\n",
    "if the obtained_marks by a student are 80 or greater. We\n",
    "display the message “Not excellent,” otherwise.</div>\n",
    "\n",
    "\n",
    "<br>\n",
    "<img src=\"Images/ifelseflowchart.png\" style=\"margin:auto\"/>\n"
   ]
  },
  {
   "cell_type": "code",
   "execution_count": 3,
   "metadata": {
    "slideshow": {
     "slide_type": "slide"
    }
   },
   "outputs": [
    {
     "name": "stdout",
     "output_type": "stream",
     "text": [
      "Input marks of a student\n",
      "90\n",
      "Excellent\n"
     ]
    }
   ],
   "source": [
    "print('Input marks of a student')\n",
    "obtained_marks = int(input())\n",
    "if(obtained_marks >= 80):\n",
    "    print(\"Excellent\")\n",
    "else:\n",
    "    print(\"Not excellent\")\n"
   ]
  },
  {
   "cell_type": "markdown",
   "metadata": {
    "slideshow": {
     "slide_type": "slide"
    }
   },
   "source": [
    "## Nested Decision\n",
    "\n",
    "\n",
    "<br>\n",
    "<div style=\"text-align: justify\">Multiple tests are to be performed to perform complex\n",
    "decisions. Python allows us to perform these tests via nested decisions. The Python statement to perform nested decisions\n",
    "    is an <i>if-elif-else</i> statement. Suppose we want to display a\n",
    "warning if the marks of a student are greater than 100 or less\n",
    "than 0. Furthermore, we want to show the remarks as follows:</div>\n",
    "\n",
    "\n",
    "- Excellent: Marks are 80 or greater.\n",
    "- Not excellent: Marks are less than 80.\n",
    "\n",
    "\n",
    "<br>\n",
    "<img src=\"Images/ifelifelseflowchart.png\" style=\"margin:auto\"/>"
   ]
  },
  {
   "cell_type": "code",
   "execution_count": 4,
   "metadata": {
    "slideshow": {
     "slide_type": "slide"
    }
   },
   "outputs": [
    {
     "name": "stdout",
     "output_type": "stream",
     "text": [
      "Input marks of a student\n",
      "79\n"
     ]
    }
   ],
   "source": [
    "print('Input marks of a student')\n",
    "obtained_marks = int(input())\n",
    "if(obtained_marks > 100 or obtained_marks < 0):\n",
    "    print(\"Invalid marks.\")\n"
   ]
  },
  {
   "cell_type": "markdown",
   "metadata": {
    "slideshow": {
     "slide_type": "slide"
    }
   },
   "source": [
    "## Switch Statement\n",
    "\n",
    "<br>\n",
    "<div style=\"text-align: justify\">To make several decisions, we can use if, if-else, or if-elif-else\n",
    "statements. However, in this case, it is more convenient to use\n",
    "the switch statement. Its syntax is given as</div>\n",
    "\n",
    "<br>\n",
    "<img src=\"Images/switch.png\" style=\"margin:auto\"/>\n",
    "\n",
    "<br>\n",
    "<div style=\"text-align: justify\">As an example, if we want to display one of seven days of a\n",
    "week, we type the following.</div>"
   ]
  },
  {
   "cell_type": "code",
   "execution_count": null,
   "metadata": {
    "slideshow": {
     "slide_type": "slide"
    }
   },
   "outputs": [],
   "source": [
    "switch = {\n",
    "    1: 'Monday',\n",
    "    2: 'Tuesday',\n",
    "    3: 'Wednesday',\n",
    "    4: 'Thursday',\n",
    "    5: 'Friday',\n",
    "    6: 'Saturday',\n",
    "    7: 'Sunday'\n",
    "    }\n",
    "switch.get(5)\n"
   ]
  },
  {
   "cell_type": "markdown",
   "metadata": {
    "slideshow": {
     "slide_type": "slide"
    }
   },
   "source": [
    "<br>\n",
    "<div style=\"text-align: justify\">As an example, if we want to display one of seven days of a\n",
    "week, we type the following.The output of the aforementioned Python script is ‘Friday,’\n",
    "because case 5 corresponds to Friday. The aforementioned\n",
    "method to implement the switch case statement uses a\n",
    "dictionary. We shall go into the details of the dictionary, that\n",
    "is, a collection of multiple items in the subsequent topics.</div>"
   ]
  },
  {
   "cell_type": "markdown",
   "metadata": {
    "slideshow": {
     "slide_type": "slide"
    }
   },
   "source": [
    "## For Loop\n",
    "\n",
    "<br>\n",
    "<div style=\"text-align: justify\">Sometimes, we need to perform a task more than once. To this\n",
    "end, we use iteration statements of Python. When we have\n",
    "to perform a task a specific number of times, we use a <i>for</i>\n",
    "    loop statement. This loop has a definite beginning and end.\n",
    "    The number of times a <i>for</i> loop executes depends upon the\n",
    "number of elements in the variable we provide as an input to\n",
    "    the loop. The syntax of a <i>for</i> loop is as follows.</div>\n",
    "    \n",
    "<br>\n",
    "<img src=\"Images/forloop.png\" style=\"margin:auto\"/>    "
   ]
  },
  {
   "cell_type": "markdown",
   "metadata": {
    "slideshow": {
     "slide_type": "slide"
    }
   },
   "source": [
    "<div style=\"text-align: justify\">Note the Statement(s) to be executed in the body of the <i>for</i>\n",
    "    loop are indented. The loop_variable used inside the <i>for</i> loop\n",
    "    and the number of times the <i>for</i> loop runs depends upon the\n",
    "    input_variable. To observe how the <i>for loop</i> works, type the\n",
    "following code:</div>"
   ]
  },
  {
   "cell_type": "code",
   "execution_count": null,
   "metadata": {
    "slideshow": {
     "slide_type": "slide"
    }
   },
   "outputs": [],
   "source": [
    "\n"
   ]
  },
  {
   "cell_type": "markdown",
   "metadata": {
    "slideshow": {
     "slide_type": "slide"
    }
   },
   "source": [
    "<div style=\"text-align: justify\">In this example, fruits is the input_variable to the <i>for</i> loop,\n",
    "which is a list of three fruit items. The loop runs for three\n",
    "iterations because the number of items stored in the variable\n",
    "fruits is three.</div>\n",
    "\n",
    "<br>\n",
    "<div style=\"text-align: justify\">A useful function range() is used in a for loop that can\n",
    "generate a sequence of numbers. For example, range(10) will\n",
    "generate numbers from 0 to 9 (10 numbers). The following\n",
    "code generates the first 10 numbers.</div>"
   ]
  },
  {
   "cell_type": "code",
   "execution_count": null,
   "metadata": {
    "slideshow": {
     "slide_type": "slide"
    }
   },
   "outputs": [],
   "source": [
    "for j in range(10):\n",
    "    print(j)\n"
   ]
  },
  {
   "cell_type": "markdown",
   "metadata": {
    "slideshow": {
     "slide_type": "slide"
    }
   },
   "source": [
    "<div style=\"text-align: justify\">Another example, where the step size is other than 1 is as\n",
    "follows:</div>"
   ]
  },
  {
   "cell_type": "code",
   "execution_count": null,
   "metadata": {
    "slideshow": {
     "slide_type": "slide"
    }
   },
   "outputs": [],
   "source": [
    "#In range(2, 10, 3), 3 is the step size\n",
    "\n",
    "for x in range(2, 10, 3):\n",
    "    print(x)\n"
   ]
  },
  {
   "cell_type": "markdown",
   "metadata": {
    "slideshow": {
     "slide_type": "slide"
    }
   },
   "source": [
    "<div style=\"text-align: justify\">Two useful statements:</div>\n",
    "\n",
    "1. break and\n",
    "2. continue\n",
    "\n",
    "<br>\n",
    "<div style=\"text-align: justify\">are often used inside iteration statements. The former\n",
    "statement breaks the execution of the loop and forces the\n",
    "control to come out of the loop. The latter statement skips all\n",
    "the statements of the for loop following the keyword continue.\n",
    "Their usage is best illustrated by the following example:</div>\n"
   ]
  },
  {
   "cell_type": "code",
   "execution_count": null,
   "metadata": {
    "slideshow": {
     "slide_type": "slide"
    }
   },
   "outputs": [],
   "source": [
    "fruits = [\"pineapple\", \"orange\", \"banana\", \"melon\",\"dates\"]\n",
    "for k in fruits:\n",
    "    if k == \"banana\":\n",
    "        continue\n",
    "    print(k)\n",
    "    if k == \"melon\":\n",
    "        break\n"
   ]
  },
  {
   "cell_type": "markdown",
   "metadata": {
    "slideshow": {
     "slide_type": "slide"
    }
   },
   "source": [
    "<div style=\"text-align: justify\">The word banana is not printed by this code because the\n",
    "    <i>continue</i> statement runs when the value of k equals banana.\n",
    "Note that print(k) statement is not in the body of if because it\n",
    "    is not indented with <i>i</i>f statement. Furthermore, when k equals\n",
    "melon, the code breaks right after it has printed the word\n",
    "    melon. Interestingly, <i>for</i> loop can be used with else statement\n",
    "to indicate the end of the loop as in the following code:</div>"
   ]
  },
  {
   "cell_type": "code",
   "execution_count": null,
   "metadata": {
    "slideshow": {
     "slide_type": "slide"
    }
   },
   "outputs": [],
   "source": [
    "numbers = [0, 1, 2, 3, 4, 5]\n",
    "for i in numbers:\n",
    "    print(i)\n",
    "else:\n",
    "    print(\"No items left.\")\n"
   ]
  },
  {
   "cell_type": "markdown",
   "metadata": {
    "slideshow": {
     "slide_type": "slide"
    }
   },
   "source": [
    "## While Loop\n",
    "\n",
    "<br>\n",
    "<div style=\"text-align: justify\">The second commonly used iteration statement is <i>while</i> loop,\n",
    "which iteratively executes a certain piece of code until a\n",
    "condition or multiple conditions are met. The syntax of the\n",
    "    <i>while</i> loop is as follows.</div>\n",
    "    \n",
    "<br>\n",
    "while (condition):\n",
    "<br>\n",
    "Statement(s) to be executed in the while loop\n",
    "<br>\n",
    "<br>\n",
    "<div style=\"text-align: justify\">As an example, we want to add natural numbers from 1 to 10.\n",
    "    We may use a <i>while</i> loop as follows:</div>"
   ]
  },
  {
   "cell_type": "code",
   "execution_count": null,
   "metadata": {
    "slideshow": {
     "slide_type": "slide"
    }
   },
   "outputs": [],
   "source": [
    "# Program to add natural numbers provided by the user. \n",
    "n = int(input(\"Enter an integer = \"))\n",
    "# initialize sum to 0 and a variable k as a counter\n",
    "sum = 0\n",
    "k = 1\n",
    "while k <= n:\n",
    "    sum = sum + k\n",
    "    k = k+1    # update counter\n",
    "print(\"The sum of first\", n, \"natural number is=\", sum)\n"
   ]
  },
  {
   "cell_type": "markdown",
   "metadata": {
    "slideshow": {
     "slide_type": "slide"
    }
   },
   "source": [
    "<div style=\"text-align: justify\">When we run this program, we are asked to enter a natural\n",
    "number. We get a sum of 6 when we enter 3, and a sum of 55\n",
    "if we enter 10. We get an error if the entered number is not of\n",
    "type int.</div>"
   ]
  },
  {
   "cell_type": "markdown",
   "metadata": {
    "slideshow": {
     "slide_type": "slide"
    }
   },
   "source": [
    "## Nested Loops\n",
    "\n",
    "<br>\n",
    "<div style=\"text-align: justify\">Both <i>for</i> and <i>while</i> loops can be used inside each other. This is\n",
    "called nested loops, which are used to work in 2-dimensions.\n",
    "For example, if we have two variables, and we want to print\n",
    "all the combinations of these variables together, we may write\n",
    "    the following program that uses two <i>for</i> loops, one nested\n",
    "inside another.</div>"
   ]
  },
  {
   "cell_type": "code",
   "execution_count": null,
   "metadata": {
    "slideshow": {
     "slide_type": "slide"
    }
   },
   "outputs": [],
   "source": [
    "properties = [\"red\", \"round\", \"tasty\"]\n",
    "fruits = [\"apple\", \"orange\", \"banana\"]\n",
    "for j in properties:\n",
    "      for k in fruits:\n",
    "            print(j, k)\n"
   ]
  }
 ],
 "metadata": {
  "celltoolbar": "Slideshow",
  "kernelspec": {
   "display_name": "Python 3 (ipykernel)",
   "language": "python",
   "name": "python3"
  },
  "language_info": {
   "codemirror_mode": {
    "name": "ipython",
    "version": 3
   },
   "file_extension": ".py",
   "mimetype": "text/x-python",
   "name": "python",
   "nbconvert_exporter": "python",
   "pygments_lexer": "ipython3",
   "version": "3.10.6"
  }
 },
 "nbformat": 4,
 "nbformat_minor": 4
}
