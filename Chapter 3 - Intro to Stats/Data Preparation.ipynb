{
 "cells": [
  {
   "cell_type": "code",
   "execution_count": null,
   "id": "627429a1",
   "metadata": {},
   "outputs": [],
   "source": [
    "Data Preparation \n"
   ]
  },
  {
   "cell_type": "code",
   "execution_count": 31,
   "id": "6945b3fb",
   "metadata": {},
   "outputs": [],
   "source": [
    "# Typical libraries used in Data Preparation\n",
    "\n",
    "import numpy as np\n",
    "import pandas as pd"
   ]
  },
  {
   "cell_type": "code",
   "execution_count": 32,
   "id": "e5052166",
   "metadata": {},
   "outputs": [
    {
     "data": {
      "text/plain": [
       "0     1\n",
       "1    -3\n",
       "2     5\n",
       "3    20\n",
       "dtype: int64"
      ]
     },
     "execution_count": 32,
     "metadata": {},
     "output_type": "execute_result"
    }
   ],
   "source": [
    "#Using Series() for Series data construction. Note that Series uses pandas library\n",
    "seriesdata = pd.Series([1, -3, 5, 20]) #Take note of the capital S since Python is case-sensitive\n",
    "seriesdata\n",
    "\n",
    "#Note that int64 means data types of values within 64-bit"
   ]
  },
  {
   "cell_type": "code",
   "execution_count": 33,
   "id": "156d2788",
   "metadata": {},
   "outputs": [
    {
     "data": {
      "text/plain": [
       "[1, -3, 5, 20]"
      ]
     },
     "execution_count": 33,
     "metadata": {},
     "output_type": "execute_result"
    }
   ],
   "source": [
    "#Comparison with list (using square bracket)\n",
    "myseries = [1, -3, 5, 20]\n",
    "myseries"
   ]
  },
  {
   "cell_type": "code",
   "execution_count": 34,
   "id": "a9dbc4e2",
   "metadata": {},
   "outputs": [
    {
     "data": {
      "text/plain": [
       "0     1\n",
       "1    -3\n",
       "2     5\n",
       "3    20\n",
       "dtype: int64"
      ]
     },
     "execution_count": 34,
     "metadata": {},
     "output_type": "execute_result"
    }
   ],
   "source": [
    "#Assigning the index on out own instead of pandas assigning it with initial '0'\n",
    "#The syntax is pd.Series([],index = [])\n",
    "\n",
    "seriesdata1 = pd.Series([1, -3, 5, 20], index = ['a', 'b', 'c', 'd'])\n",
    "seriesdata"
   ]
  },
  {
   "cell_type": "code",
   "execution_count": 35,
   "id": "41df889a",
   "metadata": {},
   "outputs": [
    {
     "data": {
      "text/plain": [
       "array([ 1, -3,  5, 20])"
      ]
     },
     "execution_count": 35,
     "metadata": {},
     "output_type": "execute_result"
    }
   ],
   "source": [
    "seriesdata1.values"
   ]
  },
  {
   "cell_type": "code",
   "execution_count": 36,
   "id": "4a399413",
   "metadata": {},
   "outputs": [
    {
     "data": {
      "text/plain": [
       "Index(['a', 'b', 'c', 'd'], dtype='object')"
      ]
     },
     "execution_count": 36,
     "metadata": {},
     "output_type": "execute_result"
    }
   ],
   "source": [
    "seriesdata1.index"
   ]
  },
  {
   "cell_type": "code",
   "execution_count": 37,
   "id": "70188d5b",
   "metadata": {},
   "outputs": [
    {
     "data": {
      "text/plain": [
       "5"
      ]
     },
     "execution_count": 37,
     "metadata": {},
     "output_type": "execute_result"
    }
   ],
   "source": [
    "seriesdata1[2]"
   ]
  },
  {
   "cell_type": "code",
   "execution_count": 38,
   "id": "6aba686b",
   "metadata": {},
   "outputs": [
    {
     "data": {
      "text/plain": [
       "a    1\n",
       "b   -3\n",
       "dtype: int64"
      ]
     },
     "execution_count": 38,
     "metadata": {},
     "output_type": "execute_result"
    }
   ],
   "source": [
    "seriesdata1[0:2]"
   ]
  },
  {
   "cell_type": "code",
   "execution_count": 39,
   "id": "d6f7361b",
   "metadata": {},
   "outputs": [
    {
     "data": {
      "text/plain": [
       "5"
      ]
     },
     "execution_count": 39,
     "metadata": {},
     "output_type": "execute_result"
    }
   ],
   "source": [
    "seriesdata1['c']"
   ]
  },
  {
   "cell_type": "code",
   "execution_count": 41,
   "id": "e2cdbaf6",
   "metadata": {},
   "outputs": [
    {
     "data": {
      "text/plain": [
       "a    1\n",
       "b   -3\n",
       "c    5\n",
       "dtype: int64"
      ]
     },
     "execution_count": 41,
     "metadata": {},
     "output_type": "execute_result"
    }
   ],
   "source": [
    "seriesdata1['a':'c']"
   ]
  },
  {
   "cell_type": "code",
   "execution_count": 43,
   "id": "eb64ddcb",
   "metadata": {},
   "outputs": [
    {
     "data": {
      "text/plain": [
       "a    1\n",
       "c    5\n",
       "dtype: int64"
      ]
     },
     "execution_count": 43,
     "metadata": {},
     "output_type": "execute_result"
    }
   ],
   "source": [
    "seriesdata1[['a','c']]"
   ]
  },
  {
   "cell_type": "code",
   "execution_count": 45,
   "id": "6c9f5517",
   "metadata": {},
   "outputs": [
    {
     "data": {
      "text/plain": [
       "a     2\n",
       "b    -3\n",
       "c     6\n",
       "d    20\n",
       "dtype: int64"
      ]
     },
     "execution_count": 45,
     "metadata": {},
     "output_type": "execute_result"
    }
   ],
   "source": [
    "seriesdata1[0] = 2\n",
    "seriesdata1\n",
    "\n",
    "seriesdata1['c'] = 6\n",
    "seriesdata1"
   ]
  },
  {
   "cell_type": "code",
   "execution_count": 46,
   "id": "24c7e2ff",
   "metadata": {},
   "outputs": [
    {
     "data": {
      "text/plain": [
       "array([1, 2, 3, 4])"
      ]
     },
     "execution_count": 46,
     "metadata": {},
     "output_type": "execute_result"
    }
   ],
   "source": [
    "myarray = np.array([1, 2, 3, 4])\n",
    "myarray"
   ]
  },
  {
   "cell_type": "code",
   "execution_count": 49,
   "id": "fbc8fa0f",
   "metadata": {},
   "outputs": [
    {
     "data": {
      "text/plain": [
       "0    1\n",
       "1    2\n",
       "2    3\n",
       "3    4\n",
       "dtype: int64"
      ]
     },
     "execution_count": 49,
     "metadata": {},
     "output_type": "execute_result"
    }
   ],
   "source": [
    "myarray = np.array([1, 2, 3, 4])\n",
    "myarray\n",
    "\n",
    "myseries2 = pd.Series(myarray)\n",
    "myseries2"
   ]
  },
  {
   "cell_type": "code",
   "execution_count": 51,
   "id": "c39ec1b3",
   "metadata": {},
   "outputs": [
    {
     "data": {
      "text/plain": [
       "3    4\n",
       "dtype: int64"
      ]
     },
     "execution_count": 51,
     "metadata": {},
     "output_type": "execute_result"
    }
   ],
   "source": [
    "myseries2[myseries2 > 3] #Remember that the inside of square bracket denotes labels or order. \n",
    "\n",
    "#In this case, we look for value larger than 3"
   ]
  },
  {
   "cell_type": "code",
   "execution_count": 52,
   "id": "ee898552",
   "metadata": {},
   "outputs": [
    {
     "data": {
      "text/plain": [
       "0    0.000000\n",
       "1    0.693147\n",
       "2    1.098612\n",
       "3    1.386294\n",
       "dtype: float64"
      ]
     },
     "execution_count": 52,
     "metadata": {},
     "output_type": "execute_result"
    }
   ],
   "source": [
    "#Using logarithmic function with natural base e\n",
    "#Documentation: https://numpy.org/doc/stable/reference/generated/numpy.log.html\n",
    "\n",
    "np.log(myseries2)"
   ]
  },
  {
   "cell_type": "code",
   "execution_count": 57,
   "id": "56a42e16",
   "metadata": {},
   "outputs": [
    {
     "data": {
      "text/plain": [
       "white     1\n",
       "black     2\n",
       "blue      3\n",
       "green     4\n",
       "yellow    5\n",
       "green     4\n",
       "blue      3\n",
       "black     2\n",
       "dtype: int64"
      ]
     },
     "execution_count": 57,
     "metadata": {},
     "output_type": "execute_result"
    }
   ],
   "source": [
    "mycolors = pd.Series([1,2,3,4,5,4,3,2], index = ['white', 'black', 'blue', 'green','yellow', 'green', 'blue', 'black'])\n",
    "mycolors"
   ]
  },
  {
   "cell_type": "code",
   "execution_count": 58,
   "id": "5d0c5ac2",
   "metadata": {},
   "outputs": [
    {
     "data": {
      "text/plain": [
       "array([1, 2, 3, 4, 5])"
      ]
     },
     "execution_count": 58,
     "metadata": {},
     "output_type": "execute_result"
    }
   ],
   "source": [
    "#Print out the unique values (no duplicates)\n",
    "mycolors.unique()"
   ]
  },
  {
   "cell_type": "code",
   "execution_count": 59,
   "id": "2406eafe",
   "metadata": {},
   "outputs": [
    {
     "data": {
      "text/plain": [
       "<bound method IndexOpsMixin.value_counts of white     1\n",
       "black     2\n",
       "blue      3\n",
       "green     4\n",
       "yellow    5\n",
       "green     4\n",
       "blue      3\n",
       "black     2\n",
       "dtype: int64>"
      ]
     },
     "execution_count": 59,
     "metadata": {},
     "output_type": "execute_result"
    }
   ],
   "source": [
    "mycolors.value_counts"
   ]
  },
  {
   "cell_type": "code",
   "execution_count": 65,
   "id": "07e91a6f",
   "metadata": {},
   "outputs": [
    {
     "data": {
      "text/plain": [
       "white     False\n",
       "black     False\n",
       "blue      False\n",
       "green     False\n",
       "yellow     True\n",
       "green     False\n",
       "blue      False\n",
       "black     False\n",
       "dtype: bool"
      ]
     },
     "execution_count": 65,
     "metadata": {},
     "output_type": "execute_result"
    }
   ],
   "source": [
    "#Determining if the values '5' and '7' are within the array entries\n",
    "\n",
    "mycolors.isin([5,7])"
   ]
  },
  {
   "cell_type": "code",
   "execution_count": 69,
   "id": "fbe16887",
   "metadata": {},
   "outputs": [
    {
     "data": {
      "text/plain": [
       "yellow    5\n",
       "dtype: int64"
      ]
     },
     "execution_count": 69,
     "metadata": {},
     "output_type": "execute_result"
    }
   ],
   "source": [
    "#Replacing the entries with Boolean value out of isin() command\n",
    "\n",
    "mycolors[mycolors.isin([5,7])]"
   ]
  },
  {
   "cell_type": "code",
   "execution_count": 72,
   "id": "a6e9f9b5",
   "metadata": {},
   "outputs": [
    {
     "data": {
      "text/plain": [
       "white     10\n",
       "black     15\n",
       "red       30\n",
       "yellow    40\n",
       "dtype: int64"
      ]
     },
     "execution_count": 72,
     "metadata": {},
     "output_type": "execute_result"
    }
   ],
   "source": [
    "mydict = {\n",
    "    \"white\":10,\n",
    "    \"black\":15,\n",
    "    \"red\":30,\n",
    "    \"yellow\":40\n",
    "}\n",
    "\n",
    "myseries3 = pd.Series(mydict)\n",
    "myseries3"
   ]
  },
  {
   "cell_type": "code",
   "execution_count": null,
   "id": "4fbf6514",
   "metadata": {},
   "outputs": [],
   "source": []
  }
 ],
 "metadata": {
  "kernelspec": {
   "display_name": "Python 3 (ipykernel)",
   "language": "python",
   "name": "python3"
  },
  "language_info": {
   "codemirror_mode": {
    "name": "ipython",
    "version": 3
   },
   "file_extension": ".py",
   "mimetype": "text/x-python",
   "name": "python",
   "nbconvert_exporter": "python",
   "pygments_lexer": "ipython3",
   "version": "3.10.6"
  }
 },
 "nbformat": 4,
 "nbformat_minor": 5
}
