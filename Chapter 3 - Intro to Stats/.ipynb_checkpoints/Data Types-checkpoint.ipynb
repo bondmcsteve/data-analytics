{
 "cells": [
  {
   "cell_type": "markdown",
   "id": "9ef06ca7",
   "metadata": {},
   "source": [
    "# Types of Data\n",
    "## A. Qualitative Data\n",
    "### 1. Nominal Data\n",
    "### 2. Ordinal Data\n",
    "## B. Quantitative Data\n",
    "### 1. Discrete Data\n",
    "### 2. Continuous Data"
   ]
  },
  {
   "cell_type": "markdown",
   "id": "ca32bbe6",
   "metadata": {},
   "source": [
    "Some readings\n",
    "1. 4 Types Of Data – Nominal, Ordinal, Discrete and Continuous - https://www.mygreatlearning.com/blog/types-of-data/"
   ]
  },
  {
   "cell_type": "code",
   "execution_count": 8,
   "id": "f8717442",
   "metadata": {},
   "outputs": [
    {
     "name": "stdout",
     "output_type": "stream",
     "text": [
      "Monday      1\n",
      "Tuesday     2\n",
      "Wednesday   3\n",
      "Thursday    4\n",
      "Friday      5\n",
      "Saturday    6\n",
      "Sunday      7\n"
     ]
    }
   ],
   "source": [
    "#Open days_of_week.txt file\n",
    "\n",
    "myfile = open(\"days_of_week.txt\",\"r\")\n",
    "print(myfile.read())\n"
   ]
  },
  {
   "cell_type": "code",
   "execution_count": 13,
   "id": "7019c4a3",
   "metadata": {},
   "outputs": [
    {
     "name": "stdout",
     "output_type": "stream",
     "text": [
      "M\n"
     ]
    }
   ],
   "source": [
    "#Open days_of_week.txt file but only the first char the txt file\n",
    "\n",
    "myfile = open(\"days_of_week.txt\",\"r\")\n",
    "print(myfile.read(1))"
   ]
  },
  {
   "cell_type": "code",
   "execution_count": 26,
   "id": "0557e334",
   "metadata": {},
   "outputs": [
    {
     "ename": "TypeError",
     "evalue": "read expected at most 1 argument, got 2",
     "output_type": "error",
     "traceback": [
      "\u001b[0;31m---------------------------------------------------------------------------\u001b[0m",
      "\u001b[0;31mTypeError\u001b[0m                                 Traceback (most recent call last)",
      "Cell \u001b[0;32mIn [26], line 4\u001b[0m\n\u001b[1;32m      1\u001b[0m \u001b[38;5;66;03m#Open days_of_week.txt file but only the first char the txt file\u001b[39;00m\n\u001b[1;32m      3\u001b[0m myfile \u001b[38;5;241m=\u001b[39m \u001b[38;5;28mopen\u001b[39m(\u001b[38;5;124m\"\u001b[39m\u001b[38;5;124mdays_of_week.txt\u001b[39m\u001b[38;5;124m\"\u001b[39m,\u001b[38;5;124m\"\u001b[39m\u001b[38;5;124mr\u001b[39m\u001b[38;5;124m\"\u001b[39m)\n\u001b[0;32m----> 4\u001b[0m \u001b[38;5;28mprint\u001b[39m(\u001b[43mmyfile\u001b[49m\u001b[38;5;241;43m.\u001b[39;49m\u001b[43mread\u001b[49m\u001b[43m(\u001b[49m\u001b[38;5;241;43m1\u001b[39;49m\u001b[43m,\u001b[49m\u001b[38;5;241;43m2\u001b[39;49m\u001b[43m)\u001b[49m)\n",
      "\u001b[0;31mTypeError\u001b[0m: read expected at most 1 argument, got 2"
     ]
    }
   ],
   "source": []
  },
  {
   "cell_type": "code",
   "execution_count": 20,
   "id": "ee289ced",
   "metadata": {},
   "outputs": [
    {
     "name": "stdout",
     "output_type": "stream",
     "text": [
      "Tuesday     2\n",
      "Wednesday   3\n",
      "Thursday    4\n",
      "Friday      5\n",
      "Saturday    6\n",
      "Sunday      7\n"
     ]
    }
   ],
   "source": [
    "myfile = open(\"days_of_week.txt\",\"r\")\n",
    "for k in myfile:\n",
    "    print(myfile.read())"
   ]
  },
  {
   "cell_type": "code",
   "execution_count": 25,
   "id": "07a46905",
   "metadata": {},
   "outputs": [
    {
     "name": "stdout",
     "output_type": "stream",
     "text": [
      "Monday      1\n",
      "\n",
      "Reading observation from our dataset: Monday      1\n",
      "\n",
      "Tuesday     2\n",
      "\n",
      "Reading observation from our dataset: Tuesday     2\n",
      "\n",
      "Wednesday   3\n",
      "\n",
      "Reading observation from our dataset: Wednesday   3\n",
      "\n",
      "Thursday    4\n",
      "\n",
      "Reading observation from our dataset: Thursday    4\n",
      "\n",
      "Friday      5\n",
      "\n",
      "Reading observation from our dataset: Friday      5\n",
      "\n",
      "Saturday    6\n",
      "\n",
      "Reading observation from our dataset: Saturday    6\n",
      "\n",
      "Sunday      7\n",
      "Reading observation from our dataset: Sunday      7\n"
     ]
    }
   ],
   "source": [
    "#Manipulating the output using counter when opening a txt file\n",
    "\n",
    "myfile = open(\"days_of_week.txt\",\"r\")\n",
    "\n",
    "for k in myfile:\n",
    "    print(k)\n",
    "    print(\"Reading observation from our dataset: \" + k)\n",
    "    "
   ]
  },
  {
   "cell_type": "code",
   "execution_count": null,
   "id": "f58dc566",
   "metadata": {},
   "outputs": [],
   "source": []
  }
 ],
 "metadata": {
  "kernelspec": {
   "display_name": "Python 3 (ipykernel)",
   "language": "python",
   "name": "python3"
  },
  "language_info": {
   "codemirror_mode": {
    "name": "ipython",
    "version": 3
   },
   "file_extension": ".py",
   "mimetype": "text/x-python",
   "name": "python",
   "nbconvert_exporter": "python",
   "pygments_lexer": "ipython3",
   "version": "3.10.6"
  }
 },
 "nbformat": 4,
 "nbformat_minor": 5
}
